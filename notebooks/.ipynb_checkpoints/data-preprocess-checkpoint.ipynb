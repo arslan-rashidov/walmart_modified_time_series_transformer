{
 "cells": [
  {
   "cell_type": "code",
   "execution_count": 165,
   "id": "2e3aa0d8",
   "metadata": {
    "scrolled": true
   },
   "outputs": [
    {
     "name": "stdout",
     "output_type": "stream",
     "text": [
      "Collecting scikit-learn\n",
      "  Downloading scikit_learn-1.3.2-cp38-cp38-macosx_12_0_arm64.whl.metadata (11 kB)\n",
      "Requirement already satisfied: numpy<2.0,>=1.17.3 in /Users/astonuser/anaconda3/envs/transformer_time_series_forecast/lib/python3.8/site-packages (from scikit-learn) (1.24.4)\n",
      "Collecting scipy>=1.5.0 (from scikit-learn)\n",
      "  Downloading scipy-1.10.1-cp38-cp38-macosx_12_0_arm64.whl (28.8 MB)\n",
      "\u001b[2K     \u001b[90m━━━━━━━━━━━━━━━━━━━━━━━━━━━━━━━━━━━━━━━\u001b[0m \u001b[32m28.8/28.8 MB\u001b[0m \u001b[31m524.5 kB/s\u001b[0m eta \u001b[36m0:00:00\u001b[0m00:01\u001b[0m00:02\u001b[0m\n",
      "\u001b[?25hCollecting joblib>=1.1.1 (from scikit-learn)\n",
      "  Downloading joblib-1.3.2-py3-none-any.whl.metadata (5.4 kB)\n",
      "Collecting threadpoolctl>=2.0.0 (from scikit-learn)\n",
      "  Downloading threadpoolctl-3.2.0-py3-none-any.whl.metadata (10.0 kB)\n",
      "Downloading scikit_learn-1.3.2-cp38-cp38-macosx_12_0_arm64.whl (9.4 MB)\n",
      "\u001b[2K   \u001b[90m━━━━━━━━━━━━━━━━━━━━━━━━━━━━━━━━━━━━━━━━\u001b[0m \u001b[32m9.4/9.4 MB\u001b[0m \u001b[31m657.6 kB/s\u001b[0m eta \u001b[36m0:00:00\u001b[0m00:01\u001b[0m00:01\u001b[0m\n",
      "\u001b[?25hDownloading joblib-1.3.2-py3-none-any.whl (302 kB)\n",
      "\u001b[2K   \u001b[90m━━━━━━━━━━━━━━━━━━━━━━━━━━━━━━━━━━━━━━━\u001b[0m \u001b[32m302.2/302.2 kB\u001b[0m \u001b[31m330.2 kB/s\u001b[0m eta \u001b[36m0:00:00\u001b[0m00:01\u001b[0m00:01\u001b[0m\n",
      "\u001b[?25hDownloading threadpoolctl-3.2.0-py3-none-any.whl (15 kB)\n",
      "Installing collected packages: threadpoolctl, scipy, joblib, scikit-learn\n",
      "Successfully installed joblib-1.3.2 scikit-learn-1.3.2 scipy-1.10.1 threadpoolctl-3.2.0\n"
     ]
    }
   ],
   "source": [
    "!pip install scikit-learn"
   ]
  },
  {
   "cell_type": "code",
   "execution_count": 1368,
   "id": "7205202c",
   "metadata": {},
   "outputs": [],
   "source": [
    "import pandas as pd\n",
    "import matplotlib.pyplot as plt\n",
    "import numpy as np\n",
    "\n",
    "from sklearn.preprocessing import MinMaxScaler\n",
    "from sklearn.preprocessing import QuantileTransformer\n",
    "from sklearn.preprocessing import LabelEncoder\n",
    "\n",
    "import torch\n",
    "import torch.nn as nn\n",
    "from torch.utils.data import Dataset, DataLoader\n",
    "from torch import nn, Tensor, IntTensor\n",
    "\n",
    "from typing import Tuple\n",
    "\n",
    "import time"
   ]
  },
  {
   "cell_type": "markdown",
   "id": "44ef1f5d",
   "metadata": {},
   "source": [
    "# WALMART"
   ]
  },
  {
   "cell_type": "markdown",
   "id": "64bfe65d",
   "metadata": {},
   "source": [
    "### TRAIN"
   ]
  },
  {
   "cell_type": "code",
   "execution_count": 27,
   "id": "df45dee0",
   "metadata": {},
   "outputs": [
    {
     "data": {
      "text/html": [
       "<div>\n",
       "<style scoped>\n",
       "    .dataframe tbody tr th:only-of-type {\n",
       "        vertical-align: middle;\n",
       "    }\n",
       "\n",
       "    .dataframe tbody tr th {\n",
       "        vertical-align: top;\n",
       "    }\n",
       "\n",
       "    .dataframe thead th {\n",
       "        text-align: right;\n",
       "    }\n",
       "</style>\n",
       "<table border=\"1\" class=\"dataframe\">\n",
       "  <thead>\n",
       "    <tr style=\"text-align: right;\">\n",
       "      <th></th>\n",
       "      <th>Store</th>\n",
       "      <th>Dept</th>\n",
       "      <th>Date</th>\n",
       "      <th>Weekly_Sales</th>\n",
       "      <th>IsHoliday</th>\n",
       "    </tr>\n",
       "  </thead>\n",
       "  <tbody>\n",
       "    <tr>\n",
       "      <th>0</th>\n",
       "      <td>1</td>\n",
       "      <td>1</td>\n",
       "      <td>2010-02-05</td>\n",
       "      <td>24924.50</td>\n",
       "      <td>False</td>\n",
       "    </tr>\n",
       "    <tr>\n",
       "      <th>1</th>\n",
       "      <td>1</td>\n",
       "      <td>1</td>\n",
       "      <td>2010-02-12</td>\n",
       "      <td>46039.49</td>\n",
       "      <td>True</td>\n",
       "    </tr>\n",
       "    <tr>\n",
       "      <th>2</th>\n",
       "      <td>1</td>\n",
       "      <td>1</td>\n",
       "      <td>2010-02-19</td>\n",
       "      <td>41595.55</td>\n",
       "      <td>False</td>\n",
       "    </tr>\n",
       "    <tr>\n",
       "      <th>3</th>\n",
       "      <td>1</td>\n",
       "      <td>1</td>\n",
       "      <td>2010-02-26</td>\n",
       "      <td>19403.54</td>\n",
       "      <td>False</td>\n",
       "    </tr>\n",
       "    <tr>\n",
       "      <th>4</th>\n",
       "      <td>1</td>\n",
       "      <td>1</td>\n",
       "      <td>2010-03-05</td>\n",
       "      <td>21827.90</td>\n",
       "      <td>False</td>\n",
       "    </tr>\n",
       "    <tr>\n",
       "      <th>...</th>\n",
       "      <td>...</td>\n",
       "      <td>...</td>\n",
       "      <td>...</td>\n",
       "      <td>...</td>\n",
       "      <td>...</td>\n",
       "    </tr>\n",
       "    <tr>\n",
       "      <th>421565</th>\n",
       "      <td>45</td>\n",
       "      <td>98</td>\n",
       "      <td>2012-09-28</td>\n",
       "      <td>508.37</td>\n",
       "      <td>False</td>\n",
       "    </tr>\n",
       "    <tr>\n",
       "      <th>421566</th>\n",
       "      <td>45</td>\n",
       "      <td>98</td>\n",
       "      <td>2012-10-05</td>\n",
       "      <td>628.10</td>\n",
       "      <td>False</td>\n",
       "    </tr>\n",
       "    <tr>\n",
       "      <th>421567</th>\n",
       "      <td>45</td>\n",
       "      <td>98</td>\n",
       "      <td>2012-10-12</td>\n",
       "      <td>1061.02</td>\n",
       "      <td>False</td>\n",
       "    </tr>\n",
       "    <tr>\n",
       "      <th>421568</th>\n",
       "      <td>45</td>\n",
       "      <td>98</td>\n",
       "      <td>2012-10-19</td>\n",
       "      <td>760.01</td>\n",
       "      <td>False</td>\n",
       "    </tr>\n",
       "    <tr>\n",
       "      <th>421569</th>\n",
       "      <td>45</td>\n",
       "      <td>98</td>\n",
       "      <td>2012-10-26</td>\n",
       "      <td>1076.80</td>\n",
       "      <td>False</td>\n",
       "    </tr>\n",
       "  </tbody>\n",
       "</table>\n",
       "<p>421570 rows × 5 columns</p>\n",
       "</div>"
      ],
      "text/plain": [
       "        Store  Dept        Date  Weekly_Sales  IsHoliday\n",
       "0           1     1  2010-02-05      24924.50      False\n",
       "1           1     1  2010-02-12      46039.49       True\n",
       "2           1     1  2010-02-19      41595.55      False\n",
       "3           1     1  2010-02-26      19403.54      False\n",
       "4           1     1  2010-03-05      21827.90      False\n",
       "...       ...   ...         ...           ...        ...\n",
       "421565     45    98  2012-09-28        508.37      False\n",
       "421566     45    98  2012-10-05        628.10      False\n",
       "421567     45    98  2012-10-12       1061.02      False\n",
       "421568     45    98  2012-10-19        760.01      False\n",
       "421569     45    98  2012-10-26       1076.80      False\n",
       "\n",
       "[421570 rows x 5 columns]"
      ]
     },
     "execution_count": 27,
     "metadata": {},
     "output_type": "execute_result"
    }
   ],
   "source": [
    "walmart_sales_train_df = pd.read_csv(\"../data/raw/train.csv\")\n",
    "walmart_sales_train_df"
   ]
  },
  {
   "cell_type": "code",
   "execution_count": 34,
   "id": "13415de9",
   "metadata": {},
   "outputs": [
    {
     "name": "stdout",
     "output_type": "stream",
     "text": [
      "Количество тренировочных строк - 421570\n",
      "Количество колонок - 5\n",
      "\n",
      "Колонки:\n",
      "\n",
      "Store\n",
      "Dept\n",
      "Date\n",
      "Weekly_Sales\n",
      "IsHoliday\n"
     ]
    }
   ],
   "source": [
    "print(f\"Количество тренировочных строк - {walmart_sales_train_df.shape[0]}\")\n",
    "print(f\"Количество колонок - {walmart_sales_train_df.shape[1]}\")\n",
    "print(f\"\\nКолонки:\\n\")\n",
    "print('\\n'.join(walmart_sales_train_df.columns))"
   ]
  },
  {
   "cell_type": "code",
   "execution_count": 35,
   "id": "275487b0",
   "metadata": {},
   "outputs": [
    {
     "name": "stdout",
     "output_type": "stream",
     "text": [
      "\n",
      "Store - номер магазина \n",
      "\n",
      "Dept - номер департамента магазина\n",
      "\n",
      "Date - дата\n",
      "\n",
      "Weekly_Sales - продажи за неделю(таргет)\n",
      "\n",
      "IsHoliday - выходной ли\n",
      "\n"
     ]
    }
   ],
   "source": [
    "print(\"\"\"\n",
    "Store - номер магазина \\n\n",
    "Dept - номер департамента магазина\\n\n",
    "Date - дата\\n\n",
    "Weekly_Sales - продажи за неделю(таргет)\\n\n",
    "IsHoliday - выходной ли\\n\"\"\")"
   ]
  },
  {
   "cell_type": "code",
   "execution_count": 36,
   "id": "5d24f27d",
   "metadata": {},
   "outputs": [
    {
     "data": {
      "text/html": [
       "<div>\n",
       "<style scoped>\n",
       "    .dataframe tbody tr th:only-of-type {\n",
       "        vertical-align: middle;\n",
       "    }\n",
       "\n",
       "    .dataframe tbody tr th {\n",
       "        vertical-align: top;\n",
       "    }\n",
       "\n",
       "    .dataframe thead th {\n",
       "        text-align: right;\n",
       "    }\n",
       "</style>\n",
       "<table border=\"1\" class=\"dataframe\">\n",
       "  <thead>\n",
       "    <tr style=\"text-align: right;\">\n",
       "      <th></th>\n",
       "      <th>Store</th>\n",
       "      <th>Dept</th>\n",
       "      <th>Weekly_Sales</th>\n",
       "    </tr>\n",
       "  </thead>\n",
       "  <tbody>\n",
       "    <tr>\n",
       "      <th>count</th>\n",
       "      <td>421570.000000</td>\n",
       "      <td>421570.000000</td>\n",
       "      <td>421570.000000</td>\n",
       "    </tr>\n",
       "    <tr>\n",
       "      <th>mean</th>\n",
       "      <td>22.200546</td>\n",
       "      <td>44.260317</td>\n",
       "      <td>15981.258123</td>\n",
       "    </tr>\n",
       "    <tr>\n",
       "      <th>std</th>\n",
       "      <td>12.785297</td>\n",
       "      <td>30.492054</td>\n",
       "      <td>22711.183519</td>\n",
       "    </tr>\n",
       "    <tr>\n",
       "      <th>min</th>\n",
       "      <td>1.000000</td>\n",
       "      <td>1.000000</td>\n",
       "      <td>-4988.940000</td>\n",
       "    </tr>\n",
       "    <tr>\n",
       "      <th>25%</th>\n",
       "      <td>11.000000</td>\n",
       "      <td>18.000000</td>\n",
       "      <td>2079.650000</td>\n",
       "    </tr>\n",
       "    <tr>\n",
       "      <th>50%</th>\n",
       "      <td>22.000000</td>\n",
       "      <td>37.000000</td>\n",
       "      <td>7612.030000</td>\n",
       "    </tr>\n",
       "    <tr>\n",
       "      <th>75%</th>\n",
       "      <td>33.000000</td>\n",
       "      <td>74.000000</td>\n",
       "      <td>20205.852500</td>\n",
       "    </tr>\n",
       "    <tr>\n",
       "      <th>max</th>\n",
       "      <td>45.000000</td>\n",
       "      <td>99.000000</td>\n",
       "      <td>693099.360000</td>\n",
       "    </tr>\n",
       "  </tbody>\n",
       "</table>\n",
       "</div>"
      ],
      "text/plain": [
       "               Store           Dept   Weekly_Sales\n",
       "count  421570.000000  421570.000000  421570.000000\n",
       "mean       22.200546      44.260317   15981.258123\n",
       "std        12.785297      30.492054   22711.183519\n",
       "min         1.000000       1.000000   -4988.940000\n",
       "25%        11.000000      18.000000    2079.650000\n",
       "50%        22.000000      37.000000    7612.030000\n",
       "75%        33.000000      74.000000   20205.852500\n",
       "max        45.000000      99.000000  693099.360000"
      ]
     },
     "execution_count": 36,
     "metadata": {},
     "output_type": "execute_result"
    }
   ],
   "source": [
    "walmart_sales_train_df.describe()"
   ]
  },
  {
   "cell_type": "code",
   "execution_count": 60,
   "id": "5cc7b0c9",
   "metadata": {},
   "outputs": [
    {
     "name": "stdout",
     "output_type": "stream",
     "text": [
      "Магазины могут быть - [ 1  2  3  4  5  6  7  8  9 10 11 12 13 14 15 16 17 18 19 20 21 22 23 24\n",
      " 25 26 27 28 29 30 31 32 33 34 35 36 37 38 39 40 41 42 43 44 45]\n",
      "Длина - 45\n",
      "\n",
      "Департаменты могут быть - [1, 2, 3, 4, 5, 6, 7, 8, 9, 10, 11, 12, 13, 14, 16, 17, 18, 19, 20, 21, 22, 23, 24, 25, 26, 27, 28, 29, 30, 31, 32, 33, 34, 35, 36, 37, 38, 39, 40, 41, 42, 43, 44, 45, 46, 47, 48, 49, 50, 51, 52, 54, 55, 56, 58, 59, 60, 65, 67, 71, 72, 74, 77, 78, 79, 80, 81, 82, 83, 85, 87, 90, 91, 92, 93, 94, 95, 96, 97, 98, 99]\n",
      "Длина - 81\n",
      "\n"
     ]
    },
    {
     "data": {
      "text/html": [
       "<div>\n",
       "<style scoped>\n",
       "    .dataframe tbody tr th:only-of-type {\n",
       "        vertical-align: middle;\n",
       "    }\n",
       "\n",
       "    .dataframe tbody tr th {\n",
       "        vertical-align: top;\n",
       "    }\n",
       "\n",
       "    .dataframe thead th {\n",
       "        text-align: right;\n",
       "    }\n",
       "</style>\n",
       "<table border=\"1\" class=\"dataframe\">\n",
       "  <thead>\n",
       "    <tr style=\"text-align: right;\">\n",
       "      <th></th>\n",
       "      <th>Store</th>\n",
       "      <th>Dept</th>\n",
       "      <th>Сount</th>\n",
       "    </tr>\n",
       "  </thead>\n",
       "  <tbody>\n",
       "    <tr>\n",
       "      <th>0</th>\n",
       "      <td>1</td>\n",
       "      <td>1</td>\n",
       "      <td>143</td>\n",
       "    </tr>\n",
       "    <tr>\n",
       "      <th>1</th>\n",
       "      <td>1</td>\n",
       "      <td>2</td>\n",
       "      <td>143</td>\n",
       "    </tr>\n",
       "    <tr>\n",
       "      <th>2</th>\n",
       "      <td>1</td>\n",
       "      <td>3</td>\n",
       "      <td>143</td>\n",
       "    </tr>\n",
       "    <tr>\n",
       "      <th>3</th>\n",
       "      <td>1</td>\n",
       "      <td>4</td>\n",
       "      <td>143</td>\n",
       "    </tr>\n",
       "    <tr>\n",
       "      <th>4</th>\n",
       "      <td>1</td>\n",
       "      <td>5</td>\n",
       "      <td>143</td>\n",
       "    </tr>\n",
       "    <tr>\n",
       "      <th>...</th>\n",
       "      <td>...</td>\n",
       "      <td>...</td>\n",
       "      <td>...</td>\n",
       "    </tr>\n",
       "    <tr>\n",
       "      <th>3326</th>\n",
       "      <td>45</td>\n",
       "      <td>94</td>\n",
       "      <td>134</td>\n",
       "    </tr>\n",
       "    <tr>\n",
       "      <th>3327</th>\n",
       "      <td>45</td>\n",
       "      <td>95</td>\n",
       "      <td>143</td>\n",
       "    </tr>\n",
       "    <tr>\n",
       "      <th>3328</th>\n",
       "      <td>45</td>\n",
       "      <td>96</td>\n",
       "      <td>2</td>\n",
       "    </tr>\n",
       "    <tr>\n",
       "      <th>3329</th>\n",
       "      <td>45</td>\n",
       "      <td>97</td>\n",
       "      <td>143</td>\n",
       "    </tr>\n",
       "    <tr>\n",
       "      <th>3330</th>\n",
       "      <td>45</td>\n",
       "      <td>98</td>\n",
       "      <td>135</td>\n",
       "    </tr>\n",
       "  </tbody>\n",
       "</table>\n",
       "<p>3331 rows × 3 columns</p>\n",
       "</div>"
      ],
      "text/plain": [
       "      Store  Dept  Сount\n",
       "0         1     1    143\n",
       "1         1     2    143\n",
       "2         1     3    143\n",
       "3         1     4    143\n",
       "4         1     5    143\n",
       "...     ...   ...    ...\n",
       "3326     45    94    134\n",
       "3327     45    95    143\n",
       "3328     45    96      2\n",
       "3329     45    97    143\n",
       "3330     45    98    135\n",
       "\n",
       "[3331 rows x 3 columns]"
      ]
     },
     "execution_count": 60,
     "metadata": {},
     "output_type": "execute_result"
    }
   ],
   "source": [
    "unique_store = walmart_sales_train_df.Store.unique()\n",
    "print(f\"Магазины могут быть - {unique_store}\")\n",
    "print(f\"Длина - {len(unique_store)}\\n\")\n",
    "\n",
    "unique_dept = sorted(list(walmart_sales_train_df.Dept.unique()))\n",
    "print(f\"Департаменты могут быть - {unique_dept}\")\n",
    "print(f\"Длина - {len(unique_dept)}\\n\")\n",
    "\n",
    "walmart_sales_train_df.groupby(['Store','Dept']).size().reset_index().rename(columns={0:'Сount'})"
   ]
  },
  {
   "cell_type": "code",
   "execution_count": null,
   "id": "762460f4",
   "metadata": {},
   "outputs": [],
   "source": []
  },
  {
   "cell_type": "markdown",
   "id": "3336621e",
   "metadata": {},
   "source": [
    "### TEST"
   ]
  },
  {
   "cell_type": "code",
   "execution_count": 43,
   "id": "12394f47",
   "metadata": {},
   "outputs": [
    {
     "data": {
      "text/html": [
       "<div>\n",
       "<style scoped>\n",
       "    .dataframe tbody tr th:only-of-type {\n",
       "        vertical-align: middle;\n",
       "    }\n",
       "\n",
       "    .dataframe tbody tr th {\n",
       "        vertical-align: top;\n",
       "    }\n",
       "\n",
       "    .dataframe thead th {\n",
       "        text-align: right;\n",
       "    }\n",
       "</style>\n",
       "<table border=\"1\" class=\"dataframe\">\n",
       "  <thead>\n",
       "    <tr style=\"text-align: right;\">\n",
       "      <th></th>\n",
       "      <th>Store</th>\n",
       "      <th>Dept</th>\n",
       "      <th>Date</th>\n",
       "      <th>IsHoliday</th>\n",
       "    </tr>\n",
       "  </thead>\n",
       "  <tbody>\n",
       "    <tr>\n",
       "      <th>0</th>\n",
       "      <td>1</td>\n",
       "      <td>1</td>\n",
       "      <td>2012-11-02</td>\n",
       "      <td>False</td>\n",
       "    </tr>\n",
       "    <tr>\n",
       "      <th>1</th>\n",
       "      <td>1</td>\n",
       "      <td>1</td>\n",
       "      <td>2012-11-09</td>\n",
       "      <td>False</td>\n",
       "    </tr>\n",
       "    <tr>\n",
       "      <th>2</th>\n",
       "      <td>1</td>\n",
       "      <td>1</td>\n",
       "      <td>2012-11-16</td>\n",
       "      <td>False</td>\n",
       "    </tr>\n",
       "    <tr>\n",
       "      <th>3</th>\n",
       "      <td>1</td>\n",
       "      <td>1</td>\n",
       "      <td>2012-11-23</td>\n",
       "      <td>True</td>\n",
       "    </tr>\n",
       "    <tr>\n",
       "      <th>4</th>\n",
       "      <td>1</td>\n",
       "      <td>1</td>\n",
       "      <td>2012-11-30</td>\n",
       "      <td>False</td>\n",
       "    </tr>\n",
       "    <tr>\n",
       "      <th>...</th>\n",
       "      <td>...</td>\n",
       "      <td>...</td>\n",
       "      <td>...</td>\n",
       "      <td>...</td>\n",
       "    </tr>\n",
       "    <tr>\n",
       "      <th>115059</th>\n",
       "      <td>45</td>\n",
       "      <td>98</td>\n",
       "      <td>2013-06-28</td>\n",
       "      <td>False</td>\n",
       "    </tr>\n",
       "    <tr>\n",
       "      <th>115060</th>\n",
       "      <td>45</td>\n",
       "      <td>98</td>\n",
       "      <td>2013-07-05</td>\n",
       "      <td>False</td>\n",
       "    </tr>\n",
       "    <tr>\n",
       "      <th>115061</th>\n",
       "      <td>45</td>\n",
       "      <td>98</td>\n",
       "      <td>2013-07-12</td>\n",
       "      <td>False</td>\n",
       "    </tr>\n",
       "    <tr>\n",
       "      <th>115062</th>\n",
       "      <td>45</td>\n",
       "      <td>98</td>\n",
       "      <td>2013-07-19</td>\n",
       "      <td>False</td>\n",
       "    </tr>\n",
       "    <tr>\n",
       "      <th>115063</th>\n",
       "      <td>45</td>\n",
       "      <td>98</td>\n",
       "      <td>2013-07-26</td>\n",
       "      <td>False</td>\n",
       "    </tr>\n",
       "  </tbody>\n",
       "</table>\n",
       "<p>115064 rows × 4 columns</p>\n",
       "</div>"
      ],
      "text/plain": [
       "        Store  Dept        Date  IsHoliday\n",
       "0           1     1  2012-11-02      False\n",
       "1           1     1  2012-11-09      False\n",
       "2           1     1  2012-11-16      False\n",
       "3           1     1  2012-11-23       True\n",
       "4           1     1  2012-11-30      False\n",
       "...       ...   ...         ...        ...\n",
       "115059     45    98  2013-06-28      False\n",
       "115060     45    98  2013-07-05      False\n",
       "115061     45    98  2013-07-12      False\n",
       "115062     45    98  2013-07-19      False\n",
       "115063     45    98  2013-07-26      False\n",
       "\n",
       "[115064 rows x 4 columns]"
      ]
     },
     "execution_count": 43,
     "metadata": {},
     "output_type": "execute_result"
    }
   ],
   "source": [
    "walmart_sales_test_df = pd.read_csv(\"../data/raw/test.csv\")\n",
    "walmart_sales_test_df"
   ]
  },
  {
   "cell_type": "code",
   "execution_count": 45,
   "id": "b82bd78c",
   "metadata": {},
   "outputs": [
    {
     "data": {
      "text/plain": [
       "Timestamp('2013-07-26 00:00:00')"
      ]
     },
     "execution_count": 45,
     "metadata": {},
     "output_type": "execute_result"
    }
   ],
   "source": [
    "temp_dates = walmart_sales_test_df[(walmart_sales_test_df.Store == 1) & (walmart_sales_test_df.Dept == 1)].Date\n",
    "\n",
    "temp_dates = pd.to_datetime(temp_dates)\n",
    "temp_dates.max()"
   ]
  },
  {
   "cell_type": "markdown",
   "id": "e3a1203a",
   "metadata": {},
   "source": [
    "### FEATURES"
   ]
  },
  {
   "cell_type": "code",
   "execution_count": 29,
   "id": "c3cbcc60",
   "metadata": {},
   "outputs": [
    {
     "data": {
      "text/html": [
       "<div>\n",
       "<style scoped>\n",
       "    .dataframe tbody tr th:only-of-type {\n",
       "        vertical-align: middle;\n",
       "    }\n",
       "\n",
       "    .dataframe tbody tr th {\n",
       "        vertical-align: top;\n",
       "    }\n",
       "\n",
       "    .dataframe thead th {\n",
       "        text-align: right;\n",
       "    }\n",
       "</style>\n",
       "<table border=\"1\" class=\"dataframe\">\n",
       "  <thead>\n",
       "    <tr style=\"text-align: right;\">\n",
       "      <th></th>\n",
       "      <th>Store</th>\n",
       "      <th>Date</th>\n",
       "      <th>Temperature</th>\n",
       "      <th>Fuel_Price</th>\n",
       "      <th>MarkDown1</th>\n",
       "      <th>MarkDown2</th>\n",
       "      <th>MarkDown3</th>\n",
       "      <th>MarkDown4</th>\n",
       "      <th>MarkDown5</th>\n",
       "      <th>CPI</th>\n",
       "      <th>Unemployment</th>\n",
       "      <th>IsHoliday</th>\n",
       "    </tr>\n",
       "  </thead>\n",
       "  <tbody>\n",
       "    <tr>\n",
       "      <th>0</th>\n",
       "      <td>1</td>\n",
       "      <td>2010-02-05</td>\n",
       "      <td>42.31</td>\n",
       "      <td>2.572</td>\n",
       "      <td>NaN</td>\n",
       "      <td>NaN</td>\n",
       "      <td>NaN</td>\n",
       "      <td>NaN</td>\n",
       "      <td>NaN</td>\n",
       "      <td>211.096358</td>\n",
       "      <td>8.106</td>\n",
       "      <td>False</td>\n",
       "    </tr>\n",
       "    <tr>\n",
       "      <th>1</th>\n",
       "      <td>1</td>\n",
       "      <td>2010-02-12</td>\n",
       "      <td>38.51</td>\n",
       "      <td>2.548</td>\n",
       "      <td>NaN</td>\n",
       "      <td>NaN</td>\n",
       "      <td>NaN</td>\n",
       "      <td>NaN</td>\n",
       "      <td>NaN</td>\n",
       "      <td>211.242170</td>\n",
       "      <td>8.106</td>\n",
       "      <td>True</td>\n",
       "    </tr>\n",
       "    <tr>\n",
       "      <th>2</th>\n",
       "      <td>1</td>\n",
       "      <td>2010-02-19</td>\n",
       "      <td>39.93</td>\n",
       "      <td>2.514</td>\n",
       "      <td>NaN</td>\n",
       "      <td>NaN</td>\n",
       "      <td>NaN</td>\n",
       "      <td>NaN</td>\n",
       "      <td>NaN</td>\n",
       "      <td>211.289143</td>\n",
       "      <td>8.106</td>\n",
       "      <td>False</td>\n",
       "    </tr>\n",
       "    <tr>\n",
       "      <th>3</th>\n",
       "      <td>1</td>\n",
       "      <td>2010-02-26</td>\n",
       "      <td>46.63</td>\n",
       "      <td>2.561</td>\n",
       "      <td>NaN</td>\n",
       "      <td>NaN</td>\n",
       "      <td>NaN</td>\n",
       "      <td>NaN</td>\n",
       "      <td>NaN</td>\n",
       "      <td>211.319643</td>\n",
       "      <td>8.106</td>\n",
       "      <td>False</td>\n",
       "    </tr>\n",
       "    <tr>\n",
       "      <th>4</th>\n",
       "      <td>1</td>\n",
       "      <td>2010-03-05</td>\n",
       "      <td>46.50</td>\n",
       "      <td>2.625</td>\n",
       "      <td>NaN</td>\n",
       "      <td>NaN</td>\n",
       "      <td>NaN</td>\n",
       "      <td>NaN</td>\n",
       "      <td>NaN</td>\n",
       "      <td>211.350143</td>\n",
       "      <td>8.106</td>\n",
       "      <td>False</td>\n",
       "    </tr>\n",
       "    <tr>\n",
       "      <th>...</th>\n",
       "      <td>...</td>\n",
       "      <td>...</td>\n",
       "      <td>...</td>\n",
       "      <td>...</td>\n",
       "      <td>...</td>\n",
       "      <td>...</td>\n",
       "      <td>...</td>\n",
       "      <td>...</td>\n",
       "      <td>...</td>\n",
       "      <td>...</td>\n",
       "      <td>...</td>\n",
       "      <td>...</td>\n",
       "    </tr>\n",
       "    <tr>\n",
       "      <th>8185</th>\n",
       "      <td>45</td>\n",
       "      <td>2013-06-28</td>\n",
       "      <td>76.05</td>\n",
       "      <td>3.639</td>\n",
       "      <td>4842.29</td>\n",
       "      <td>975.03</td>\n",
       "      <td>3.00</td>\n",
       "      <td>2449.97</td>\n",
       "      <td>3169.69</td>\n",
       "      <td>NaN</td>\n",
       "      <td>NaN</td>\n",
       "      <td>False</td>\n",
       "    </tr>\n",
       "    <tr>\n",
       "      <th>8186</th>\n",
       "      <td>45</td>\n",
       "      <td>2013-07-05</td>\n",
       "      <td>77.50</td>\n",
       "      <td>3.614</td>\n",
       "      <td>9090.48</td>\n",
       "      <td>2268.58</td>\n",
       "      <td>582.74</td>\n",
       "      <td>5797.47</td>\n",
       "      <td>1514.93</td>\n",
       "      <td>NaN</td>\n",
       "      <td>NaN</td>\n",
       "      <td>False</td>\n",
       "    </tr>\n",
       "    <tr>\n",
       "      <th>8187</th>\n",
       "      <td>45</td>\n",
       "      <td>2013-07-12</td>\n",
       "      <td>79.37</td>\n",
       "      <td>3.614</td>\n",
       "      <td>3789.94</td>\n",
       "      <td>1827.31</td>\n",
       "      <td>85.72</td>\n",
       "      <td>744.84</td>\n",
       "      <td>2150.36</td>\n",
       "      <td>NaN</td>\n",
       "      <td>NaN</td>\n",
       "      <td>False</td>\n",
       "    </tr>\n",
       "    <tr>\n",
       "      <th>8188</th>\n",
       "      <td>45</td>\n",
       "      <td>2013-07-19</td>\n",
       "      <td>82.84</td>\n",
       "      <td>3.737</td>\n",
       "      <td>2961.49</td>\n",
       "      <td>1047.07</td>\n",
       "      <td>204.19</td>\n",
       "      <td>363.00</td>\n",
       "      <td>1059.46</td>\n",
       "      <td>NaN</td>\n",
       "      <td>NaN</td>\n",
       "      <td>False</td>\n",
       "    </tr>\n",
       "    <tr>\n",
       "      <th>8189</th>\n",
       "      <td>45</td>\n",
       "      <td>2013-07-26</td>\n",
       "      <td>76.06</td>\n",
       "      <td>3.804</td>\n",
       "      <td>212.02</td>\n",
       "      <td>851.73</td>\n",
       "      <td>2.06</td>\n",
       "      <td>10.88</td>\n",
       "      <td>1864.57</td>\n",
       "      <td>NaN</td>\n",
       "      <td>NaN</td>\n",
       "      <td>False</td>\n",
       "    </tr>\n",
       "  </tbody>\n",
       "</table>\n",
       "<p>8190 rows × 12 columns</p>\n",
       "</div>"
      ],
      "text/plain": [
       "      Store        Date  Temperature  Fuel_Price  MarkDown1  MarkDown2  \\\n",
       "0         1  2010-02-05        42.31       2.572        NaN        NaN   \n",
       "1         1  2010-02-12        38.51       2.548        NaN        NaN   \n",
       "2         1  2010-02-19        39.93       2.514        NaN        NaN   \n",
       "3         1  2010-02-26        46.63       2.561        NaN        NaN   \n",
       "4         1  2010-03-05        46.50       2.625        NaN        NaN   \n",
       "...     ...         ...          ...         ...        ...        ...   \n",
       "8185     45  2013-06-28        76.05       3.639    4842.29     975.03   \n",
       "8186     45  2013-07-05        77.50       3.614    9090.48    2268.58   \n",
       "8187     45  2013-07-12        79.37       3.614    3789.94    1827.31   \n",
       "8188     45  2013-07-19        82.84       3.737    2961.49    1047.07   \n",
       "8189     45  2013-07-26        76.06       3.804     212.02     851.73   \n",
       "\n",
       "      MarkDown3  MarkDown4  MarkDown5         CPI  Unemployment  IsHoliday  \n",
       "0           NaN        NaN        NaN  211.096358         8.106      False  \n",
       "1           NaN        NaN        NaN  211.242170         8.106       True  \n",
       "2           NaN        NaN        NaN  211.289143         8.106      False  \n",
       "3           NaN        NaN        NaN  211.319643         8.106      False  \n",
       "4           NaN        NaN        NaN  211.350143         8.106      False  \n",
       "...         ...        ...        ...         ...           ...        ...  \n",
       "8185       3.00    2449.97    3169.69         NaN           NaN      False  \n",
       "8186     582.74    5797.47    1514.93         NaN           NaN      False  \n",
       "8187      85.72     744.84    2150.36         NaN           NaN      False  \n",
       "8188     204.19     363.00    1059.46         NaN           NaN      False  \n",
       "8189       2.06      10.88    1864.57         NaN           NaN      False  \n",
       "\n",
       "[8190 rows x 12 columns]"
      ]
     },
     "execution_count": 29,
     "metadata": {},
     "output_type": "execute_result"
    }
   ],
   "source": [
    "walmart_features_df = pd.read_csv(\"../data/raw/features.csv\")\n",
    "walmart_features_df"
   ]
  },
  {
   "cell_type": "code",
   "execution_count": 13,
   "id": "716df0d1",
   "metadata": {},
   "outputs": [],
   "source": [
    "walmart_features_df.Date = pd.to_datetime(walmart_features_df.Date)"
   ]
  },
  {
   "cell_type": "code",
   "execution_count": 24,
   "id": "d9b7efa2",
   "metadata": {},
   "outputs": [
    {
     "name": "stdout",
     "output_type": "stream",
     "text": [
      "Date\n",
      "2010-02-05    45\n",
      "2012-04-13    45\n",
      "2012-04-27    45\n",
      "2012-05-04    45\n",
      "2012-05-11    45\n",
      "2012-05-18    45\n",
      "2012-05-25    45\n",
      "2012-06-01    45\n",
      "2012-06-08    45\n",
      "2012-06-15    45\n",
      "2012-06-22    45\n",
      "2012-06-29    45\n",
      "2012-07-06    45\n",
      "2012-07-13    45\n",
      "2012-07-20    45\n",
      "2012-07-27    45\n",
      "2012-08-03    45\n",
      "2012-08-10    45\n",
      "2012-08-17    45\n",
      "2012-08-24    45\n",
      "2012-08-31    45\n",
      "2012-04-20    45\n",
      "2012-04-06    45\n",
      "2012-09-14    45\n",
      "2012-03-30    45\n",
      "2011-11-18    45\n",
      "2011-11-25    45\n",
      "2011-12-02    45\n",
      "2011-12-09    45\n",
      "2011-12-16    45\n",
      "2011-12-23    45\n",
      "2011-12-30    45\n",
      "2012-01-06    45\n",
      "2012-01-13    45\n",
      "2012-01-20    45\n",
      "2012-01-27    45\n",
      "2012-02-03    45\n",
      "2012-02-10    45\n",
      "2012-02-17    45\n",
      "2012-02-24    45\n",
      "2012-03-02    45\n",
      "2012-03-09    45\n",
      "2012-03-16    45\n",
      "2012-03-23    45\n",
      "2012-09-07    45\n",
      "2012-09-21    45\n",
      "2010-02-12    45\n",
      "2013-03-01    45\n",
      "2013-03-15    45\n",
      "2013-03-22    45\n",
      "2013-03-29    45\n",
      "2013-04-05    45\n",
      "2013-04-12    45\n",
      "2013-04-19    45\n",
      "2013-04-26    45\n",
      "2013-05-03    45\n",
      "2013-05-10    45\n",
      "2013-05-17    45\n",
      "2013-05-24    45\n",
      "2013-05-31    45\n",
      "2013-06-07    45\n",
      "2013-06-14    45\n",
      "2013-06-21    45\n",
      "2013-06-28    45\n",
      "2013-07-05    45\n",
      "2013-07-12    45\n",
      "2013-07-19    45\n",
      "2013-03-08    45\n",
      "2013-02-22    45\n",
      "2012-09-28    45\n",
      "2013-02-15    45\n",
      "2012-10-05    45\n",
      "2012-10-12    45\n",
      "2012-10-19    45\n",
      "2012-10-26    45\n",
      "2012-11-02    45\n",
      "2012-11-09    45\n",
      "2012-11-16    45\n",
      "2012-11-23    45\n",
      "2012-11-30    45\n",
      "2012-12-07    45\n",
      "2012-12-14    45\n",
      "2012-12-21    45\n",
      "2012-12-28    45\n",
      "2013-01-04    45\n",
      "2013-01-11    45\n",
      "2013-01-18    45\n",
      "2013-01-25    45\n",
      "2013-02-01    45\n",
      "2013-02-08    45\n",
      "2011-11-11    45\n",
      "2011-11-04    45\n",
      "2011-10-28    45\n",
      "2010-07-16    45\n",
      "2010-07-30    45\n",
      "2010-08-06    45\n",
      "2010-08-13    45\n",
      "2010-08-20    45\n",
      "2010-08-27    45\n",
      "2010-09-03    45\n",
      "2010-09-10    45\n",
      "2010-09-17    45\n",
      "2010-09-24    45\n",
      "2010-10-01    45\n",
      "2010-10-08    45\n",
      "2010-10-15    45\n",
      "2010-10-22    45\n",
      "2010-10-29    45\n",
      "2010-11-05    45\n",
      "2010-11-12    45\n",
      "2010-11-19    45\n",
      "2010-11-26    45\n",
      "2010-12-03    45\n",
      "2010-07-23    45\n",
      "2010-07-09    45\n",
      "2011-10-21    45\n",
      "2010-07-02    45\n",
      "2010-02-19    45\n",
      "2010-02-26    45\n",
      "2010-03-05    45\n",
      "2010-03-12    45\n",
      "2010-03-19    45\n",
      "2010-03-26    45\n",
      "2010-04-02    45\n",
      "2010-04-09    45\n",
      "2010-04-16    45\n",
      "2010-04-23    45\n",
      "2010-04-30    45\n",
      "2010-05-07    45\n",
      "2010-05-14    45\n",
      "2010-05-21    45\n",
      "2010-05-28    45\n",
      "2010-06-04    45\n",
      "2010-06-11    45\n",
      "2010-06-18    45\n",
      "2010-06-25    45\n",
      "2010-12-10    45\n",
      "2010-12-17    45\n",
      "2010-12-24    45\n",
      "2010-12-31    45\n",
      "2011-06-10    45\n",
      "2011-06-17    45\n",
      "2011-06-24    45\n",
      "2011-07-01    45\n",
      "2011-07-08    45\n",
      "2011-07-15    45\n",
      "2011-07-22    45\n",
      "2011-07-29    45\n",
      "2011-08-05    45\n",
      "2011-08-12    45\n",
      "2011-08-19    45\n",
      "2011-08-26    45\n",
      "2011-09-02    45\n",
      "2011-09-09    45\n",
      "2011-09-16    45\n",
      "2011-09-23    45\n",
      "2011-09-30    45\n",
      "2011-10-07    45\n",
      "2011-10-14    45\n",
      "2011-06-03    45\n",
      "2011-05-27    45\n",
      "2011-05-20    45\n",
      "2011-03-04    45\n",
      "2011-01-07    45\n",
      "2011-01-14    45\n",
      "2011-01-21    45\n",
      "2011-01-28    45\n",
      "2011-02-04    45\n",
      "2011-02-11    45\n",
      "2011-02-18    45\n",
      "2011-02-25    45\n",
      "2011-03-11    45\n",
      "2011-05-13    45\n",
      "2011-03-18    45\n",
      "2011-03-25    45\n",
      "2011-04-01    45\n",
      "2011-04-08    45\n",
      "2011-04-15    45\n",
      "2011-04-22    45\n",
      "2011-04-29    45\n",
      "2011-05-06    45\n",
      "2013-07-26    45\n"
     ]
    }
   ],
   "source": [
    "print(walmart_features_df.Date.value_counts().to_string())"
   ]
  },
  {
   "cell_type": "markdown",
   "id": "6dd3420b",
   "metadata": {},
   "source": [
    "### Stores"
   ]
  },
  {
   "cell_type": "code",
   "execution_count": 30,
   "id": "d91682f0",
   "metadata": {
    "scrolled": true
   },
   "outputs": [
    {
     "data": {
      "text/html": [
       "<div>\n",
       "<style scoped>\n",
       "    .dataframe tbody tr th:only-of-type {\n",
       "        vertical-align: middle;\n",
       "    }\n",
       "\n",
       "    .dataframe tbody tr th {\n",
       "        vertical-align: top;\n",
       "    }\n",
       "\n",
       "    .dataframe thead th {\n",
       "        text-align: right;\n",
       "    }\n",
       "</style>\n",
       "<table border=\"1\" class=\"dataframe\">\n",
       "  <thead>\n",
       "    <tr style=\"text-align: right;\">\n",
       "      <th></th>\n",
       "      <th>Store</th>\n",
       "      <th>Type</th>\n",
       "      <th>Size</th>\n",
       "    </tr>\n",
       "  </thead>\n",
       "  <tbody>\n",
       "    <tr>\n",
       "      <th>0</th>\n",
       "      <td>1</td>\n",
       "      <td>A</td>\n",
       "      <td>151315</td>\n",
       "    </tr>\n",
       "    <tr>\n",
       "      <th>1</th>\n",
       "      <td>2</td>\n",
       "      <td>A</td>\n",
       "      <td>202307</td>\n",
       "    </tr>\n",
       "    <tr>\n",
       "      <th>2</th>\n",
       "      <td>3</td>\n",
       "      <td>B</td>\n",
       "      <td>37392</td>\n",
       "    </tr>\n",
       "    <tr>\n",
       "      <th>3</th>\n",
       "      <td>4</td>\n",
       "      <td>A</td>\n",
       "      <td>205863</td>\n",
       "    </tr>\n",
       "    <tr>\n",
       "      <th>4</th>\n",
       "      <td>5</td>\n",
       "      <td>B</td>\n",
       "      <td>34875</td>\n",
       "    </tr>\n",
       "    <tr>\n",
       "      <th>5</th>\n",
       "      <td>6</td>\n",
       "      <td>A</td>\n",
       "      <td>202505</td>\n",
       "    </tr>\n",
       "    <tr>\n",
       "      <th>6</th>\n",
       "      <td>7</td>\n",
       "      <td>B</td>\n",
       "      <td>70713</td>\n",
       "    </tr>\n",
       "    <tr>\n",
       "      <th>7</th>\n",
       "      <td>8</td>\n",
       "      <td>A</td>\n",
       "      <td>155078</td>\n",
       "    </tr>\n",
       "    <tr>\n",
       "      <th>8</th>\n",
       "      <td>9</td>\n",
       "      <td>B</td>\n",
       "      <td>125833</td>\n",
       "    </tr>\n",
       "    <tr>\n",
       "      <th>9</th>\n",
       "      <td>10</td>\n",
       "      <td>B</td>\n",
       "      <td>126512</td>\n",
       "    </tr>\n",
       "    <tr>\n",
       "      <th>10</th>\n",
       "      <td>11</td>\n",
       "      <td>A</td>\n",
       "      <td>207499</td>\n",
       "    </tr>\n",
       "    <tr>\n",
       "      <th>11</th>\n",
       "      <td>12</td>\n",
       "      <td>B</td>\n",
       "      <td>112238</td>\n",
       "    </tr>\n",
       "    <tr>\n",
       "      <th>12</th>\n",
       "      <td>13</td>\n",
       "      <td>A</td>\n",
       "      <td>219622</td>\n",
       "    </tr>\n",
       "    <tr>\n",
       "      <th>13</th>\n",
       "      <td>14</td>\n",
       "      <td>A</td>\n",
       "      <td>200898</td>\n",
       "    </tr>\n",
       "    <tr>\n",
       "      <th>14</th>\n",
       "      <td>15</td>\n",
       "      <td>B</td>\n",
       "      <td>123737</td>\n",
       "    </tr>\n",
       "    <tr>\n",
       "      <th>15</th>\n",
       "      <td>16</td>\n",
       "      <td>B</td>\n",
       "      <td>57197</td>\n",
       "    </tr>\n",
       "    <tr>\n",
       "      <th>16</th>\n",
       "      <td>17</td>\n",
       "      <td>B</td>\n",
       "      <td>93188</td>\n",
       "    </tr>\n",
       "    <tr>\n",
       "      <th>17</th>\n",
       "      <td>18</td>\n",
       "      <td>B</td>\n",
       "      <td>120653</td>\n",
       "    </tr>\n",
       "    <tr>\n",
       "      <th>18</th>\n",
       "      <td>19</td>\n",
       "      <td>A</td>\n",
       "      <td>203819</td>\n",
       "    </tr>\n",
       "    <tr>\n",
       "      <th>19</th>\n",
       "      <td>20</td>\n",
       "      <td>A</td>\n",
       "      <td>203742</td>\n",
       "    </tr>\n",
       "    <tr>\n",
       "      <th>20</th>\n",
       "      <td>21</td>\n",
       "      <td>B</td>\n",
       "      <td>140167</td>\n",
       "    </tr>\n",
       "    <tr>\n",
       "      <th>21</th>\n",
       "      <td>22</td>\n",
       "      <td>B</td>\n",
       "      <td>119557</td>\n",
       "    </tr>\n",
       "    <tr>\n",
       "      <th>22</th>\n",
       "      <td>23</td>\n",
       "      <td>B</td>\n",
       "      <td>114533</td>\n",
       "    </tr>\n",
       "    <tr>\n",
       "      <th>23</th>\n",
       "      <td>24</td>\n",
       "      <td>A</td>\n",
       "      <td>203819</td>\n",
       "    </tr>\n",
       "    <tr>\n",
       "      <th>24</th>\n",
       "      <td>25</td>\n",
       "      <td>B</td>\n",
       "      <td>128107</td>\n",
       "    </tr>\n",
       "    <tr>\n",
       "      <th>25</th>\n",
       "      <td>26</td>\n",
       "      <td>A</td>\n",
       "      <td>152513</td>\n",
       "    </tr>\n",
       "    <tr>\n",
       "      <th>26</th>\n",
       "      <td>27</td>\n",
       "      <td>A</td>\n",
       "      <td>204184</td>\n",
       "    </tr>\n",
       "    <tr>\n",
       "      <th>27</th>\n",
       "      <td>28</td>\n",
       "      <td>A</td>\n",
       "      <td>206302</td>\n",
       "    </tr>\n",
       "    <tr>\n",
       "      <th>28</th>\n",
       "      <td>29</td>\n",
       "      <td>B</td>\n",
       "      <td>93638</td>\n",
       "    </tr>\n",
       "    <tr>\n",
       "      <th>29</th>\n",
       "      <td>30</td>\n",
       "      <td>C</td>\n",
       "      <td>42988</td>\n",
       "    </tr>\n",
       "    <tr>\n",
       "      <th>30</th>\n",
       "      <td>31</td>\n",
       "      <td>A</td>\n",
       "      <td>203750</td>\n",
       "    </tr>\n",
       "    <tr>\n",
       "      <th>31</th>\n",
       "      <td>32</td>\n",
       "      <td>A</td>\n",
       "      <td>203007</td>\n",
       "    </tr>\n",
       "    <tr>\n",
       "      <th>32</th>\n",
       "      <td>33</td>\n",
       "      <td>A</td>\n",
       "      <td>39690</td>\n",
       "    </tr>\n",
       "    <tr>\n",
       "      <th>33</th>\n",
       "      <td>34</td>\n",
       "      <td>A</td>\n",
       "      <td>158114</td>\n",
       "    </tr>\n",
       "    <tr>\n",
       "      <th>34</th>\n",
       "      <td>35</td>\n",
       "      <td>B</td>\n",
       "      <td>103681</td>\n",
       "    </tr>\n",
       "    <tr>\n",
       "      <th>35</th>\n",
       "      <td>36</td>\n",
       "      <td>A</td>\n",
       "      <td>39910</td>\n",
       "    </tr>\n",
       "    <tr>\n",
       "      <th>36</th>\n",
       "      <td>37</td>\n",
       "      <td>C</td>\n",
       "      <td>39910</td>\n",
       "    </tr>\n",
       "    <tr>\n",
       "      <th>37</th>\n",
       "      <td>38</td>\n",
       "      <td>C</td>\n",
       "      <td>39690</td>\n",
       "    </tr>\n",
       "    <tr>\n",
       "      <th>38</th>\n",
       "      <td>39</td>\n",
       "      <td>A</td>\n",
       "      <td>184109</td>\n",
       "    </tr>\n",
       "    <tr>\n",
       "      <th>39</th>\n",
       "      <td>40</td>\n",
       "      <td>A</td>\n",
       "      <td>155083</td>\n",
       "    </tr>\n",
       "    <tr>\n",
       "      <th>40</th>\n",
       "      <td>41</td>\n",
       "      <td>A</td>\n",
       "      <td>196321</td>\n",
       "    </tr>\n",
       "    <tr>\n",
       "      <th>41</th>\n",
       "      <td>42</td>\n",
       "      <td>C</td>\n",
       "      <td>39690</td>\n",
       "    </tr>\n",
       "    <tr>\n",
       "      <th>42</th>\n",
       "      <td>43</td>\n",
       "      <td>C</td>\n",
       "      <td>41062</td>\n",
       "    </tr>\n",
       "    <tr>\n",
       "      <th>43</th>\n",
       "      <td>44</td>\n",
       "      <td>C</td>\n",
       "      <td>39910</td>\n",
       "    </tr>\n",
       "    <tr>\n",
       "      <th>44</th>\n",
       "      <td>45</td>\n",
       "      <td>B</td>\n",
       "      <td>118221</td>\n",
       "    </tr>\n",
       "  </tbody>\n",
       "</table>\n",
       "</div>"
      ],
      "text/plain": [
       "    Store Type    Size\n",
       "0       1    A  151315\n",
       "1       2    A  202307\n",
       "2       3    B   37392\n",
       "3       4    A  205863\n",
       "4       5    B   34875\n",
       "5       6    A  202505\n",
       "6       7    B   70713\n",
       "7       8    A  155078\n",
       "8       9    B  125833\n",
       "9      10    B  126512\n",
       "10     11    A  207499\n",
       "11     12    B  112238\n",
       "12     13    A  219622\n",
       "13     14    A  200898\n",
       "14     15    B  123737\n",
       "15     16    B   57197\n",
       "16     17    B   93188\n",
       "17     18    B  120653\n",
       "18     19    A  203819\n",
       "19     20    A  203742\n",
       "20     21    B  140167\n",
       "21     22    B  119557\n",
       "22     23    B  114533\n",
       "23     24    A  203819\n",
       "24     25    B  128107\n",
       "25     26    A  152513\n",
       "26     27    A  204184\n",
       "27     28    A  206302\n",
       "28     29    B   93638\n",
       "29     30    C   42988\n",
       "30     31    A  203750\n",
       "31     32    A  203007\n",
       "32     33    A   39690\n",
       "33     34    A  158114\n",
       "34     35    B  103681\n",
       "35     36    A   39910\n",
       "36     37    C   39910\n",
       "37     38    C   39690\n",
       "38     39    A  184109\n",
       "39     40    A  155083\n",
       "40     41    A  196321\n",
       "41     42    C   39690\n",
       "42     43    C   41062\n",
       "43     44    C   39910\n",
       "44     45    B  118221"
      ]
     },
     "execution_count": 30,
     "metadata": {},
     "output_type": "execute_result"
    }
   ],
   "source": [
    "walmart_stores_df = pd.read_csv(\"../data/raw/stores.csv\")\n",
    "walmart_stores_df"
   ]
  },
  {
   "cell_type": "markdown",
   "id": "e54cf6ed",
   "metadata": {},
   "source": [
    "#### Merging datasets"
   ]
  },
  {
   "cell_type": "code",
   "execution_count": 485,
   "id": "e6d3c88c",
   "metadata": {},
   "outputs": [],
   "source": [
    "X = pd.merge(walmart_stores_df, pd.merge(walmart_sales_train_df, walmart_features_df))"
   ]
  },
  {
   "cell_type": "code",
   "execution_count": 486,
   "id": "5d61616b",
   "metadata": {},
   "outputs": [],
   "source": [
    "X = X.drop(columns=[\"MarkDown1\", 'MarkDown2', 'MarkDown3', \"MarkDown4\", 'MarkDown5', 'Type', 'Fuel_Price'])"
   ]
  },
  {
   "cell_type": "code",
   "execution_count": 487,
   "id": "18cb1574",
   "metadata": {},
   "outputs": [
    {
     "data": {
      "text/html": [
       "<div>\n",
       "<style scoped>\n",
       "    .dataframe tbody tr th:only-of-type {\n",
       "        vertical-align: middle;\n",
       "    }\n",
       "\n",
       "    .dataframe tbody tr th {\n",
       "        vertical-align: top;\n",
       "    }\n",
       "\n",
       "    .dataframe thead th {\n",
       "        text-align: right;\n",
       "    }\n",
       "</style>\n",
       "<table border=\"1\" class=\"dataframe\">\n",
       "  <thead>\n",
       "    <tr style=\"text-align: right;\">\n",
       "      <th></th>\n",
       "      <th>Store</th>\n",
       "      <th>Size</th>\n",
       "      <th>Dept</th>\n",
       "      <th>Date</th>\n",
       "      <th>Weekly_Sales</th>\n",
       "      <th>IsHoliday</th>\n",
       "      <th>Temperature</th>\n",
       "      <th>CPI</th>\n",
       "      <th>Unemployment</th>\n",
       "    </tr>\n",
       "  </thead>\n",
       "  <tbody>\n",
       "    <tr>\n",
       "      <th>0</th>\n",
       "      <td>1</td>\n",
       "      <td>151315</td>\n",
       "      <td>1</td>\n",
       "      <td>2010-02-05</td>\n",
       "      <td>24924.50</td>\n",
       "      <td>False</td>\n",
       "      <td>42.31</td>\n",
       "      <td>211.096358</td>\n",
       "      <td>8.106</td>\n",
       "    </tr>\n",
       "    <tr>\n",
       "      <th>1</th>\n",
       "      <td>1</td>\n",
       "      <td>151315</td>\n",
       "      <td>2</td>\n",
       "      <td>2010-02-05</td>\n",
       "      <td>50605.27</td>\n",
       "      <td>False</td>\n",
       "      <td>42.31</td>\n",
       "      <td>211.096358</td>\n",
       "      <td>8.106</td>\n",
       "    </tr>\n",
       "    <tr>\n",
       "      <th>2</th>\n",
       "      <td>1</td>\n",
       "      <td>151315</td>\n",
       "      <td>3</td>\n",
       "      <td>2010-02-05</td>\n",
       "      <td>13740.12</td>\n",
       "      <td>False</td>\n",
       "      <td>42.31</td>\n",
       "      <td>211.096358</td>\n",
       "      <td>8.106</td>\n",
       "    </tr>\n",
       "    <tr>\n",
       "      <th>3</th>\n",
       "      <td>1</td>\n",
       "      <td>151315</td>\n",
       "      <td>4</td>\n",
       "      <td>2010-02-05</td>\n",
       "      <td>39954.04</td>\n",
       "      <td>False</td>\n",
       "      <td>42.31</td>\n",
       "      <td>211.096358</td>\n",
       "      <td>8.106</td>\n",
       "    </tr>\n",
       "    <tr>\n",
       "      <th>4</th>\n",
       "      <td>1</td>\n",
       "      <td>151315</td>\n",
       "      <td>5</td>\n",
       "      <td>2010-02-05</td>\n",
       "      <td>32229.38</td>\n",
       "      <td>False</td>\n",
       "      <td>42.31</td>\n",
       "      <td>211.096358</td>\n",
       "      <td>8.106</td>\n",
       "    </tr>\n",
       "    <tr>\n",
       "      <th>...</th>\n",
       "      <td>...</td>\n",
       "      <td>...</td>\n",
       "      <td>...</td>\n",
       "      <td>...</td>\n",
       "      <td>...</td>\n",
       "      <td>...</td>\n",
       "      <td>...</td>\n",
       "      <td>...</td>\n",
       "      <td>...</td>\n",
       "    </tr>\n",
       "    <tr>\n",
       "      <th>421565</th>\n",
       "      <td>45</td>\n",
       "      <td>118221</td>\n",
       "      <td>93</td>\n",
       "      <td>2012-10-26</td>\n",
       "      <td>2487.80</td>\n",
       "      <td>False</td>\n",
       "      <td>58.85</td>\n",
       "      <td>192.308899</td>\n",
       "      <td>8.667</td>\n",
       "    </tr>\n",
       "    <tr>\n",
       "      <th>421566</th>\n",
       "      <td>45</td>\n",
       "      <td>118221</td>\n",
       "      <td>94</td>\n",
       "      <td>2012-10-26</td>\n",
       "      <td>5203.31</td>\n",
       "      <td>False</td>\n",
       "      <td>58.85</td>\n",
       "      <td>192.308899</td>\n",
       "      <td>8.667</td>\n",
       "    </tr>\n",
       "    <tr>\n",
       "      <th>421567</th>\n",
       "      <td>45</td>\n",
       "      <td>118221</td>\n",
       "      <td>95</td>\n",
       "      <td>2012-10-26</td>\n",
       "      <td>56017.47</td>\n",
       "      <td>False</td>\n",
       "      <td>58.85</td>\n",
       "      <td>192.308899</td>\n",
       "      <td>8.667</td>\n",
       "    </tr>\n",
       "    <tr>\n",
       "      <th>421568</th>\n",
       "      <td>45</td>\n",
       "      <td>118221</td>\n",
       "      <td>97</td>\n",
       "      <td>2012-10-26</td>\n",
       "      <td>6817.48</td>\n",
       "      <td>False</td>\n",
       "      <td>58.85</td>\n",
       "      <td>192.308899</td>\n",
       "      <td>8.667</td>\n",
       "    </tr>\n",
       "    <tr>\n",
       "      <th>421569</th>\n",
       "      <td>45</td>\n",
       "      <td>118221</td>\n",
       "      <td>98</td>\n",
       "      <td>2012-10-26</td>\n",
       "      <td>1076.80</td>\n",
       "      <td>False</td>\n",
       "      <td>58.85</td>\n",
       "      <td>192.308899</td>\n",
       "      <td>8.667</td>\n",
       "    </tr>\n",
       "  </tbody>\n",
       "</table>\n",
       "<p>421570 rows × 9 columns</p>\n",
       "</div>"
      ],
      "text/plain": [
       "        Store    Size  Dept        Date  Weekly_Sales  IsHoliday  Temperature  \\\n",
       "0           1  151315     1  2010-02-05      24924.50      False        42.31   \n",
       "1           1  151315     2  2010-02-05      50605.27      False        42.31   \n",
       "2           1  151315     3  2010-02-05      13740.12      False        42.31   \n",
       "3           1  151315     4  2010-02-05      39954.04      False        42.31   \n",
       "4           1  151315     5  2010-02-05      32229.38      False        42.31   \n",
       "...       ...     ...   ...         ...           ...        ...          ...   \n",
       "421565     45  118221    93  2012-10-26       2487.80      False        58.85   \n",
       "421566     45  118221    94  2012-10-26       5203.31      False        58.85   \n",
       "421567     45  118221    95  2012-10-26      56017.47      False        58.85   \n",
       "421568     45  118221    97  2012-10-26       6817.48      False        58.85   \n",
       "421569     45  118221    98  2012-10-26       1076.80      False        58.85   \n",
       "\n",
       "               CPI  Unemployment  \n",
       "0       211.096358         8.106  \n",
       "1       211.096358         8.106  \n",
       "2       211.096358         8.106  \n",
       "3       211.096358         8.106  \n",
       "4       211.096358         8.106  \n",
       "...            ...           ...  \n",
       "421565  192.308899         8.667  \n",
       "421566  192.308899         8.667  \n",
       "421567  192.308899         8.667  \n",
       "421568  192.308899         8.667  \n",
       "421569  192.308899         8.667  \n",
       "\n",
       "[421570 rows x 9 columns]"
      ]
     },
     "execution_count": 487,
     "metadata": {},
     "output_type": "execute_result"
    }
   ],
   "source": [
    "X"
   ]
  },
  {
   "cell_type": "markdown",
   "id": "3269d938",
   "metadata": {},
   "source": [
    "#### Preprocessing Date"
   ]
  },
  {
   "cell_type": "code",
   "execution_count": 488,
   "id": "19747ba1",
   "metadata": {},
   "outputs": [],
   "source": [
    "X.Date = pd.to_datetime(X.Date)"
   ]
  },
  {
   "cell_type": "markdown",
   "id": "04d0d608",
   "metadata": {},
   "source": [
    "#### Sorting X by date"
   ]
  },
  {
   "cell_type": "code",
   "execution_count": 489,
   "id": "721fff48",
   "metadata": {},
   "outputs": [],
   "source": [
    "X = X.sort_values(by=['Date', 'Store'])"
   ]
  },
  {
   "cell_type": "markdown",
   "id": "127f11df",
   "metadata": {},
   "source": [
    "#### Replacing date with number of a week"
   ]
  },
  {
   "cell_type": "code",
   "execution_count": 490,
   "id": "56843b81",
   "metadata": {},
   "outputs": [],
   "source": [
    "X['Week'] = X.Date.apply(lambda x: x.isocalendar()[1])"
   ]
  },
  {
   "cell_type": "code",
   "execution_count": 491,
   "id": "c469ae74",
   "metadata": {},
   "outputs": [],
   "source": [
    "X = X.drop(['Date'], axis=1)"
   ]
  },
  {
   "cell_type": "markdown",
   "id": "95851374",
   "metadata": {},
   "source": [
    "#### Splitting dataset to train/val/test sets"
   ]
  },
  {
   "cell_type": "code",
   "execution_count": 492,
   "id": "f1c07953",
   "metadata": {},
   "outputs": [],
   "source": [
    "X_len = X.shape[0]"
   ]
  },
  {
   "cell_type": "code",
   "execution_count": 493,
   "id": "905c95a4",
   "metadata": {},
   "outputs": [],
   "source": [
    "test_ratio = 0.1\n",
    "val_ratio = 0.2"
   ]
  },
  {
   "cell_type": "code",
   "execution_count": 494,
   "id": "63e675ba",
   "metadata": {},
   "outputs": [],
   "source": [
    "test_size = int(X_len * test_ratio)\n",
    "val_size = int(X_len * val_ratio)"
   ]
  },
  {
   "cell_type": "code",
   "execution_count": 495,
   "id": "faacaa9c",
   "metadata": {},
   "outputs": [],
   "source": [
    "X_test = X.iloc[X_len-test_size:]\n",
    "X_val = X.iloc[X_len-test_size-val_size:X_len-test_size]\n",
    "X_train = X.iloc[:X_len-test_size-val_size]"
   ]
  },
  {
   "cell_type": "markdown",
   "id": "06fb6fa7",
   "metadata": {},
   "source": [
    "#### Preprocessing Store"
   ]
  },
  {
   "cell_type": "code",
   "execution_count": 496,
   "id": "9983ce5a",
   "metadata": {},
   "outputs": [
    {
     "data": {
      "text/html": [
       "<style>#sk-container-id-19 {color: black;}#sk-container-id-19 pre{padding: 0;}#sk-container-id-19 div.sk-toggleable {background-color: white;}#sk-container-id-19 label.sk-toggleable__label {cursor: pointer;display: block;width: 100%;margin-bottom: 0;padding: 0.3em;box-sizing: border-box;text-align: center;}#sk-container-id-19 label.sk-toggleable__label-arrow:before {content: \"▸\";float: left;margin-right: 0.25em;color: #696969;}#sk-container-id-19 label.sk-toggleable__label-arrow:hover:before {color: black;}#sk-container-id-19 div.sk-estimator:hover label.sk-toggleable__label-arrow:before {color: black;}#sk-container-id-19 div.sk-toggleable__content {max-height: 0;max-width: 0;overflow: hidden;text-align: left;background-color: #f0f8ff;}#sk-container-id-19 div.sk-toggleable__content pre {margin: 0.2em;color: black;border-radius: 0.25em;background-color: #f0f8ff;}#sk-container-id-19 input.sk-toggleable__control:checked~div.sk-toggleable__content {max-height: 200px;max-width: 100%;overflow: auto;}#sk-container-id-19 input.sk-toggleable__control:checked~label.sk-toggleable__label-arrow:before {content: \"▾\";}#sk-container-id-19 div.sk-estimator input.sk-toggleable__control:checked~label.sk-toggleable__label {background-color: #d4ebff;}#sk-container-id-19 div.sk-label input.sk-toggleable__control:checked~label.sk-toggleable__label {background-color: #d4ebff;}#sk-container-id-19 input.sk-hidden--visually {border: 0;clip: rect(1px 1px 1px 1px);clip: rect(1px, 1px, 1px, 1px);height: 1px;margin: -1px;overflow: hidden;padding: 0;position: absolute;width: 1px;}#sk-container-id-19 div.sk-estimator {font-family: monospace;background-color: #f0f8ff;border: 1px dotted black;border-radius: 0.25em;box-sizing: border-box;margin-bottom: 0.5em;}#sk-container-id-19 div.sk-estimator:hover {background-color: #d4ebff;}#sk-container-id-19 div.sk-parallel-item::after {content: \"\";width: 100%;border-bottom: 1px solid gray;flex-grow: 1;}#sk-container-id-19 div.sk-label:hover label.sk-toggleable__label {background-color: #d4ebff;}#sk-container-id-19 div.sk-serial::before {content: \"\";position: absolute;border-left: 1px solid gray;box-sizing: border-box;top: 0;bottom: 0;left: 50%;z-index: 0;}#sk-container-id-19 div.sk-serial {display: flex;flex-direction: column;align-items: center;background-color: white;padding-right: 0.2em;padding-left: 0.2em;position: relative;}#sk-container-id-19 div.sk-item {position: relative;z-index: 1;}#sk-container-id-19 div.sk-parallel {display: flex;align-items: stretch;justify-content: center;background-color: white;position: relative;}#sk-container-id-19 div.sk-item::before, #sk-container-id-19 div.sk-parallel-item::before {content: \"\";position: absolute;border-left: 1px solid gray;box-sizing: border-box;top: 0;bottom: 0;left: 50%;z-index: -1;}#sk-container-id-19 div.sk-parallel-item {display: flex;flex-direction: column;z-index: 1;position: relative;background-color: white;}#sk-container-id-19 div.sk-parallel-item:first-child::after {align-self: flex-end;width: 50%;}#sk-container-id-19 div.sk-parallel-item:last-child::after {align-self: flex-start;width: 50%;}#sk-container-id-19 div.sk-parallel-item:only-child::after {width: 0;}#sk-container-id-19 div.sk-dashed-wrapped {border: 1px dashed gray;margin: 0 0.4em 0.5em 0.4em;box-sizing: border-box;padding-bottom: 0.4em;background-color: white;}#sk-container-id-19 div.sk-label label {font-family: monospace;font-weight: bold;display: inline-block;line-height: 1.2em;}#sk-container-id-19 div.sk-label-container {text-align: center;}#sk-container-id-19 div.sk-container {/* jupyter's `normalize.less` sets `[hidden] { display: none; }` but bootstrap.min.css set `[hidden] { display: none !important; }` so we also need the `!important` here to be able to override the default hidden behavior on the sphinx rendered scikit-learn.org. See: https://github.com/scikit-learn/scikit-learn/issues/21755 */display: inline-block !important;position: relative;}#sk-container-id-19 div.sk-text-repr-fallback {display: none;}</style><div id=\"sk-container-id-19\" class=\"sk-top-container\"><div class=\"sk-text-repr-fallback\"><pre>LabelEncoder()</pre><b>In a Jupyter environment, please rerun this cell to show the HTML representation or trust the notebook. <br />On GitHub, the HTML representation is unable to render, please try loading this page with nbviewer.org.</b></div><div class=\"sk-container\" hidden><div class=\"sk-item\"><div class=\"sk-estimator sk-toggleable\"><input class=\"sk-toggleable__control sk-hidden--visually\" id=\"sk-estimator-id-19\" type=\"checkbox\" checked><label for=\"sk-estimator-id-19\" class=\"sk-toggleable__label sk-toggleable__label-arrow\">LabelEncoder</label><div class=\"sk-toggleable__content\"><pre>LabelEncoder()</pre></div></div></div></div></div>"
      ],
      "text/plain": [
       "LabelEncoder()"
      ]
     },
     "execution_count": 496,
     "metadata": {},
     "output_type": "execute_result"
    }
   ],
   "source": [
    "store_label_encoder = LabelEncoder()\n",
    "store_label_encoder.fit(sorted(list(X_train.Store.unique())))"
   ]
  },
  {
   "cell_type": "code",
   "execution_count": 497,
   "id": "535da5c3",
   "metadata": {},
   "outputs": [
    {
     "name": "stderr",
     "output_type": "stream",
     "text": [
      "/Users/astonuser/anaconda3/envs/transformer_time_series_forecast/lib/python3.8/site-packages/sklearn/preprocessing/_label.py:132: DataConversionWarning: A column-vector y was passed when a 1d array was expected. Please change the shape of y to (n_samples, ), for example using ravel().\n",
      "  y = column_or_1d(y, dtype=self.classes_.dtype, warn=True)\n",
      "/var/folders/7x/qzp6r7jn19gf5g0r68gpc_3r0000gp/T/ipykernel_764/3350660351.py:1: SettingWithCopyWarning: \n",
      "A value is trying to be set on a copy of a slice from a DataFrame.\n",
      "Try using .loc[row_indexer,col_indexer] = value instead\n",
      "\n",
      "See the caveats in the documentation: https://pandas.pydata.org/pandas-docs/stable/user_guide/indexing.html#returning-a-view-versus-a-copy\n",
      "  X_train['Store'] = store_label_encoder.transform(X_train[['Store']])\n",
      "/Users/astonuser/anaconda3/envs/transformer_time_series_forecast/lib/python3.8/site-packages/sklearn/preprocessing/_label.py:132: DataConversionWarning: A column-vector y was passed when a 1d array was expected. Please change the shape of y to (n_samples, ), for example using ravel().\n",
      "  y = column_or_1d(y, dtype=self.classes_.dtype, warn=True)\n",
      "/var/folders/7x/qzp6r7jn19gf5g0r68gpc_3r0000gp/T/ipykernel_764/3350660351.py:2: SettingWithCopyWarning: \n",
      "A value is trying to be set on a copy of a slice from a DataFrame.\n",
      "Try using .loc[row_indexer,col_indexer] = value instead\n",
      "\n",
      "See the caveats in the documentation: https://pandas.pydata.org/pandas-docs/stable/user_guide/indexing.html#returning-a-view-versus-a-copy\n",
      "  X_val['Store'] = store_label_encoder.transform(X_val[['Store']])\n",
      "/Users/astonuser/anaconda3/envs/transformer_time_series_forecast/lib/python3.8/site-packages/sklearn/preprocessing/_label.py:132: DataConversionWarning: A column-vector y was passed when a 1d array was expected. Please change the shape of y to (n_samples, ), for example using ravel().\n",
      "  y = column_or_1d(y, dtype=self.classes_.dtype, warn=True)\n",
      "/var/folders/7x/qzp6r7jn19gf5g0r68gpc_3r0000gp/T/ipykernel_764/3350660351.py:3: SettingWithCopyWarning: \n",
      "A value is trying to be set on a copy of a slice from a DataFrame.\n",
      "Try using .loc[row_indexer,col_indexer] = value instead\n",
      "\n",
      "See the caveats in the documentation: https://pandas.pydata.org/pandas-docs/stable/user_guide/indexing.html#returning-a-view-versus-a-copy\n",
      "  X_test['Store'] = store_label_encoder.transform(X_test[['Store']])\n"
     ]
    }
   ],
   "source": [
    "X_train['Store'] = store_label_encoder.transform(X_train[['Store']])\n",
    "X_val['Store'] = store_label_encoder.transform(X_val[['Store']])\n",
    "X_test['Store'] = store_label_encoder.transform(X_test[['Store']])"
   ]
  },
  {
   "cell_type": "markdown",
   "id": "d1cac5b6",
   "metadata": {},
   "source": [
    "#### Preprocessing Dept"
   ]
  },
  {
   "cell_type": "code",
   "execution_count": 498,
   "id": "60c121ab",
   "metadata": {
    "scrolled": true
   },
   "outputs": [
    {
     "data": {
      "text/html": [
       "<style>#sk-container-id-20 {color: black;}#sk-container-id-20 pre{padding: 0;}#sk-container-id-20 div.sk-toggleable {background-color: white;}#sk-container-id-20 label.sk-toggleable__label {cursor: pointer;display: block;width: 100%;margin-bottom: 0;padding: 0.3em;box-sizing: border-box;text-align: center;}#sk-container-id-20 label.sk-toggleable__label-arrow:before {content: \"▸\";float: left;margin-right: 0.25em;color: #696969;}#sk-container-id-20 label.sk-toggleable__label-arrow:hover:before {color: black;}#sk-container-id-20 div.sk-estimator:hover label.sk-toggleable__label-arrow:before {color: black;}#sk-container-id-20 div.sk-toggleable__content {max-height: 0;max-width: 0;overflow: hidden;text-align: left;background-color: #f0f8ff;}#sk-container-id-20 div.sk-toggleable__content pre {margin: 0.2em;color: black;border-radius: 0.25em;background-color: #f0f8ff;}#sk-container-id-20 input.sk-toggleable__control:checked~div.sk-toggleable__content {max-height: 200px;max-width: 100%;overflow: auto;}#sk-container-id-20 input.sk-toggleable__control:checked~label.sk-toggleable__label-arrow:before {content: \"▾\";}#sk-container-id-20 div.sk-estimator input.sk-toggleable__control:checked~label.sk-toggleable__label {background-color: #d4ebff;}#sk-container-id-20 div.sk-label input.sk-toggleable__control:checked~label.sk-toggleable__label {background-color: #d4ebff;}#sk-container-id-20 input.sk-hidden--visually {border: 0;clip: rect(1px 1px 1px 1px);clip: rect(1px, 1px, 1px, 1px);height: 1px;margin: -1px;overflow: hidden;padding: 0;position: absolute;width: 1px;}#sk-container-id-20 div.sk-estimator {font-family: monospace;background-color: #f0f8ff;border: 1px dotted black;border-radius: 0.25em;box-sizing: border-box;margin-bottom: 0.5em;}#sk-container-id-20 div.sk-estimator:hover {background-color: #d4ebff;}#sk-container-id-20 div.sk-parallel-item::after {content: \"\";width: 100%;border-bottom: 1px solid gray;flex-grow: 1;}#sk-container-id-20 div.sk-label:hover label.sk-toggleable__label {background-color: #d4ebff;}#sk-container-id-20 div.sk-serial::before {content: \"\";position: absolute;border-left: 1px solid gray;box-sizing: border-box;top: 0;bottom: 0;left: 50%;z-index: 0;}#sk-container-id-20 div.sk-serial {display: flex;flex-direction: column;align-items: center;background-color: white;padding-right: 0.2em;padding-left: 0.2em;position: relative;}#sk-container-id-20 div.sk-item {position: relative;z-index: 1;}#sk-container-id-20 div.sk-parallel {display: flex;align-items: stretch;justify-content: center;background-color: white;position: relative;}#sk-container-id-20 div.sk-item::before, #sk-container-id-20 div.sk-parallel-item::before {content: \"\";position: absolute;border-left: 1px solid gray;box-sizing: border-box;top: 0;bottom: 0;left: 50%;z-index: -1;}#sk-container-id-20 div.sk-parallel-item {display: flex;flex-direction: column;z-index: 1;position: relative;background-color: white;}#sk-container-id-20 div.sk-parallel-item:first-child::after {align-self: flex-end;width: 50%;}#sk-container-id-20 div.sk-parallel-item:last-child::after {align-self: flex-start;width: 50%;}#sk-container-id-20 div.sk-parallel-item:only-child::after {width: 0;}#sk-container-id-20 div.sk-dashed-wrapped {border: 1px dashed gray;margin: 0 0.4em 0.5em 0.4em;box-sizing: border-box;padding-bottom: 0.4em;background-color: white;}#sk-container-id-20 div.sk-label label {font-family: monospace;font-weight: bold;display: inline-block;line-height: 1.2em;}#sk-container-id-20 div.sk-label-container {text-align: center;}#sk-container-id-20 div.sk-container {/* jupyter's `normalize.less` sets `[hidden] { display: none; }` but bootstrap.min.css set `[hidden] { display: none !important; }` so we also need the `!important` here to be able to override the default hidden behavior on the sphinx rendered scikit-learn.org. See: https://github.com/scikit-learn/scikit-learn/issues/21755 */display: inline-block !important;position: relative;}#sk-container-id-20 div.sk-text-repr-fallback {display: none;}</style><div id=\"sk-container-id-20\" class=\"sk-top-container\"><div class=\"sk-text-repr-fallback\"><pre>LabelEncoder()</pre><b>In a Jupyter environment, please rerun this cell to show the HTML representation or trust the notebook. <br />On GitHub, the HTML representation is unable to render, please try loading this page with nbviewer.org.</b></div><div class=\"sk-container\" hidden><div class=\"sk-item\"><div class=\"sk-estimator sk-toggleable\"><input class=\"sk-toggleable__control sk-hidden--visually\" id=\"sk-estimator-id-20\" type=\"checkbox\" checked><label for=\"sk-estimator-id-20\" class=\"sk-toggleable__label sk-toggleable__label-arrow\">LabelEncoder</label><div class=\"sk-toggleable__content\"><pre>LabelEncoder()</pre></div></div></div></div></div>"
      ],
      "text/plain": [
       "LabelEncoder()"
      ]
     },
     "execution_count": 498,
     "metadata": {},
     "output_type": "execute_result"
    }
   ],
   "source": [
    "dept_label_encoder = LabelEncoder()\n",
    "dept_label_encoder.fit(sorted(list(X_train.Dept.unique())))"
   ]
  },
  {
   "cell_type": "code",
   "execution_count": 499,
   "id": "62fcee52",
   "metadata": {
    "scrolled": true
   },
   "outputs": [
    {
     "name": "stderr",
     "output_type": "stream",
     "text": [
      "/Users/astonuser/anaconda3/envs/transformer_time_series_forecast/lib/python3.8/site-packages/sklearn/preprocessing/_label.py:132: DataConversionWarning: A column-vector y was passed when a 1d array was expected. Please change the shape of y to (n_samples, ), for example using ravel().\n",
      "  y = column_or_1d(y, dtype=self.classes_.dtype, warn=True)\n",
      "/var/folders/7x/qzp6r7jn19gf5g0r68gpc_3r0000gp/T/ipykernel_764/2324919871.py:1: SettingWithCopyWarning: \n",
      "A value is trying to be set on a copy of a slice from a DataFrame.\n",
      "Try using .loc[row_indexer,col_indexer] = value instead\n",
      "\n",
      "See the caveats in the documentation: https://pandas.pydata.org/pandas-docs/stable/user_guide/indexing.html#returning-a-view-versus-a-copy\n",
      "  X_train['Dept'] = dept_label_encoder.transform(X_train[['Dept']])\n",
      "/Users/astonuser/anaconda3/envs/transformer_time_series_forecast/lib/python3.8/site-packages/sklearn/preprocessing/_label.py:132: DataConversionWarning: A column-vector y was passed when a 1d array was expected. Please change the shape of y to (n_samples, ), for example using ravel().\n",
      "  y = column_or_1d(y, dtype=self.classes_.dtype, warn=True)\n",
      "/var/folders/7x/qzp6r7jn19gf5g0r68gpc_3r0000gp/T/ipykernel_764/2324919871.py:2: SettingWithCopyWarning: \n",
      "A value is trying to be set on a copy of a slice from a DataFrame.\n",
      "Try using .loc[row_indexer,col_indexer] = value instead\n",
      "\n",
      "See the caveats in the documentation: https://pandas.pydata.org/pandas-docs/stable/user_guide/indexing.html#returning-a-view-versus-a-copy\n",
      "  X_val['Dept'] = dept_label_encoder.transform(X_val[['Dept']])\n",
      "/Users/astonuser/anaconda3/envs/transformer_time_series_forecast/lib/python3.8/site-packages/sklearn/preprocessing/_label.py:132: DataConversionWarning: A column-vector y was passed when a 1d array was expected. Please change the shape of y to (n_samples, ), for example using ravel().\n",
      "  y = column_or_1d(y, dtype=self.classes_.dtype, warn=True)\n",
      "/var/folders/7x/qzp6r7jn19gf5g0r68gpc_3r0000gp/T/ipykernel_764/2324919871.py:3: SettingWithCopyWarning: \n",
      "A value is trying to be set on a copy of a slice from a DataFrame.\n",
      "Try using .loc[row_indexer,col_indexer] = value instead\n",
      "\n",
      "See the caveats in the documentation: https://pandas.pydata.org/pandas-docs/stable/user_guide/indexing.html#returning-a-view-versus-a-copy\n",
      "  X_test['Dept'] = dept_label_encoder.transform(X_test[['Dept']])\n"
     ]
    }
   ],
   "source": [
    "X_train['Dept'] = dept_label_encoder.transform(X_train[['Dept']])\n",
    "X_val['Dept'] = dept_label_encoder.transform(X_val[['Dept']])\n",
    "X_test['Dept'] = dept_label_encoder.transform(X_test[['Dept']])"
   ]
  },
  {
   "cell_type": "markdown",
   "id": "ab31457d",
   "metadata": {},
   "source": [
    "#### Preprocessing Size"
   ]
  },
  {
   "cell_type": "code",
   "execution_count": 500,
   "id": "22bde054",
   "metadata": {},
   "outputs": [
    {
     "data": {
      "text/html": [
       "<style>#sk-container-id-21 {color: black;}#sk-container-id-21 pre{padding: 0;}#sk-container-id-21 div.sk-toggleable {background-color: white;}#sk-container-id-21 label.sk-toggleable__label {cursor: pointer;display: block;width: 100%;margin-bottom: 0;padding: 0.3em;box-sizing: border-box;text-align: center;}#sk-container-id-21 label.sk-toggleable__label-arrow:before {content: \"▸\";float: left;margin-right: 0.25em;color: #696969;}#sk-container-id-21 label.sk-toggleable__label-arrow:hover:before {color: black;}#sk-container-id-21 div.sk-estimator:hover label.sk-toggleable__label-arrow:before {color: black;}#sk-container-id-21 div.sk-toggleable__content {max-height: 0;max-width: 0;overflow: hidden;text-align: left;background-color: #f0f8ff;}#sk-container-id-21 div.sk-toggleable__content pre {margin: 0.2em;color: black;border-radius: 0.25em;background-color: #f0f8ff;}#sk-container-id-21 input.sk-toggleable__control:checked~div.sk-toggleable__content {max-height: 200px;max-width: 100%;overflow: auto;}#sk-container-id-21 input.sk-toggleable__control:checked~label.sk-toggleable__label-arrow:before {content: \"▾\";}#sk-container-id-21 div.sk-estimator input.sk-toggleable__control:checked~label.sk-toggleable__label {background-color: #d4ebff;}#sk-container-id-21 div.sk-label input.sk-toggleable__control:checked~label.sk-toggleable__label {background-color: #d4ebff;}#sk-container-id-21 input.sk-hidden--visually {border: 0;clip: rect(1px 1px 1px 1px);clip: rect(1px, 1px, 1px, 1px);height: 1px;margin: -1px;overflow: hidden;padding: 0;position: absolute;width: 1px;}#sk-container-id-21 div.sk-estimator {font-family: monospace;background-color: #f0f8ff;border: 1px dotted black;border-radius: 0.25em;box-sizing: border-box;margin-bottom: 0.5em;}#sk-container-id-21 div.sk-estimator:hover {background-color: #d4ebff;}#sk-container-id-21 div.sk-parallel-item::after {content: \"\";width: 100%;border-bottom: 1px solid gray;flex-grow: 1;}#sk-container-id-21 div.sk-label:hover label.sk-toggleable__label {background-color: #d4ebff;}#sk-container-id-21 div.sk-serial::before {content: \"\";position: absolute;border-left: 1px solid gray;box-sizing: border-box;top: 0;bottom: 0;left: 50%;z-index: 0;}#sk-container-id-21 div.sk-serial {display: flex;flex-direction: column;align-items: center;background-color: white;padding-right: 0.2em;padding-left: 0.2em;position: relative;}#sk-container-id-21 div.sk-item {position: relative;z-index: 1;}#sk-container-id-21 div.sk-parallel {display: flex;align-items: stretch;justify-content: center;background-color: white;position: relative;}#sk-container-id-21 div.sk-item::before, #sk-container-id-21 div.sk-parallel-item::before {content: \"\";position: absolute;border-left: 1px solid gray;box-sizing: border-box;top: 0;bottom: 0;left: 50%;z-index: -1;}#sk-container-id-21 div.sk-parallel-item {display: flex;flex-direction: column;z-index: 1;position: relative;background-color: white;}#sk-container-id-21 div.sk-parallel-item:first-child::after {align-self: flex-end;width: 50%;}#sk-container-id-21 div.sk-parallel-item:last-child::after {align-self: flex-start;width: 50%;}#sk-container-id-21 div.sk-parallel-item:only-child::after {width: 0;}#sk-container-id-21 div.sk-dashed-wrapped {border: 1px dashed gray;margin: 0 0.4em 0.5em 0.4em;box-sizing: border-box;padding-bottom: 0.4em;background-color: white;}#sk-container-id-21 div.sk-label label {font-family: monospace;font-weight: bold;display: inline-block;line-height: 1.2em;}#sk-container-id-21 div.sk-label-container {text-align: center;}#sk-container-id-21 div.sk-container {/* jupyter's `normalize.less` sets `[hidden] { display: none; }` but bootstrap.min.css set `[hidden] { display: none !important; }` so we also need the `!important` here to be able to override the default hidden behavior on the sphinx rendered scikit-learn.org. See: https://github.com/scikit-learn/scikit-learn/issues/21755 */display: inline-block !important;position: relative;}#sk-container-id-21 div.sk-text-repr-fallback {display: none;}</style><div id=\"sk-container-id-21\" class=\"sk-top-container\"><div class=\"sk-text-repr-fallback\"><pre>MinMaxScaler()</pre><b>In a Jupyter environment, please rerun this cell to show the HTML representation or trust the notebook. <br />On GitHub, the HTML representation is unable to render, please try loading this page with nbviewer.org.</b></div><div class=\"sk-container\" hidden><div class=\"sk-item\"><div class=\"sk-estimator sk-toggleable\"><input class=\"sk-toggleable__control sk-hidden--visually\" id=\"sk-estimator-id-21\" type=\"checkbox\" checked><label for=\"sk-estimator-id-21\" class=\"sk-toggleable__label sk-toggleable__label-arrow\">MinMaxScaler</label><div class=\"sk-toggleable__content\"><pre>MinMaxScaler()</pre></div></div></div></div></div>"
      ],
      "text/plain": [
       "MinMaxScaler()"
      ]
     },
     "execution_count": 500,
     "metadata": {},
     "output_type": "execute_result"
    }
   ],
   "source": [
    "size_min_max_scaler = MinMaxScaler()\n",
    "size_min_max_scaler.fit(X_train[['Size']])"
   ]
  },
  {
   "cell_type": "code",
   "execution_count": 501,
   "id": "77b887ba",
   "metadata": {
    "scrolled": true
   },
   "outputs": [
    {
     "name": "stderr",
     "output_type": "stream",
     "text": [
      "/var/folders/7x/qzp6r7jn19gf5g0r68gpc_3r0000gp/T/ipykernel_764/2702060106.py:1: SettingWithCopyWarning: \n",
      "A value is trying to be set on a copy of a slice from a DataFrame.\n",
      "Try using .loc[row_indexer,col_indexer] = value instead\n",
      "\n",
      "See the caveats in the documentation: https://pandas.pydata.org/pandas-docs/stable/user_guide/indexing.html#returning-a-view-versus-a-copy\n",
      "  X_train.Size = size_min_max_scaler.transform(X_train[['Size']])\n",
      "/var/folders/7x/qzp6r7jn19gf5g0r68gpc_3r0000gp/T/ipykernel_764/2702060106.py:2: SettingWithCopyWarning: \n",
      "A value is trying to be set on a copy of a slice from a DataFrame.\n",
      "Try using .loc[row_indexer,col_indexer] = value instead\n",
      "\n",
      "See the caveats in the documentation: https://pandas.pydata.org/pandas-docs/stable/user_guide/indexing.html#returning-a-view-versus-a-copy\n",
      "  X_val.Size = size_min_max_scaler.transform(X_val[['Size']])\n",
      "/var/folders/7x/qzp6r7jn19gf5g0r68gpc_3r0000gp/T/ipykernel_764/2702060106.py:3: SettingWithCopyWarning: \n",
      "A value is trying to be set on a copy of a slice from a DataFrame.\n",
      "Try using .loc[row_indexer,col_indexer] = value instead\n",
      "\n",
      "See the caveats in the documentation: https://pandas.pydata.org/pandas-docs/stable/user_guide/indexing.html#returning-a-view-versus-a-copy\n",
      "  X_test.Size = size_min_max_scaler.transform(X_test[['Size']])\n"
     ]
    }
   ],
   "source": [
    "X_train.Size = size_min_max_scaler.transform(X_train[['Size']])\n",
    "X_val.Size = size_min_max_scaler.transform(X_val[['Size']])\n",
    "X_test.Size = size_min_max_scaler.transform(X_test[['Size']])"
   ]
  },
  {
   "cell_type": "markdown",
   "id": "d335e7f7",
   "metadata": {},
   "source": [
    "#### Preprocessing IsHoliday"
   ]
  },
  {
   "cell_type": "code",
   "execution_count": 502,
   "id": "4288e0ac",
   "metadata": {},
   "outputs": [],
   "source": [
    "is_holiday_transformer = lambda x: 1 if x else 0"
   ]
  },
  {
   "cell_type": "code",
   "execution_count": 503,
   "id": "419f02b3",
   "metadata": {
    "scrolled": true
   },
   "outputs": [
    {
     "name": "stderr",
     "output_type": "stream",
     "text": [
      "/var/folders/7x/qzp6r7jn19gf5g0r68gpc_3r0000gp/T/ipykernel_764/3890250643.py:1: SettingWithCopyWarning: \n",
      "A value is trying to be set on a copy of a slice from a DataFrame.\n",
      "Try using .loc[row_indexer,col_indexer] = value instead\n",
      "\n",
      "See the caveats in the documentation: https://pandas.pydata.org/pandas-docs/stable/user_guide/indexing.html#returning-a-view-versus-a-copy\n",
      "  X_train.IsHoliday = X_train.IsHoliday.apply(is_holiday_transformer)\n",
      "/var/folders/7x/qzp6r7jn19gf5g0r68gpc_3r0000gp/T/ipykernel_764/3890250643.py:2: SettingWithCopyWarning: \n",
      "A value is trying to be set on a copy of a slice from a DataFrame.\n",
      "Try using .loc[row_indexer,col_indexer] = value instead\n",
      "\n",
      "See the caveats in the documentation: https://pandas.pydata.org/pandas-docs/stable/user_guide/indexing.html#returning-a-view-versus-a-copy\n",
      "  X_val.IsHoliday = X_val.IsHoliday.apply(is_holiday_transformer)\n",
      "/var/folders/7x/qzp6r7jn19gf5g0r68gpc_3r0000gp/T/ipykernel_764/3890250643.py:3: SettingWithCopyWarning: \n",
      "A value is trying to be set on a copy of a slice from a DataFrame.\n",
      "Try using .loc[row_indexer,col_indexer] = value instead\n",
      "\n",
      "See the caveats in the documentation: https://pandas.pydata.org/pandas-docs/stable/user_guide/indexing.html#returning-a-view-versus-a-copy\n",
      "  X_test.IsHoliday = X_test.IsHoliday.apply(is_holiday_transformer)\n"
     ]
    }
   ],
   "source": [
    "X_train.IsHoliday = X_train.IsHoliday.apply(is_holiday_transformer)\n",
    "X_val.IsHoliday = X_val.IsHoliday.apply(is_holiday_transformer)\n",
    "X_test.IsHoliday = X_test.IsHoliday.apply(is_holiday_transformer)"
   ]
  },
  {
   "cell_type": "markdown",
   "id": "e9957f8e",
   "metadata": {},
   "source": [
    "#### Preprocessing Temperature"
   ]
  },
  {
   "cell_type": "code",
   "execution_count": 504,
   "id": "2212f2da",
   "metadata": {},
   "outputs": [
    {
     "data": {
      "text/html": [
       "<style>#sk-container-id-22 {color: black;}#sk-container-id-22 pre{padding: 0;}#sk-container-id-22 div.sk-toggleable {background-color: white;}#sk-container-id-22 label.sk-toggleable__label {cursor: pointer;display: block;width: 100%;margin-bottom: 0;padding: 0.3em;box-sizing: border-box;text-align: center;}#sk-container-id-22 label.sk-toggleable__label-arrow:before {content: \"▸\";float: left;margin-right: 0.25em;color: #696969;}#sk-container-id-22 label.sk-toggleable__label-arrow:hover:before {color: black;}#sk-container-id-22 div.sk-estimator:hover label.sk-toggleable__label-arrow:before {color: black;}#sk-container-id-22 div.sk-toggleable__content {max-height: 0;max-width: 0;overflow: hidden;text-align: left;background-color: #f0f8ff;}#sk-container-id-22 div.sk-toggleable__content pre {margin: 0.2em;color: black;border-radius: 0.25em;background-color: #f0f8ff;}#sk-container-id-22 input.sk-toggleable__control:checked~div.sk-toggleable__content {max-height: 200px;max-width: 100%;overflow: auto;}#sk-container-id-22 input.sk-toggleable__control:checked~label.sk-toggleable__label-arrow:before {content: \"▾\";}#sk-container-id-22 div.sk-estimator input.sk-toggleable__control:checked~label.sk-toggleable__label {background-color: #d4ebff;}#sk-container-id-22 div.sk-label input.sk-toggleable__control:checked~label.sk-toggleable__label {background-color: #d4ebff;}#sk-container-id-22 input.sk-hidden--visually {border: 0;clip: rect(1px 1px 1px 1px);clip: rect(1px, 1px, 1px, 1px);height: 1px;margin: -1px;overflow: hidden;padding: 0;position: absolute;width: 1px;}#sk-container-id-22 div.sk-estimator {font-family: monospace;background-color: #f0f8ff;border: 1px dotted black;border-radius: 0.25em;box-sizing: border-box;margin-bottom: 0.5em;}#sk-container-id-22 div.sk-estimator:hover {background-color: #d4ebff;}#sk-container-id-22 div.sk-parallel-item::after {content: \"\";width: 100%;border-bottom: 1px solid gray;flex-grow: 1;}#sk-container-id-22 div.sk-label:hover label.sk-toggleable__label {background-color: #d4ebff;}#sk-container-id-22 div.sk-serial::before {content: \"\";position: absolute;border-left: 1px solid gray;box-sizing: border-box;top: 0;bottom: 0;left: 50%;z-index: 0;}#sk-container-id-22 div.sk-serial {display: flex;flex-direction: column;align-items: center;background-color: white;padding-right: 0.2em;padding-left: 0.2em;position: relative;}#sk-container-id-22 div.sk-item {position: relative;z-index: 1;}#sk-container-id-22 div.sk-parallel {display: flex;align-items: stretch;justify-content: center;background-color: white;position: relative;}#sk-container-id-22 div.sk-item::before, #sk-container-id-22 div.sk-parallel-item::before {content: \"\";position: absolute;border-left: 1px solid gray;box-sizing: border-box;top: 0;bottom: 0;left: 50%;z-index: -1;}#sk-container-id-22 div.sk-parallel-item {display: flex;flex-direction: column;z-index: 1;position: relative;background-color: white;}#sk-container-id-22 div.sk-parallel-item:first-child::after {align-self: flex-end;width: 50%;}#sk-container-id-22 div.sk-parallel-item:last-child::after {align-self: flex-start;width: 50%;}#sk-container-id-22 div.sk-parallel-item:only-child::after {width: 0;}#sk-container-id-22 div.sk-dashed-wrapped {border: 1px dashed gray;margin: 0 0.4em 0.5em 0.4em;box-sizing: border-box;padding-bottom: 0.4em;background-color: white;}#sk-container-id-22 div.sk-label label {font-family: monospace;font-weight: bold;display: inline-block;line-height: 1.2em;}#sk-container-id-22 div.sk-label-container {text-align: center;}#sk-container-id-22 div.sk-container {/* jupyter's `normalize.less` sets `[hidden] { display: none; }` but bootstrap.min.css set `[hidden] { display: none !important; }` so we also need the `!important` here to be able to override the default hidden behavior on the sphinx rendered scikit-learn.org. See: https://github.com/scikit-learn/scikit-learn/issues/21755 */display: inline-block !important;position: relative;}#sk-container-id-22 div.sk-text-repr-fallback {display: none;}</style><div id=\"sk-container-id-22\" class=\"sk-top-container\"><div class=\"sk-text-repr-fallback\"><pre>MinMaxScaler()</pre><b>In a Jupyter environment, please rerun this cell to show the HTML representation or trust the notebook. <br />On GitHub, the HTML representation is unable to render, please try loading this page with nbviewer.org.</b></div><div class=\"sk-container\" hidden><div class=\"sk-item\"><div class=\"sk-estimator sk-toggleable\"><input class=\"sk-toggleable__control sk-hidden--visually\" id=\"sk-estimator-id-22\" type=\"checkbox\" checked><label for=\"sk-estimator-id-22\" class=\"sk-toggleable__label sk-toggleable__label-arrow\">MinMaxScaler</label><div class=\"sk-toggleable__content\"><pre>MinMaxScaler()</pre></div></div></div></div></div>"
      ],
      "text/plain": [
       "MinMaxScaler()"
      ]
     },
     "execution_count": 504,
     "metadata": {},
     "output_type": "execute_result"
    }
   ],
   "source": [
    "temperature_min_max_scaler = MinMaxScaler()\n",
    "temperature_min_max_scaler.fit(X_train[['Temperature']])"
   ]
  },
  {
   "cell_type": "code",
   "execution_count": 505,
   "id": "e5a6c6d7",
   "metadata": {
    "scrolled": true
   },
   "outputs": [
    {
     "name": "stderr",
     "output_type": "stream",
     "text": [
      "/var/folders/7x/qzp6r7jn19gf5g0r68gpc_3r0000gp/T/ipykernel_764/1389029567.py:1: SettingWithCopyWarning: \n",
      "A value is trying to be set on a copy of a slice from a DataFrame.\n",
      "Try using .loc[row_indexer,col_indexer] = value instead\n",
      "\n",
      "See the caveats in the documentation: https://pandas.pydata.org/pandas-docs/stable/user_guide/indexing.html#returning-a-view-versus-a-copy\n",
      "  X_train.Temperature = temperature_min_max_scaler.transform(X_train[['Temperature']])\n",
      "/var/folders/7x/qzp6r7jn19gf5g0r68gpc_3r0000gp/T/ipykernel_764/1389029567.py:2: SettingWithCopyWarning: \n",
      "A value is trying to be set on a copy of a slice from a DataFrame.\n",
      "Try using .loc[row_indexer,col_indexer] = value instead\n",
      "\n",
      "See the caveats in the documentation: https://pandas.pydata.org/pandas-docs/stable/user_guide/indexing.html#returning-a-view-versus-a-copy\n",
      "  X_val.Temperature = temperature_min_max_scaler.transform(X_val[['Temperature']])\n",
      "/var/folders/7x/qzp6r7jn19gf5g0r68gpc_3r0000gp/T/ipykernel_764/1389029567.py:3: SettingWithCopyWarning: \n",
      "A value is trying to be set on a copy of a slice from a DataFrame.\n",
      "Try using .loc[row_indexer,col_indexer] = value instead\n",
      "\n",
      "See the caveats in the documentation: https://pandas.pydata.org/pandas-docs/stable/user_guide/indexing.html#returning-a-view-versus-a-copy\n",
      "  X_test.Temperature = temperature_min_max_scaler.transform(X_test[['Temperature']])\n"
     ]
    }
   ],
   "source": [
    "X_train.Temperature = temperature_min_max_scaler.transform(X_train[['Temperature']])\n",
    "X_val.Temperature = temperature_min_max_scaler.transform(X_val[['Temperature']])\n",
    "X_test.Temperature = temperature_min_max_scaler.transform(X_test[['Temperature']])"
   ]
  },
  {
   "cell_type": "markdown",
   "id": "36bbbc96",
   "metadata": {},
   "source": [
    "#### Preprocessing CPI"
   ]
  },
  {
   "cell_type": "code",
   "execution_count": 506,
   "id": "0aafff9f",
   "metadata": {},
   "outputs": [
    {
     "data": {
      "text/html": [
       "<style>#sk-container-id-23 {color: black;}#sk-container-id-23 pre{padding: 0;}#sk-container-id-23 div.sk-toggleable {background-color: white;}#sk-container-id-23 label.sk-toggleable__label {cursor: pointer;display: block;width: 100%;margin-bottom: 0;padding: 0.3em;box-sizing: border-box;text-align: center;}#sk-container-id-23 label.sk-toggleable__label-arrow:before {content: \"▸\";float: left;margin-right: 0.25em;color: #696969;}#sk-container-id-23 label.sk-toggleable__label-arrow:hover:before {color: black;}#sk-container-id-23 div.sk-estimator:hover label.sk-toggleable__label-arrow:before {color: black;}#sk-container-id-23 div.sk-toggleable__content {max-height: 0;max-width: 0;overflow: hidden;text-align: left;background-color: #f0f8ff;}#sk-container-id-23 div.sk-toggleable__content pre {margin: 0.2em;color: black;border-radius: 0.25em;background-color: #f0f8ff;}#sk-container-id-23 input.sk-toggleable__control:checked~div.sk-toggleable__content {max-height: 200px;max-width: 100%;overflow: auto;}#sk-container-id-23 input.sk-toggleable__control:checked~label.sk-toggleable__label-arrow:before {content: \"▾\";}#sk-container-id-23 div.sk-estimator input.sk-toggleable__control:checked~label.sk-toggleable__label {background-color: #d4ebff;}#sk-container-id-23 div.sk-label input.sk-toggleable__control:checked~label.sk-toggleable__label {background-color: #d4ebff;}#sk-container-id-23 input.sk-hidden--visually {border: 0;clip: rect(1px 1px 1px 1px);clip: rect(1px, 1px, 1px, 1px);height: 1px;margin: -1px;overflow: hidden;padding: 0;position: absolute;width: 1px;}#sk-container-id-23 div.sk-estimator {font-family: monospace;background-color: #f0f8ff;border: 1px dotted black;border-radius: 0.25em;box-sizing: border-box;margin-bottom: 0.5em;}#sk-container-id-23 div.sk-estimator:hover {background-color: #d4ebff;}#sk-container-id-23 div.sk-parallel-item::after {content: \"\";width: 100%;border-bottom: 1px solid gray;flex-grow: 1;}#sk-container-id-23 div.sk-label:hover label.sk-toggleable__label {background-color: #d4ebff;}#sk-container-id-23 div.sk-serial::before {content: \"\";position: absolute;border-left: 1px solid gray;box-sizing: border-box;top: 0;bottom: 0;left: 50%;z-index: 0;}#sk-container-id-23 div.sk-serial {display: flex;flex-direction: column;align-items: center;background-color: white;padding-right: 0.2em;padding-left: 0.2em;position: relative;}#sk-container-id-23 div.sk-item {position: relative;z-index: 1;}#sk-container-id-23 div.sk-parallel {display: flex;align-items: stretch;justify-content: center;background-color: white;position: relative;}#sk-container-id-23 div.sk-item::before, #sk-container-id-23 div.sk-parallel-item::before {content: \"\";position: absolute;border-left: 1px solid gray;box-sizing: border-box;top: 0;bottom: 0;left: 50%;z-index: -1;}#sk-container-id-23 div.sk-parallel-item {display: flex;flex-direction: column;z-index: 1;position: relative;background-color: white;}#sk-container-id-23 div.sk-parallel-item:first-child::after {align-self: flex-end;width: 50%;}#sk-container-id-23 div.sk-parallel-item:last-child::after {align-self: flex-start;width: 50%;}#sk-container-id-23 div.sk-parallel-item:only-child::after {width: 0;}#sk-container-id-23 div.sk-dashed-wrapped {border: 1px dashed gray;margin: 0 0.4em 0.5em 0.4em;box-sizing: border-box;padding-bottom: 0.4em;background-color: white;}#sk-container-id-23 div.sk-label label {font-family: monospace;font-weight: bold;display: inline-block;line-height: 1.2em;}#sk-container-id-23 div.sk-label-container {text-align: center;}#sk-container-id-23 div.sk-container {/* jupyter's `normalize.less` sets `[hidden] { display: none; }` but bootstrap.min.css set `[hidden] { display: none !important; }` so we also need the `!important` here to be able to override the default hidden behavior on the sphinx rendered scikit-learn.org. See: https://github.com/scikit-learn/scikit-learn/issues/21755 */display: inline-block !important;position: relative;}#sk-container-id-23 div.sk-text-repr-fallback {display: none;}</style><div id=\"sk-container-id-23\" class=\"sk-top-container\"><div class=\"sk-text-repr-fallback\"><pre>MinMaxScaler()</pre><b>In a Jupyter environment, please rerun this cell to show the HTML representation or trust the notebook. <br />On GitHub, the HTML representation is unable to render, please try loading this page with nbviewer.org.</b></div><div class=\"sk-container\" hidden><div class=\"sk-item\"><div class=\"sk-estimator sk-toggleable\"><input class=\"sk-toggleable__control sk-hidden--visually\" id=\"sk-estimator-id-23\" type=\"checkbox\" checked><label for=\"sk-estimator-id-23\" class=\"sk-toggleable__label sk-toggleable__label-arrow\">MinMaxScaler</label><div class=\"sk-toggleable__content\"><pre>MinMaxScaler()</pre></div></div></div></div></div>"
      ],
      "text/plain": [
       "MinMaxScaler()"
      ]
     },
     "execution_count": 506,
     "metadata": {},
     "output_type": "execute_result"
    }
   ],
   "source": [
    "cpi_min_max_scaler = MinMaxScaler()\n",
    "cpi_min_max_scaler.fit(X_train[['CPI']])"
   ]
  },
  {
   "cell_type": "code",
   "execution_count": 507,
   "id": "b22a8d8e",
   "metadata": {
    "scrolled": true
   },
   "outputs": [
    {
     "name": "stderr",
     "output_type": "stream",
     "text": [
      "/var/folders/7x/qzp6r7jn19gf5g0r68gpc_3r0000gp/T/ipykernel_764/2361466852.py:1: SettingWithCopyWarning: \n",
      "A value is trying to be set on a copy of a slice from a DataFrame.\n",
      "Try using .loc[row_indexer,col_indexer] = value instead\n",
      "\n",
      "See the caveats in the documentation: https://pandas.pydata.org/pandas-docs/stable/user_guide/indexing.html#returning-a-view-versus-a-copy\n",
      "  X_train.CPI = cpi_min_max_scaler.transform(X_train[['CPI']])\n",
      "/var/folders/7x/qzp6r7jn19gf5g0r68gpc_3r0000gp/T/ipykernel_764/2361466852.py:2: SettingWithCopyWarning: \n",
      "A value is trying to be set on a copy of a slice from a DataFrame.\n",
      "Try using .loc[row_indexer,col_indexer] = value instead\n",
      "\n",
      "See the caveats in the documentation: https://pandas.pydata.org/pandas-docs/stable/user_guide/indexing.html#returning-a-view-versus-a-copy\n",
      "  X_val.CPI = cpi_min_max_scaler.transform(X_val[['CPI']])\n",
      "/var/folders/7x/qzp6r7jn19gf5g0r68gpc_3r0000gp/T/ipykernel_764/2361466852.py:3: SettingWithCopyWarning: \n",
      "A value is trying to be set on a copy of a slice from a DataFrame.\n",
      "Try using .loc[row_indexer,col_indexer] = value instead\n",
      "\n",
      "See the caveats in the documentation: https://pandas.pydata.org/pandas-docs/stable/user_guide/indexing.html#returning-a-view-versus-a-copy\n",
      "  X_test.CPI = cpi_min_max_scaler.transform(X_test[['CPI']])\n"
     ]
    }
   ],
   "source": [
    "X_train.CPI = cpi_min_max_scaler.transform(X_train[['CPI']])\n",
    "X_val.CPI = cpi_min_max_scaler.transform(X_val[['CPI']])\n",
    "X_test.CPI = cpi_min_max_scaler.transform(X_test[['CPI']])"
   ]
  },
  {
   "cell_type": "markdown",
   "id": "01745040",
   "metadata": {},
   "source": [
    "#### Preprocessing Unemployment"
   ]
  },
  {
   "cell_type": "code",
   "execution_count": 508,
   "id": "8bad449c",
   "metadata": {},
   "outputs": [
    {
     "data": {
      "text/html": [
       "<style>#sk-container-id-24 {color: black;}#sk-container-id-24 pre{padding: 0;}#sk-container-id-24 div.sk-toggleable {background-color: white;}#sk-container-id-24 label.sk-toggleable__label {cursor: pointer;display: block;width: 100%;margin-bottom: 0;padding: 0.3em;box-sizing: border-box;text-align: center;}#sk-container-id-24 label.sk-toggleable__label-arrow:before {content: \"▸\";float: left;margin-right: 0.25em;color: #696969;}#sk-container-id-24 label.sk-toggleable__label-arrow:hover:before {color: black;}#sk-container-id-24 div.sk-estimator:hover label.sk-toggleable__label-arrow:before {color: black;}#sk-container-id-24 div.sk-toggleable__content {max-height: 0;max-width: 0;overflow: hidden;text-align: left;background-color: #f0f8ff;}#sk-container-id-24 div.sk-toggleable__content pre {margin: 0.2em;color: black;border-radius: 0.25em;background-color: #f0f8ff;}#sk-container-id-24 input.sk-toggleable__control:checked~div.sk-toggleable__content {max-height: 200px;max-width: 100%;overflow: auto;}#sk-container-id-24 input.sk-toggleable__control:checked~label.sk-toggleable__label-arrow:before {content: \"▾\";}#sk-container-id-24 div.sk-estimator input.sk-toggleable__control:checked~label.sk-toggleable__label {background-color: #d4ebff;}#sk-container-id-24 div.sk-label input.sk-toggleable__control:checked~label.sk-toggleable__label {background-color: #d4ebff;}#sk-container-id-24 input.sk-hidden--visually {border: 0;clip: rect(1px 1px 1px 1px);clip: rect(1px, 1px, 1px, 1px);height: 1px;margin: -1px;overflow: hidden;padding: 0;position: absolute;width: 1px;}#sk-container-id-24 div.sk-estimator {font-family: monospace;background-color: #f0f8ff;border: 1px dotted black;border-radius: 0.25em;box-sizing: border-box;margin-bottom: 0.5em;}#sk-container-id-24 div.sk-estimator:hover {background-color: #d4ebff;}#sk-container-id-24 div.sk-parallel-item::after {content: \"\";width: 100%;border-bottom: 1px solid gray;flex-grow: 1;}#sk-container-id-24 div.sk-label:hover label.sk-toggleable__label {background-color: #d4ebff;}#sk-container-id-24 div.sk-serial::before {content: \"\";position: absolute;border-left: 1px solid gray;box-sizing: border-box;top: 0;bottom: 0;left: 50%;z-index: 0;}#sk-container-id-24 div.sk-serial {display: flex;flex-direction: column;align-items: center;background-color: white;padding-right: 0.2em;padding-left: 0.2em;position: relative;}#sk-container-id-24 div.sk-item {position: relative;z-index: 1;}#sk-container-id-24 div.sk-parallel {display: flex;align-items: stretch;justify-content: center;background-color: white;position: relative;}#sk-container-id-24 div.sk-item::before, #sk-container-id-24 div.sk-parallel-item::before {content: \"\";position: absolute;border-left: 1px solid gray;box-sizing: border-box;top: 0;bottom: 0;left: 50%;z-index: -1;}#sk-container-id-24 div.sk-parallel-item {display: flex;flex-direction: column;z-index: 1;position: relative;background-color: white;}#sk-container-id-24 div.sk-parallel-item:first-child::after {align-self: flex-end;width: 50%;}#sk-container-id-24 div.sk-parallel-item:last-child::after {align-self: flex-start;width: 50%;}#sk-container-id-24 div.sk-parallel-item:only-child::after {width: 0;}#sk-container-id-24 div.sk-dashed-wrapped {border: 1px dashed gray;margin: 0 0.4em 0.5em 0.4em;box-sizing: border-box;padding-bottom: 0.4em;background-color: white;}#sk-container-id-24 div.sk-label label {font-family: monospace;font-weight: bold;display: inline-block;line-height: 1.2em;}#sk-container-id-24 div.sk-label-container {text-align: center;}#sk-container-id-24 div.sk-container {/* jupyter's `normalize.less` sets `[hidden] { display: none; }` but bootstrap.min.css set `[hidden] { display: none !important; }` so we also need the `!important` here to be able to override the default hidden behavior on the sphinx rendered scikit-learn.org. See: https://github.com/scikit-learn/scikit-learn/issues/21755 */display: inline-block !important;position: relative;}#sk-container-id-24 div.sk-text-repr-fallback {display: none;}</style><div id=\"sk-container-id-24\" class=\"sk-top-container\"><div class=\"sk-text-repr-fallback\"><pre>MinMaxScaler()</pre><b>In a Jupyter environment, please rerun this cell to show the HTML representation or trust the notebook. <br />On GitHub, the HTML representation is unable to render, please try loading this page with nbviewer.org.</b></div><div class=\"sk-container\" hidden><div class=\"sk-item\"><div class=\"sk-estimator sk-toggleable\"><input class=\"sk-toggleable__control sk-hidden--visually\" id=\"sk-estimator-id-24\" type=\"checkbox\" checked><label for=\"sk-estimator-id-24\" class=\"sk-toggleable__label sk-toggleable__label-arrow\">MinMaxScaler</label><div class=\"sk-toggleable__content\"><pre>MinMaxScaler()</pre></div></div></div></div></div>"
      ],
      "text/plain": [
       "MinMaxScaler()"
      ]
     },
     "execution_count": 508,
     "metadata": {},
     "output_type": "execute_result"
    }
   ],
   "source": [
    "unemployment_min_max_scaler = MinMaxScaler()\n",
    "unemployment_min_max_scaler.fit(X_train[['Unemployment']])"
   ]
  },
  {
   "cell_type": "code",
   "execution_count": 509,
   "id": "75b424cd",
   "metadata": {
    "scrolled": true
   },
   "outputs": [
    {
     "name": "stderr",
     "output_type": "stream",
     "text": [
      "/var/folders/7x/qzp6r7jn19gf5g0r68gpc_3r0000gp/T/ipykernel_764/1471874588.py:1: SettingWithCopyWarning: \n",
      "A value is trying to be set on a copy of a slice from a DataFrame.\n",
      "Try using .loc[row_indexer,col_indexer] = value instead\n",
      "\n",
      "See the caveats in the documentation: https://pandas.pydata.org/pandas-docs/stable/user_guide/indexing.html#returning-a-view-versus-a-copy\n",
      "  X_train.Unemployment = unemployment_min_max_scaler.transform(X_train[['Unemployment']])\n",
      "/var/folders/7x/qzp6r7jn19gf5g0r68gpc_3r0000gp/T/ipykernel_764/1471874588.py:2: SettingWithCopyWarning: \n",
      "A value is trying to be set on a copy of a slice from a DataFrame.\n",
      "Try using .loc[row_indexer,col_indexer] = value instead\n",
      "\n",
      "See the caveats in the documentation: https://pandas.pydata.org/pandas-docs/stable/user_guide/indexing.html#returning-a-view-versus-a-copy\n",
      "  X_val.Unemployment = unemployment_min_max_scaler.transform(X_val[['Unemployment']])\n",
      "/var/folders/7x/qzp6r7jn19gf5g0r68gpc_3r0000gp/T/ipykernel_764/1471874588.py:3: SettingWithCopyWarning: \n",
      "A value is trying to be set on a copy of a slice from a DataFrame.\n",
      "Try using .loc[row_indexer,col_indexer] = value instead\n",
      "\n",
      "See the caveats in the documentation: https://pandas.pydata.org/pandas-docs/stable/user_guide/indexing.html#returning-a-view-versus-a-copy\n",
      "  X_test.Unemployment = unemployment_min_max_scaler.transform(X_test[['Unemployment']])\n"
     ]
    }
   ],
   "source": [
    "X_train.Unemployment = unemployment_min_max_scaler.transform(X_train[['Unemployment']])\n",
    "X_val.Unemployment = unemployment_min_max_scaler.transform(X_val[['Unemployment']])\n",
    "X_test.Unemployment = unemployment_min_max_scaler.transform(X_test[['Unemployment']])"
   ]
  },
  {
   "cell_type": "markdown",
   "id": "e082f9b6",
   "metadata": {},
   "source": [
    "#### Preprocessing Weekly_Sales"
   ]
  },
  {
   "cell_type": "code",
   "execution_count": 510,
   "id": "b6bf7a8e",
   "metadata": {},
   "outputs": [
    {
     "data": {
      "text/html": [
       "<style>#sk-container-id-25 {color: black;}#sk-container-id-25 pre{padding: 0;}#sk-container-id-25 div.sk-toggleable {background-color: white;}#sk-container-id-25 label.sk-toggleable__label {cursor: pointer;display: block;width: 100%;margin-bottom: 0;padding: 0.3em;box-sizing: border-box;text-align: center;}#sk-container-id-25 label.sk-toggleable__label-arrow:before {content: \"▸\";float: left;margin-right: 0.25em;color: #696969;}#sk-container-id-25 label.sk-toggleable__label-arrow:hover:before {color: black;}#sk-container-id-25 div.sk-estimator:hover label.sk-toggleable__label-arrow:before {color: black;}#sk-container-id-25 div.sk-toggleable__content {max-height: 0;max-width: 0;overflow: hidden;text-align: left;background-color: #f0f8ff;}#sk-container-id-25 div.sk-toggleable__content pre {margin: 0.2em;color: black;border-radius: 0.25em;background-color: #f0f8ff;}#sk-container-id-25 input.sk-toggleable__control:checked~div.sk-toggleable__content {max-height: 200px;max-width: 100%;overflow: auto;}#sk-container-id-25 input.sk-toggleable__control:checked~label.sk-toggleable__label-arrow:before {content: \"▾\";}#sk-container-id-25 div.sk-estimator input.sk-toggleable__control:checked~label.sk-toggleable__label {background-color: #d4ebff;}#sk-container-id-25 div.sk-label input.sk-toggleable__control:checked~label.sk-toggleable__label {background-color: #d4ebff;}#sk-container-id-25 input.sk-hidden--visually {border: 0;clip: rect(1px 1px 1px 1px);clip: rect(1px, 1px, 1px, 1px);height: 1px;margin: -1px;overflow: hidden;padding: 0;position: absolute;width: 1px;}#sk-container-id-25 div.sk-estimator {font-family: monospace;background-color: #f0f8ff;border: 1px dotted black;border-radius: 0.25em;box-sizing: border-box;margin-bottom: 0.5em;}#sk-container-id-25 div.sk-estimator:hover {background-color: #d4ebff;}#sk-container-id-25 div.sk-parallel-item::after {content: \"\";width: 100%;border-bottom: 1px solid gray;flex-grow: 1;}#sk-container-id-25 div.sk-label:hover label.sk-toggleable__label {background-color: #d4ebff;}#sk-container-id-25 div.sk-serial::before {content: \"\";position: absolute;border-left: 1px solid gray;box-sizing: border-box;top: 0;bottom: 0;left: 50%;z-index: 0;}#sk-container-id-25 div.sk-serial {display: flex;flex-direction: column;align-items: center;background-color: white;padding-right: 0.2em;padding-left: 0.2em;position: relative;}#sk-container-id-25 div.sk-item {position: relative;z-index: 1;}#sk-container-id-25 div.sk-parallel {display: flex;align-items: stretch;justify-content: center;background-color: white;position: relative;}#sk-container-id-25 div.sk-item::before, #sk-container-id-25 div.sk-parallel-item::before {content: \"\";position: absolute;border-left: 1px solid gray;box-sizing: border-box;top: 0;bottom: 0;left: 50%;z-index: -1;}#sk-container-id-25 div.sk-parallel-item {display: flex;flex-direction: column;z-index: 1;position: relative;background-color: white;}#sk-container-id-25 div.sk-parallel-item:first-child::after {align-self: flex-end;width: 50%;}#sk-container-id-25 div.sk-parallel-item:last-child::after {align-self: flex-start;width: 50%;}#sk-container-id-25 div.sk-parallel-item:only-child::after {width: 0;}#sk-container-id-25 div.sk-dashed-wrapped {border: 1px dashed gray;margin: 0 0.4em 0.5em 0.4em;box-sizing: border-box;padding-bottom: 0.4em;background-color: white;}#sk-container-id-25 div.sk-label label {font-family: monospace;font-weight: bold;display: inline-block;line-height: 1.2em;}#sk-container-id-25 div.sk-label-container {text-align: center;}#sk-container-id-25 div.sk-container {/* jupyter's `normalize.less` sets `[hidden] { display: none; }` but bootstrap.min.css set `[hidden] { display: none !important; }` so we also need the `!important` here to be able to override the default hidden behavior on the sphinx rendered scikit-learn.org. See: https://github.com/scikit-learn/scikit-learn/issues/21755 */display: inline-block !important;position: relative;}#sk-container-id-25 div.sk-text-repr-fallback {display: none;}</style><div id=\"sk-container-id-25\" class=\"sk-top-container\"><div class=\"sk-text-repr-fallback\"><pre>QuantileTransformer()</pre><b>In a Jupyter environment, please rerun this cell to show the HTML representation or trust the notebook. <br />On GitHub, the HTML representation is unable to render, please try loading this page with nbviewer.org.</b></div><div class=\"sk-container\" hidden><div class=\"sk-item\"><div class=\"sk-estimator sk-toggleable\"><input class=\"sk-toggleable__control sk-hidden--visually\" id=\"sk-estimator-id-25\" type=\"checkbox\" checked><label for=\"sk-estimator-id-25\" class=\"sk-toggleable__label sk-toggleable__label-arrow\">QuantileTransformer</label><div class=\"sk-toggleable__content\"><pre>QuantileTransformer()</pre></div></div></div></div></div>"
      ],
      "text/plain": [
       "QuantileTransformer()"
      ]
     },
     "execution_count": 510,
     "metadata": {},
     "output_type": "execute_result"
    }
   ],
   "source": [
    "weekly_sales_quantile_transformer = QuantileTransformer()\n",
    "weekly_sales_quantile_transformer.fit(X_train[['Weekly_Sales']])"
   ]
  },
  {
   "cell_type": "code",
   "execution_count": 511,
   "id": "37df29de",
   "metadata": {
    "scrolled": true
   },
   "outputs": [
    {
     "name": "stderr",
     "output_type": "stream",
     "text": [
      "/var/folders/7x/qzp6r7jn19gf5g0r68gpc_3r0000gp/T/ipykernel_764/3902564762.py:1: SettingWithCopyWarning: \n",
      "A value is trying to be set on a copy of a slice from a DataFrame.\n",
      "Try using .loc[row_indexer,col_indexer] = value instead\n",
      "\n",
      "See the caveats in the documentation: https://pandas.pydata.org/pandas-docs/stable/user_guide/indexing.html#returning-a-view-versus-a-copy\n",
      "  X_train.Weekly_Sales = weekly_sales_quantile_transformer.transform(X_train[['Weekly_Sales']])\n",
      "/var/folders/7x/qzp6r7jn19gf5g0r68gpc_3r0000gp/T/ipykernel_764/3902564762.py:2: SettingWithCopyWarning: \n",
      "A value is trying to be set on a copy of a slice from a DataFrame.\n",
      "Try using .loc[row_indexer,col_indexer] = value instead\n",
      "\n",
      "See the caveats in the documentation: https://pandas.pydata.org/pandas-docs/stable/user_guide/indexing.html#returning-a-view-versus-a-copy\n",
      "  X_val.Weekly_Sales = weekly_sales_quantile_transformer.transform(X_val[['Weekly_Sales']])\n",
      "/var/folders/7x/qzp6r7jn19gf5g0r68gpc_3r0000gp/T/ipykernel_764/3902564762.py:3: SettingWithCopyWarning: \n",
      "A value is trying to be set on a copy of a slice from a DataFrame.\n",
      "Try using .loc[row_indexer,col_indexer] = value instead\n",
      "\n",
      "See the caveats in the documentation: https://pandas.pydata.org/pandas-docs/stable/user_guide/indexing.html#returning-a-view-versus-a-copy\n",
      "  X_test.Weekly_Sales = weekly_sales_quantile_transformer.transform(X_test[['Weekly_Sales']])\n"
     ]
    }
   ],
   "source": [
    "X_train.Weekly_Sales = weekly_sales_quantile_transformer.transform(X_train[['Weekly_Sales']])\n",
    "X_val.Weekly_Sales = weekly_sales_quantile_transformer.transform(X_val[['Weekly_Sales']])\n",
    "X_test.Weekly_Sales = weekly_sales_quantile_transformer.transform(X_test[['Weekly_Sales']])"
   ]
  },
  {
   "cell_type": "markdown",
   "id": "ea2a3a8e",
   "metadata": {},
   "source": [
    "### Making Temporary Store Sales"
   ]
  },
  {
   "cell_type": "markdown",
   "id": "be24b60e",
   "metadata": {},
   "source": [
    "Store[1...45]:\n",
    "    dept\n",
    "    size\n",
    "    date - list\n",
    "    weekly - list\n",
    "    is_holiday - list\n",
    "    temperature - list\n",
    "    CPI - list\n",
    "    Unemployment - list"
   ]
  },
  {
   "cell_type": "code",
   "execution_count": 782,
   "id": "b74a382f",
   "metadata": {},
   "outputs": [],
   "source": [
    "class StoreSales:\n",
    "    def __init__(self, store, dept, size, week, weekly_sales, is_holiday, temperature, cpi, unemployment, indices_window_size, indices_step_size):\n",
    "        self.store = store\n",
    "        self.dept = dept\n",
    "        self.size = size\n",
    "        \n",
    "        self.week = week\n",
    "        self.week_sin = self.sin_transform(self.week)\n",
    "        self.week_cos = self.cos_transform(self.week)\n",
    "        \n",
    "        self.weekly_sales = weekly_sales\n",
    "        self.is_holiday = is_holiday\n",
    "        self.temperature = temperature\n",
    "        self.cpi = cpi\n",
    "        self.unemployment = unemployment\n",
    "        \n",
    "        self.indices = self.get_indices(window_size=indices_window_size, step_size=indices_step_size)\n",
    "    \n",
    "    def get_indices(self, window_size, step_size):\n",
    "        \n",
    "        stop_position = len(self.weekly_sales) - 1\n",
    "        \n",
    "        subseq_first_idx = 0\n",
    "        \n",
    "        subseq_last_idx = window_size\n",
    "        \n",
    "        indices = []\n",
    "        \n",
    "        while subseq_last_idx <= stop_position:\n",
    "\n",
    "            indices.append((subseq_first_idx, subseq_last_idx))\n",
    "            \n",
    "            subseq_first_idx += step_size\n",
    "            \n",
    "            subseq_last_idx += step_size\n",
    "\n",
    "        return indices\n",
    "    \n",
    "    def get_sequence(self, index):\n",
    "        tabular_categorical_features = (self.store, self.dept)\n",
    "        tabular_numerical_features = (self.size)\n",
    "        tabular_features = [tabular_categorical_features, tabular_numerical_features]\n",
    "\n",
    "        start_idx = self.indices[index][0]\n",
    "        end_idx = self.indices[index][1]\n",
    "        \n",
    "        weeks = self.week[start_idx:end_idx]\n",
    "        weeks_sin = self.week_sin[start_idx:end_idx]\n",
    "        weeks_cos = self.week_cos[start_idx:end_idx]\n",
    "        \n",
    "        time_series = self.weekly_sales[start_idx:end_idx]\n",
    "        \n",
    "        holidays = self.is_holiday[start_idx:end_idx]\n",
    "        temperatures = self.temperature[start_idx:end_idx]\n",
    "        cpis = self.cpi[start_idx:end_idx]\n",
    "        unemployments = self.unemployment[start_idx:end_idx]\n",
    "        \n",
    "        time_series_features = [((holidays[i]), (time_series[i], weeks_sin[i], weeks_cos[i], temperatures[i], cpis[i], unemployments[i])) for i in range(len(time_series))]\n",
    "        \n",
    "        return (tabular_features, time_series_features)\n",
    "    \n",
    "    def sin_transform(self, values):\n",
    "        values = np.array(values)\n",
    "        return np.sin(2 * np.pi * values / 52)\n",
    "\n",
    "    def cos_transform(self, values):\n",
    "        values = np.array(values)\n",
    "        return np.cos(2 * np.pi * values / 52)\n",
    "        \n"
   ]
  },
  {
   "cell_type": "code",
   "execution_count": 1421,
   "id": "c7de3052",
   "metadata": {},
   "outputs": [],
   "source": [
    "def get_temp_store_sales(df):\n",
    "    stores_sales = []\n",
    "    store_nums = sorted(list(X_train.Store.unique()))\n",
    "    for store_num in store_nums:\n",
    "        df_store = df[df.Store == store_num]\n",
    "    \n",
    "        dept_nums = sorted(list(df_store.Dept.unique()))\n",
    "    \n",
    "        for dept_num in dept_nums:\n",
    "            df_store_dept = df_store[df_store.Dept == dept_num]\n",
    "        \n",
    "            store_dept_sales = StoreSales(\n",
    "                store=store_num,\n",
    "                dept=dept_num, \n",
    "                size=float(df_store_dept.Size.unique()[0]), \n",
    "                week=df_store_dept.Week.tolist(), \n",
    "                weekly_sales=df_store_dept.Weekly_Sales.tolist(), \n",
    "                is_holiday=df_store_dept.IsHoliday.tolist(), \n",
    "                temperature=df_store_dept.Temperature.tolist(), \n",
    "                cpi=df_store_dept.CPI.tolist(), \n",
    "                unemployment=df_store_dept.Unemployment.tolist(), \n",
    "                indices_window_size=14, \n",
    "                indices_step_size=1)\n",
    "        \n",
    "            stores_sales.append(store_dept_sales)\n",
    "    return stores_sales"
   ]
  },
  {
   "cell_type": "code",
   "execution_count": 1422,
   "id": "44584d4d",
   "metadata": {},
   "outputs": [],
   "source": [
    "train_store_sales = get_temp_store_sales(X_train)\n",
    "val_store_sales = get_temp_store_sales(X_val)\n",
    "test_store_sales = get_temp_store_sales(X_test)"
   ]
  },
  {
   "cell_type": "code",
   "execution_count": 1423,
   "id": "a296301d",
   "metadata": {},
   "outputs": [],
   "source": [
    "def get_subsequences(store_sales):\n",
    "    subsequences = []\n",
    "    for store_sale in store_sales:\n",
    "        for subsequence_i in range(len(store_sale.indices)):\n",
    "            subsequent = store_sale.get_sequence(subsequence_i)\n",
    "            subsequences.append(subsequent)\n",
    "    return subsequences"
   ]
  },
  {
   "cell_type": "code",
   "execution_count": 1424,
   "id": "24a1aa39",
   "metadata": {},
   "outputs": [],
   "source": [
    "train_sequences = get_subsequences(train_store_sales)\n",
    "val_sequences = get_subsequences(val_store_sales)\n",
    "test_sequences = get_subsequences(test_store_sales)"
   ]
  },
  {
   "cell_type": "code",
   "execution_count": 1425,
   "id": "2ee461ef",
   "metadata": {},
   "outputs": [
    {
     "data": {
      "text/plain": [
       "250840"
      ]
     },
     "execution_count": 1425,
     "metadata": {},
     "output_type": "execute_result"
    }
   ],
   "source": [
    "len(train_sequences)"
   ]
  },
  {
   "cell_type": "code",
   "execution_count": 1426,
   "id": "971db877",
   "metadata": {},
   "outputs": [
    {
     "data": {
      "text/plain": [
       "41657"
      ]
     },
     "execution_count": 1426,
     "metadata": {},
     "output_type": "execute_result"
    }
   ],
   "source": [
    "len(val_sequences)"
   ]
  },
  {
   "cell_type": "code",
   "execution_count": 1427,
   "id": "3a24d49e",
   "metadata": {},
   "outputs": [
    {
     "data": {
      "text/plain": [
       "632"
      ]
     },
     "execution_count": 1427,
     "metadata": {},
     "output_type": "execute_result"
    }
   ],
   "source": [
    "len(test_sequences)"
   ]
  },
  {
   "cell_type": "code",
   "execution_count": 1428,
   "id": "799b3d77",
   "metadata": {},
   "outputs": [
    {
     "data": {
      "text/plain": [
       "14"
      ]
     },
     "execution_count": 1428,
     "metadata": {},
     "output_type": "execute_result"
    }
   ],
   "source": [
    "len(train_sequences[0][1])"
   ]
  },
  {
   "cell_type": "markdown",
   "id": "507f308a",
   "metadata": {},
   "source": [
    "## Making Dataset"
   ]
  },
  {
   "cell_type": "code",
   "execution_count": 1466,
   "id": "afeec0f3",
   "metadata": {},
   "outputs": [],
   "source": [
    "class WalmartDataset(Dataset):\n",
    "    def __init__(self, data, enc_seq_len: int, dec_seq_len: int, target_seq_len: int):\n",
    "        super().__init__()\n",
    "        \n",
    "        self.data = data # (tabular_features,time_series_features)\n",
    "        \n",
    "        self.enc_seq_len = enc_seq_len\n",
    "        self.dec_seq_len = dec_seq_len\n",
    "        self.target_seq_len = target_seq_len\n",
    "    \n",
    "    def __len__(self):\n",
    "        return len(self.data)\n",
    "    \n",
    "    def __getitem__(self, index):\n",
    "        item = self.data[index]\n",
    "        \n",
    "        tabular_features, time_series_features = item\n",
    "        src_time_series_categorical_features, src_time_series_numerical_features, trg_time_series_categorical_features, trg_time_series_numerical_features, trg_y = self.get_src_trg(time_series_features)\n",
    "        \n",
    "        tabular_categorical_features, tabular_numerical_features = tabular_features\n",
    "        tabular_categorical_features, tabular_numerical_features = list(tabular_categorical_features), [tabular_numerical_features]\n",
    "        \n",
    "        return {\n",
    "            'tabular_categorical_features': torch.IntTensor(tabular_categorical_features),\n",
    "            'tabular_numerical_features': torch.Tensor(tabular_numerical_features),\n",
    "            'src_time_series_categorical_features': torch.IntTensor(src_time_series_categorical_features),\n",
    "            'src_time_series_numerical_features': torch.Tensor(src_time_series_numerical_features),\n",
    "            'trg_time_series_categorical_features': torch.IntTensor(trg_time_series_categorical_features),\n",
    "            'trg_time_series_numerical_features': torch.Tensor(trg_time_series_numerical_features),\n",
    "            'trg_y': torch.Tensor(trg_y)\n",
    "        }\n",
    "        \n",
    "    \n",
    "    def get_src_trg(\n",
    "            self,\n",
    "            time_series_features\n",
    "    ) -> Tuple[torch.tensor, torch.tensor, torch.tensor]:\n",
    "\n",
    "        #assert len(time_series_features) == self.enc_seq_len + self.target_seq_len, \"Features length does not equal (input length + target length)\"\n",
    "        \n",
    "        time_series_categorical_features = []\n",
    "        time_series_numerical_features = []\n",
    "        for t in range(len(time_series_features)):\n",
    "            time_step = time_series_features[t]\n",
    "            time_series_categorical_features.append(time_step[0])\n",
    "            time_series_numerical_features.append(list(time_step[1]))\n",
    "        \n",
    "        src_time_series_categorical_features = time_series_categorical_features[:self.enc_seq_len]\n",
    "        src_time_series_numerical_features = time_series_numerical_features[:self.enc_seq_len]\n",
    "        \n",
    "        trg_time_series_categorical_features = time_series_categorical_features[self.enc_seq_len - 1:len(time_series_categorical_features) - 1]\n",
    "        trg_time_series_numerical_features = time_series_numerical_features[self.enc_seq_len - 1:len(time_series_numerical_features) - 1]\n",
    "\n",
    "        #assert len(trg_time_series_numerical_features) == self.dec_seq_len, \"Length of trg num does not match target sequence length\"\n",
    "        #assert len(trg_time_series_categorical_features) == self.dec_seq_len, \"Length of trg cat does not match target sequence length\"\n",
    "\n",
    "        \n",
    "        trg_y_numerical_features = trg_time_series_numerical_features[-self.target_seq_len:]\n",
    "        \n",
    "        trg_y = [trg_y_numerical_features[-1][0]]\n",
    "        \n",
    "        return src_time_series_categorical_features, src_time_series_numerical_features, trg_time_series_categorical_features, trg_time_series_numerical_features, trg_y"
   ]
  },
  {
   "cell_type": "code",
   "execution_count": 1467,
   "id": "d6f88583",
   "metadata": {},
   "outputs": [],
   "source": [
    "enc_seq_len = 10\n",
    "dec_seq_len = 4\n",
    "target_seq_len = 3"
   ]
  },
  {
   "cell_type": "code",
   "execution_count": 1468,
   "id": "2e4824ed",
   "metadata": {},
   "outputs": [],
   "source": [
    "train_dataset = WalmartDataset(\n",
    "    data=train_sequences, \n",
    "    enc_seq_len=enc_seq_len, \n",
    "    dec_seq_len=dec_seq_len, \n",
    "    target_seq_len=target_seq_len\n",
    ")\n",
    "\n",
    "val_dataset = WalmartDataset(\n",
    "    data=val_sequences, \n",
    "    enc_seq_len=enc_seq_len, \n",
    "    dec_seq_len=dec_seq_len, \n",
    "    target_seq_len=target_seq_len\n",
    ")\n",
    "\n",
    "test_dataset = WalmartDataset(\n",
    "    data=test_sequences, \n",
    "    enc_seq_len=enc_seq_len, \n",
    "    dec_seq_len=dec_seq_len, \n",
    "    target_seq_len=target_seq_len\n",
    ")"
   ]
  },
  {
   "cell_type": "code",
   "execution_count": 1469,
   "id": "adb37d8e",
   "metadata": {},
   "outputs": [
    {
     "data": {
      "text/plain": [
       "{'tabular_categorical_features': tensor([0, 0], dtype=torch.int32),\n",
       " 'tabular_numerical_features': tensor([0.6303]),\n",
       " 'src_time_series_categorical_features': tensor([0, 1, 0, 0, 0, 0, 0, 0, 0, 0], dtype=torch.int32),\n",
       " 'src_time_series_numerical_features': tensor([[ 7.9145e-01,  5.6806e-01,  8.2298e-01,  4.3415e-01,  8.7330e-01,\n",
       "           3.7259e-01],\n",
       "         [ 9.1101e-01,  6.6312e-01,  7.4851e-01,  3.9697e-01,  8.7480e-01,\n",
       "           3.7259e-01],\n",
       "         [ 8.9396e-01,  7.4851e-01,  6.6312e-01,  4.1086e-01,  8.7528e-01,\n",
       "           3.7259e-01],\n",
       "         [ 7.3433e-01,  8.2298e-01,  5.6806e-01,  4.7642e-01,  8.7559e-01,\n",
       "           3.7259e-01],\n",
       "         [ 7.6264e-01,  8.8546e-01,  4.6472e-01,  4.7515e-01,  8.7590e-01,\n",
       "           3.7259e-01],\n",
       "         [ 7.5371e-01,  9.3502e-01,  3.5460e-01,  5.8562e-01,  8.7622e-01,\n",
       "           3.7259e-01],\n",
       "         [ 7.6572e-01,  9.7094e-01,  2.3932e-01,  5.5421e-01,  8.7452e-01,\n",
       "           3.7259e-01],\n",
       "         [ 8.0047e-01,  9.9271e-01,  1.2054e-01,  5.2358e-01,  8.7249e-01,\n",
       "           3.7259e-01],\n",
       "         [ 9.4087e-01,  1.0000e+00, -1.6081e-16,  6.2945e-01,  8.7046e-01,\n",
       "           3.4246e-01],\n",
       "         [ 8.9971e-01,  9.9271e-01, -1.2054e-01,  6.6458e-01,  8.6844e-01,\n",
       "           3.4246e-01]]),\n",
       " 'trg_time_series_categorical_features': tensor([0, 0, 0, 0], dtype=torch.int32),\n",
       " 'trg_time_series_numerical_features': tensor([[ 0.8997,  0.9927, -0.1205,  0.6646,  0.8684,  0.3425],\n",
       "         [ 0.7110,  0.9709, -0.2393,  0.6691,  0.8671,  0.3425],\n",
       "         [ 0.6903,  0.9350, -0.3546,  0.6546,  0.8665,  0.3425],\n",
       "         [ 0.6957,  0.8855, -0.4647,  0.6797,  0.8660,  0.3425]]),\n",
       " 'trg_y': tensor([0.6957])}"
      ]
     },
     "execution_count": 1469,
     "metadata": {},
     "output_type": "execute_result"
    }
   ],
   "source": [
    "train_dataset[0]"
   ]
  },
  {
   "cell_type": "code",
   "execution_count": 1586,
   "id": "91b664c8",
   "metadata": {},
   "outputs": [],
   "source": [
    "import torch\n",
    "import math\n",
    "from torch import nn, Tensor, IntTensor\n",
    "\n",
    "\n",
    "class FeedForwardLayer(nn.Module):\n",
    "    def __init__(\n",
    "            self,\n",
    "            input_size=1,\n",
    "            hidden_size=32,\n",
    "            output_size=32\n",
    "    ):\n",
    "        super(FeedForwardLayer, self).__init__()\n",
    "        self.fc1 = nn.Linear(input_size, hidden_size)\n",
    "        self.relu = nn.ReLU()\n",
    "        self.fc2 = nn.Linear(hidden_size, output_size)\n",
    "\n",
    "    def forward(self, x):\n",
    "        x = self.fc1(x)\n",
    "        x = self.relu(x)\n",
    "        x = self.fc2(x)\n",
    "        return x\n",
    "\n",
    "\n",
    "class EmbeddingLayer(nn.Module):\n",
    "    def __init__(\n",
    "            self,\n",
    "            tabular_cat_features_size: int,  # 2\n",
    "            tabular_cat_features_possible_nums: IntTensor,  # [45, 81]\n",
    "            tabular_cat_features_embeddings_dim: int,  # 32\n",
    "\n",
    "            tabular_num_features_size: int,  # 1\n",
    "            tabular_num_features_ffn_hidden_size: int,  # 32\n",
    "            tabular_num_features_ffn_output_dim: int,  # 22\n",
    "\n",
    "            time_series_cat_features_size: int,  # 1\n",
    "            time_series_cat_features_possible_nums: IntTensor,  # [2]\n",
    "            time_series_cat_features_embeddings_dim: int,  # 16\n",
    "\n",
    "            time_series_size: int,  # 10\n",
    "\n",
    "            d_model: int = 512,\n",
    "\n",
    "    ):\n",
    "        super().__init__()\n",
    "\n",
    "        self.tabular_cat_features_embeddings_table = torch.nn.ModuleList(\n",
    "            [torch.nn.Embedding(num_embeddings=tabular_cat_features_possible_nums[cat_feature_i],\n",
    "                                embedding_dim=tabular_cat_features_embeddings_dim)\n",
    "             for cat_feature_i in range(tabular_cat_features_size)]\n",
    "        )\n",
    "\n",
    "        self.tabular_cat_features_pos_embeddings_table = nn.Embedding(num_embeddings=tabular_cat_features_size + 1,\n",
    "                                                                      embedding_dim=tabular_cat_features_embeddings_dim)\n",
    "\n",
    "        self.tabular_num_features_ffn = FeedForwardLayer(input_size=tabular_num_features_size,\n",
    "                                                         hidden_size=tabular_num_features_ffn_hidden_size,\n",
    "                                                         output_size=tabular_num_features_ffn_output_dim)\n",
    "\n",
    "        self.time_series_cat_features_embeddings_table = nn.ModuleList(\n",
    "            [nn.Embedding(num_embeddings=time_series_cat_features_possible_nums[cat_feature_i],\n",
    "                          embedding_dim=time_series_cat_features_embeddings_dim)\n",
    "             for cat_feature_i in range(time_series_cat_features_size)]\n",
    "        )\n",
    "\n",
    "        self.tabular_cat_features_size = tabular_cat_features_size\n",
    "        self.tabular_num_features_size = tabular_num_features_size\n",
    "        self.tabular_features_size = tabular_cat_features_size + tabular_num_features_size\n",
    "\n",
    "        self.time_series_cat_features_size = time_series_cat_features_size\n",
    "        self.time_series_size = time_series_size\n",
    "\n",
    "        self.column_embedding_table = torch.nn.Embedding(num_embeddings=self.tabular_features_size + 1,\n",
    "                                                         embedding_dim=tabular_cat_features_embeddings_dim)\n",
    "        self.positional_embedding_table = torch.nn.Embedding(num_embeddings=self.time_series_size + 1,\n",
    "                                                             embedding_dim=tabular_cat_features_embeddings_dim)\n",
    "\n",
    "        self.linear_layer = nn.Linear(\n",
    "            in_features=self.time_series_size * tabular_num_features_ffn_output_dim + self.tabular_cat_features_size * tabular_cat_features_embeddings_dim + tabular_num_features_size * tabular_num_features_ffn_output_dim,\n",
    "            out_features=d_model\n",
    "        )\n",
    "\n",
    "    def forward(\n",
    "            self,\n",
    "            tabular_cat_features: Tensor,\n",
    "            tabular_num_features: Tensor,\n",
    "            time_series_cat_features: Tensor,\n",
    "            time_series_num_features: Tensor\n",
    "    ):\n",
    "        batch_size = tabular_cat_features.shape[0]\n",
    "\n",
    "        tabular_cat_features_embeddings = torch.stack(\n",
    "            [self.tabular_cat_features_embeddings_table[cat_feature_i](tabular_cat_features[:, cat_feature_i].long())\n",
    "             for cat_feature_i in range(tabular_cat_features.shape[1])], dim=0)\n",
    "\n",
    "        tabular_num_features = tabular_num_features.reshape(self.tabular_num_features_size, batch_size, -1)\n",
    "        tabular_num_features_embeddings = self.tabular_num_features_ffn(tabular_num_features)\n",
    "\n",
    "        time_series_cat_features = time_series_cat_features.reshape(self.time_series_size, batch_size, -1)\n",
    "        time_series_cat_features_embeddings = torch.cat([self.time_series_cat_features_embeddings_table[cat_feature_i](\n",
    "            time_series_cat_features[:, :, cat_feature_i].long())\n",
    "            for cat_feature_i in\n",
    "            range(time_series_cat_features.shape[-1])], dim=-1)\n",
    "\n",
    "        time_series_num_features = time_series_num_features.reshape(self.time_series_size, batch_size, -1)\n",
    "\n",
    "        tabular_embeddings = torch.cat([tabular_cat_features_embeddings, tabular_num_features_embeddings], dim=0)\n",
    "        time_series_embeddings = torch.cat([time_series_cat_features_embeddings, time_series_num_features], dim=-1)\n",
    "        \n",
    "        time_series_embeddings += self.column_embedding_table(torch.IntTensor([0]))\n",
    "        for step_i in range(len(time_series_embeddings)):\n",
    "            time_series_embeddings[step_i] += self.positional_embedding_table(torch.IntTensor([step_i + 1]))\n",
    "\n",
    "        tabular_embeddings += self.positional_embedding_table(torch.IntTensor([0]))\n",
    "        for column_i in range(len(tabular_embeddings)):\n",
    "            tabular_embeddings[column_i] += self.column_embedding_table(torch.IntTensor([column_i + 1]))\n",
    "\n",
    "        time_series_embeddings = time_series_embeddings.reshape(batch_size, self.time_series_size, -1)\n",
    "        tabular_embeddings = tabular_embeddings.reshape(batch_size, self.tabular_features_size, -1)\n",
    "\n",
    "        return self.linear_layer(torch.cat([tabular_embeddings, time_series_embeddings], dim=1).reshape(batch_size, -1))\n",
    "\n",
    "\n",
    "class TimeSeriesTransformer(nn.Module):\n",
    "    \"\"\"\n",
    "    This class implements a transformer model that can be used for times series\n",
    "    forecasting. This time series transformer model is based on the paper by\n",
    "    Wu et al (2020) [1]. The paper will be referred to as \"the paper\".\n",
    "\n",
    "    A detailed description of the code can be found in my article here:\n",
    "\n",
    "    https://towardsdatascience.com/how-to-make-a-pytorch-transformer-for-time-series-forecasting-69e073d4061e\n",
    "\n",
    "    In cases where the paper does not specify what value was used for a specific\n",
    "    configuration/hyperparameter, this class uses the values from Vaswani et al\n",
    "    (2017) [2] or from PyTorch source code.\n",
    "\n",
    "    Unlike the paper, this class assumes that input layers, positional encoding\n",
    "    layers and linear mapping layers are separate from the encoder and decoder,\n",
    "    i.e. the encoder and decoder only do what is depicted as their sub-layers\n",
    "    in the paper. For practical purposes, this assumption does not make a\n",
    "    difference - it merely means that the linear and positional encoding layers\n",
    "    are implemented inside the present class and not inside the\n",
    "    Encoder() and Decoder() classes.\n",
    "\n",
    "    [1] Wu, N., Green, B., Ben, X., O'banion, S. (2020).\n",
    "    'Deep Transformer Models for Time Series Forecasting:\n",
    "    The Influenza Prevalence Case'.\n",
    "    arXiv:2001.08317 [cs, stat] [Preprint].\n",
    "    Available at: http://arxiv.org/abs/2001.08317 (Accessed: 9 March 2022).\n",
    "\n",
    "    [2] Vaswani, A. et al. (2017)\n",
    "    'Attention Is All You Need'.\n",
    "    arXiv:1706.03762 [cs] [Preprint].\n",
    "    Available at: http://arxiv.org/abs/1706.03762 (Accessed: 9 March 2022).\n",
    "\n",
    "    \"\"\"\n",
    "\n",
    "    def __init__(self,\n",
    "                 tabular_cat_features_size: int,  # 2\n",
    "                 tabular_cat_features_possible_nums: IntTensor,  # [45, 81]\n",
    "                 tabular_cat_features_embeddings_dim: int,  # 32\n",
    "\n",
    "                 tabular_num_features_size: int,  # 1\n",
    "                 tabular_num_features_ffn_hidden_size: int,  # 32\n",
    "                 tabular_num_features_ffn_output_dim: int,  # 22\n",
    "\n",
    "                 time_series_cat_features_size: int,  # 1\n",
    "                 time_series_cat_features_possible_nums: IntTensor,  # [2]\n",
    "                 time_series_cat_features_embeddings_dim: int,  # 16\n",
    "\n",
    "                 enc_seq_len: int,  # 10\n",
    "\n",
    "                 dec_seq_len: int = 4,\n",
    "                 batch_first: bool = True,\n",
    "                 out_seq_len: int = 3,\n",
    "                 dim_val: int = 512,\n",
    "                 n_encoder_layers: int = 4,\n",
    "                 n_decoder_layers: int = 4,\n",
    "                 n_heads: int = 8,\n",
    "                 dropout_encoder: float = 0.2,\n",
    "                 dropout_decoder: float = 0.2,\n",
    "                 dropout_pos_enc: float = 0.1,\n",
    "                 dim_feedforward_encoder: int = 2048,\n",
    "                 dim_feedforward_decoder: int = 2048,\n",
    "                 num_predicted_features: int = 1\n",
    "                 ):\n",
    "        \"\"\"\n",
    "        Args:\n",
    "\n",
    "            input_size: int, number of input variables. 1 if univariate.\n",
    "\n",
    "            dec_seq_len: int, the length of the input sequence fed to the decoder\n",
    "\n",
    "            dim_val: int, aka d_model. All sub-layers in the model produce\n",
    "                     outputs of dimension dim_val\n",
    "\n",
    "            n_encoder_layers: int, number of stacked encoder layers in the encoder\n",
    "\n",
    "            n_decoder_layers: int, number of stacked encoder layers in the decoder\n",
    "\n",
    "            n_heads: int, the number of attention heads (aka parallel attention layers)\n",
    "\n",
    "            dropout_encoder: float, the dropout rate of the encoder\n",
    "\n",
    "            dropout_decoder: float, the dropout rate of the decoder\n",
    "\n",
    "            dropout_pos_enc: float, the dropout rate of the positional encoder\n",
    "\n",
    "            dim_feedforward_encoder: int, number of neurons in the linear layer\n",
    "                                     of the encoder\n",
    "\n",
    "            dim_feedforward_decoder: int, number of neurons in the linear layer\n",
    "                                     of the decoder\n",
    "\n",
    "            num_predicted_features: int, the number of features you want to predict.\n",
    "                                    Most of the time, this will be 1 because we're\n",
    "                                    only forecasting FCR-N prices in DK2, but in\n",
    "                                    we wanted to also predict FCR-D with the same\n",
    "                                    model, num_predicted_features should be 2.\n",
    "        \"\"\"\n",
    "\n",
    "        super().__init__()\n",
    "\n",
    "        self.dec_seq_len = dec_seq_len\n",
    "\n",
    "        # print(\"input_size is: {}\".format(input_size))\n",
    "        # print(\"dim_val is: {}\".format(dim_val))\n",
    "\n",
    "        # Creating the three linear layers needed for the model\n",
    "        self.encoder_embedding_layer = EmbeddingLayer(\n",
    "            tabular_cat_features_size=tabular_cat_features_size,\n",
    "            tabular_cat_features_possible_nums=tabular_cat_features_possible_nums,\n",
    "            tabular_cat_features_embeddings_dim=tabular_cat_features_embeddings_dim,\n",
    "            tabular_num_features_size=tabular_num_features_size,\n",
    "            tabular_num_features_ffn_hidden_size=tabular_num_features_ffn_hidden_size,\n",
    "            tabular_num_features_ffn_output_dim=tabular_num_features_ffn_output_dim,\n",
    "            time_series_cat_features_size=time_series_cat_features_size,\n",
    "            time_series_cat_features_possible_nums=time_series_cat_features_possible_nums,\n",
    "            time_series_cat_features_embeddings_dim=time_series_cat_features_embeddings_dim,\n",
    "            time_series_size=enc_seq_len\n",
    "        )\n",
    "\n",
    "        self.decoder_embedding_layer = EmbeddingLayer(\n",
    "            tabular_cat_features_size=tabular_cat_features_size,\n",
    "            tabular_cat_features_possible_nums=tabular_cat_features_possible_nums,\n",
    "            tabular_cat_features_embeddings_dim=tabular_cat_features_embeddings_dim,\n",
    "            tabular_num_features_size=tabular_num_features_size,\n",
    "            tabular_num_features_ffn_hidden_size=tabular_num_features_ffn_hidden_size,\n",
    "            tabular_num_features_ffn_output_dim=tabular_num_features_ffn_output_dim,\n",
    "            time_series_cat_features_size=time_series_cat_features_size,\n",
    "            time_series_cat_features_possible_nums=time_series_cat_features_possible_nums,\n",
    "            time_series_cat_features_embeddings_dim=time_series_cat_features_embeddings_dim,\n",
    "            time_series_size=dec_seq_len\n",
    "        )\n",
    "\n",
    "        self.linear_mapping = nn.Linear(\n",
    "            in_features=dim_val,\n",
    "            out_features=num_predicted_features\n",
    "        )\n",
    "\n",
    "        # The encoder layer used in the paper is identical to the one used by\n",
    "        # Vaswani et al (2017) on which the PyTorch module is based.\n",
    "        encoder_layer = nn.TransformerEncoderLayer(\n",
    "            d_model=dim_val,\n",
    "            nhead=n_heads,\n",
    "            dim_feedforward=dim_feedforward_encoder,\n",
    "            dropout=dropout_encoder,\n",
    "            batch_first=batch_first\n",
    "        )\n",
    "\n",
    "        # Stack the encoder layers in nn.TransformerDecoder\n",
    "        # It seems the option of passing a normalization instance is redundant\n",
    "        # in my case, because nn.TransformerEncoderLayer per default normalizes\n",
    "        # after each sub-layer\n",
    "        # (https://github.com/pytorch/pytorch/issues/24930).\n",
    "        self.encoder = nn.TransformerEncoder(\n",
    "            encoder_layer=encoder_layer,\n",
    "            num_layers=n_encoder_layers,\n",
    "            norm=None\n",
    "        )\n",
    "\n",
    "        decoder_layer = nn.TransformerDecoderLayer(\n",
    "            d_model=dim_val,\n",
    "            nhead=n_heads,\n",
    "            dim_feedforward=dim_feedforward_decoder,\n",
    "            dropout=dropout_decoder,\n",
    "            batch_first=batch_first\n",
    "        )\n",
    "\n",
    "        # Stack the decoder layers in nn.TransformerDecoder\n",
    "        # It seems the option of passing a normalization instance is redundant\n",
    "        # in my case, because nn.TransformerDecoderLayer per default normalizes\n",
    "        # after each sub-layer\n",
    "        # (https://github.com/pytorch/pytorch/issues/24930).\n",
    "        self.decoder = nn.TransformerDecoder(\n",
    "            decoder_layer=decoder_layer,\n",
    "            num_layers=n_decoder_layers,\n",
    "            norm=None\n",
    "        )\n",
    "\n",
    "    def forward(self,\n",
    "                tabular_categorical_features,\n",
    "                tabular_numerical_features,\n",
    "                src_time_series_categorical_features,\n",
    "                src_time_series_numerical_features,\n",
    "                trg_time_series_categorical_features,\n",
    "                trg_time_series_numerical_features,\n",
    "                src_mask: Tensor = None,\n",
    "                tgt_mask: Tensor = None) -> Tensor:\n",
    "        \"\"\"\n",
    "        Returns a tensor of shape:\n",
    "\n",
    "        [target_sequence_length, batch_size, num_predicted_features]\n",
    "\n",
    "        Args:\n",
    "\n",
    "            src: the encoder's output sequence. Shape: (S,E) for unbatched input,\n",
    "                 (S, N, E) if batch_first=False or (N, S, E) if\n",
    "                 batch_first=True, where S is the source sequence length,\n",
    "                 N is the batch size, and E is the number of features (1 if univariate)\n",
    "\n",
    "            tgt: the sequence to the decoder. Shape: (T,E) for unbatched input,\n",
    "                 (T, N, E)(T,N,E) if batch_first=False or (N, T, E) if\n",
    "                 batch_first=True, where T is the target sequence length,\n",
    "                 N is the batch size, and E is the number of features (1 if univariate)\n",
    "\n",
    "            src_mask: the mask for the src sequence to prevent the model from\n",
    "                      using data points from the target sequence\n",
    "\n",
    "            tgt_mask: the mask for the tgt sequence to prevent the model from\n",
    "                      using data points from the target sequence\n",
    "\n",
    "\n",
    "        \"\"\"\n",
    "\n",
    "        # print(\"From model.forward(): Size of src as given to forward(): {}\".format(src.size()))\n",
    "        # print(\"From model.forward(): tgt size = {}\".format(tgt.size()))\n",
    "\n",
    "        # Pass throguh the input layer right before the encoder\n",
    "        src = self.encoder_embedding_layer(\n",
    "            tabular_cat_features=tabular_categorical_features,\n",
    "            tabular_num_features=tabular_numerical_features,\n",
    "            time_series_cat_features=src_time_series_categorical_features,\n",
    "            time_series_num_features=src_time_series_numerical_features\n",
    "        )  # src shape: [batch_size, src length, dim_val] regardless of number of input features\n",
    "        # print(\"From model.forward(): Size of src after input layer: {}\".format(src.size()))\n",
    "\n",
    "        # Pass through all the stacked encoder layers in the encoder\n",
    "        # Masking is only needed in the encoder if input sequences are padded\n",
    "        # which they are not in this time series use case, because all my\n",
    "        # input sequences are naturally of the same length.\n",
    "        # (https://github.com/huggingface/transformers/issues/4083)\n",
    "        src = self.encoder(  # src shape: [batch_size, enc_seq_len, dim_val]\n",
    "            src=src\n",
    "        )\n",
    "        # print(\"From model.forward(): Size of src after encoder: {}\".format(src.size()))\n",
    "\n",
    "        # Pass decoder input through decoder input layer\n",
    "        decoder_output = self.decoder_embedding_layer(\n",
    "            tabular_cat_features=tabular_categorical_features,\n",
    "            tabular_num_features=tabular_numerical_features,\n",
    "            time_series_cat_features=trg_time_series_categorical_features,\n",
    "            time_series_num_features=trg_time_series_numerical_features\n",
    "        )  # src shape: [target sequence length, batch_size, dim_val] regardless of number of input features\n",
    "        # print(\"From model.forward(): Size of decoder_output after linear decoder layer: {}\".format(decoder_output.size()))\n",
    "\n",
    "        # if src_mask is not None:\n",
    "        # print(\"From model.forward(): Size of src_mask: {}\".format(src_mask.size()))\n",
    "        # if tgt_mask is not None:\n",
    "        # print(\"From model.forward(): Size of tgt_mask: {}\".format(tgt_mask.size()))\n",
    "\n",
    "        # Pass throguh decoder - output shape: [batch_size, target seq len, dim_val]\n",
    "        decoder_output = self.decoder(\n",
    "            tgt=decoder_output,\n",
    "            memory=src,\n",
    "            tgt_mask=tgt_mask,\n",
    "            memory_mask=src_mask\n",
    "        )\n",
    "\n",
    "        # print(\"From model.forward(): decoder_output shape after decoder: {}\".format(decoder_output.shape))\n",
    "\n",
    "        # Pass through linear mapping\n",
    "        decoder_output = self.linear_mapping(decoder_output)  # shape [batch_size, target seq len]\n",
    "        # print(\"From model.forward(): decoder_output size after linear_mapping = {}\".format(decoder_output.size()))\n",
    "\n",
    "        return decoder_output\n"
   ]
  },
  {
   "cell_type": "code",
   "execution_count": 1587,
   "id": "accd414e",
   "metadata": {},
   "outputs": [],
   "source": [
    "batch_size = 256\n",
    "train_dataloader = DataLoader(train_dataset, batch_size=batch_size, shuffle=True)\n",
    "val_dataloader = DataLoader(val_dataset, batch_size=batch_size, shuffle=False)\n",
    "test_dataloader = DataLoader(test_dataset, batch_size=batch_size)"
   ]
  },
  {
   "cell_type": "code",
   "execution_count": 1588,
   "id": "d05a1000",
   "metadata": {},
   "outputs": [
    {
     "name": "stdout",
     "output_type": "stream",
     "text": [
      "tabular_categorical_features.shape = torch.Size([256, 2])\n",
      "tabular_numerical_features.shape = torch.Size([256, 1])\n",
      "src_time_series_categorical_features.shape = torch.Size([256, 10])\n",
      "src_time_series_numerical_features.shape = torch.Size([256, 10, 6])\n",
      "trg_time_series_categorical_features.shape = torch.Size([256, 4])\n",
      "trg_time_series_numerical_features.shape = torch.Size([256, 4, 6])\n",
      "trg_y.shape = torch.Size([256, 1])\n"
     ]
    }
   ],
   "source": [
    "for i, data in enumerate(train_dataloader):\n",
    "    print(f\"tabular_categorical_features.shape = {data['tabular_categorical_features'].shape}\")\n",
    "    print(f\"tabular_numerical_features.shape = {data['tabular_numerical_features'].shape}\")\n",
    "    print(f\"src_time_series_categorical_features.shape = {data['src_time_series_categorical_features'].shape}\")\n",
    "    print(f\"src_time_series_numerical_features.shape = {data['src_time_series_numerical_features'].shape}\")\n",
    "    print(f\"trg_time_series_categorical_features.shape = {data['trg_time_series_categorical_features'].shape}\")\n",
    "    print(f\"trg_time_series_numerical_features.shape = {data['trg_time_series_numerical_features'].shape}\")\n",
    "    print(f\"trg_y.shape = {data['trg_y'].shape}\")\n",
    "    break"
   ]
  },
  {
   "cell_type": "code",
   "execution_count": 1589,
   "id": "5bc6e766",
   "metadata": {},
   "outputs": [],
   "source": [
    "model = TimeSeriesTransformer(\n",
    "    tabular_cat_features_size=2,\n",
    "    tabular_cat_features_possible_nums=IntTensor([45, 81]),\n",
    "    tabular_cat_features_embeddings_dim=32,\n",
    "    tabular_num_features_size=1,\n",
    "    tabular_num_features_ffn_hidden_size=32,\n",
    "    tabular_num_features_ffn_output_dim=32,\n",
    "    time_series_cat_features_size=1,\n",
    "    time_series_cat_features_possible_nums=IntTensor([2]),\n",
    "    time_series_cat_features_embeddings_dim=26,\n",
    "\n",
    "    enc_seq_len=10,  # 10\n",
    "\n",
    "    dec_seq_len = 4,\n",
    "    batch_first = True,\n",
    "    out_seq_len = 3,\n",
    "    dim_val = 512,\n",
    "    n_encoder_layers = 4,\n",
    "    n_decoder_layers = 4,\n",
    "    n_heads = 8,\n",
    "    dropout_encoder = 0.2,\n",
    "    dropout_decoder = 0.2,\n",
    "    dropout_pos_enc = 0.1,\n",
    "    dim_feedforward_encoder = 2048,\n",
    "    dim_feedforward_decoder = 2048,\n",
    "    num_predicted_features = 1\n",
    ")"
   ]
  },
  {
   "cell_type": "code",
   "execution_count": 1590,
   "id": "8a442366",
   "metadata": {},
   "outputs": [],
   "source": [
    "output = model(\n",
    "                tabular_categorical_features=data['tabular_categorical_features'],\n",
    "                tabular_numerical_features=data['tabular_numerical_features'],\n",
    "                src_time_series_categorical_features=data['src_time_series_categorical_features'],\n",
    "                src_time_series_numerical_features=data['src_time_series_numerical_features'],\n",
    "                trg_time_series_categorical_features=data['trg_time_series_categorical_features'],\n",
    "                trg_time_series_numerical_features=data['trg_time_series_numerical_features'],\n",
    "                src_mask = None,\n",
    "                tgt_mask = None\n",
    ")"
   ]
  },
  {
   "cell_type": "code",
   "execution_count": 1592,
   "id": "745b30a3",
   "metadata": {},
   "outputs": [
    {
     "data": {
      "text/plain": [
       "torch.Size([256, 1])"
      ]
     },
     "execution_count": 1592,
     "metadata": {},
     "output_type": "execute_result"
    }
   ],
   "source": [
    "output.shape"
   ]
  },
  {
   "cell_type": "code",
   "execution_count": 1593,
   "id": "b98fe658",
   "metadata": {},
   "outputs": [],
   "source": [
    "criterion = nn.HuberLoss(reduction=\"sum\")\n",
    "lr = 0.001  # learning rate\n",
    "optimizer = torch.optim.SGD(model.parameters(), lr=lr)\n",
    "\n",
    "def train(model: nn.Module, epoch: int) -> None:\n",
    "    model.train()  # turn on train mode\n",
    "    total_loss = 0.\n",
    "    log_interval = 200\n",
    "    start_time = time.time()\n",
    "\n",
    "    num_batches = len(train_dataset) // batch_size\n",
    "    for i, data in enumerate(train_dataloader):\n",
    "        output = model(\n",
    "            tabular_categorical_features=data['tabular_categorical_features'],\n",
    "            tabular_numerical_features=data['tabular_numerical_features'],\n",
    "            src_time_series_categorical_features=data['src_time_series_categorical_features'],\n",
    "            src_time_series_numerical_features=data['src_time_series_numerical_features'],\n",
    "            trg_time_series_categorical_features=data['trg_time_series_categorical_features'],\n",
    "            trg_time_series_numerical_features=data['trg_time_series_numerical_features'],\n",
    "            src_mask = None,\n",
    "            tgt_mask = None\n",
    "        )\n",
    "        \n",
    "        loss = criterion(output, data['trg_y'])\n",
    "\n",
    "        optimizer.zero_grad()\n",
    "        loss.backward()\n",
    "        torch.nn.utils.clip_grad_norm_(model.parameters(), 0.5)\n",
    "        optimizer.step()\n",
    "\n",
    "        total_loss += loss.item()\n",
    "        if i % log_interval == 0 and i > 0:\n",
    "            ms_per_batch = (time.time() - start_time) * 1000 / log_interval\n",
    "            cur_loss = total_loss / log_interval\n",
    "            ppl = math.exp(cur_loss)\n",
    "            print(f'| epoch {epoch:3d} | {i:5d}/{num_batches:5d} batches | '\n",
    "                  f'lr {lr:02.2f} | ms/batch {ms_per_batch:5.2f} | '\n",
    "                  f'loss {cur_loss} | ppl {ppl:8.2f}')\n",
    "            total_loss = 0\n",
    "            start_time = time.time()\n",
    "\n",
    "def evaluate(model: nn.Module, eval_dataloader) -> float:\n",
    "    model.eval()  # turn on evaluation mode\n",
    "    total_loss = 0.\n",
    "    with torch.no_grad():\n",
    "        for i, data in enumerate(eval_dataloader):\n",
    "    \n",
    "            output = model(\n",
    "                tabular_categorical_features=data['tabular_categorical_features'],\n",
    "                tabular_numerical_features=data['tabular_numerical_features'],\n",
    "                src_time_series_categorical_features=data['src_time_series_categorical_features'],\n",
    "                src_time_series_numerical_features=data['src_time_series_numerical_features'],\n",
    "                trg_time_series_categorical_features=data['trg_time_series_categorical_features'],\n",
    "                trg_time_series_numerical_features=data['trg_time_series_numerical_features'],\n",
    "                src_mask = None,\n",
    "                tgt_mask = None\n",
    "            )\n",
    "\n",
    "            total_loss += criterion(output, data['trg_y']).item()\n",
    "    return total_loss / (len(val_dataloader) - 1)"
   ]
  },
  {
   "cell_type": "code",
   "execution_count": 1595,
   "id": "a843a2a5",
   "metadata": {},
   "outputs": [
    {
     "name": "stdout",
     "output_type": "stream",
     "text": [
      "VAL LOSS: 445.04136959123025\n",
      "TEST LOSS: 7.590121987425251\n",
      "| epoch   0 |   200/  979 batches | lr 0.00 | ms/batch 189.75 | loss 105.6427173948288 | ppl 7586635481788383207010709013582900082094637056.00\n",
      "| epoch   0 |   400/  979 batches | lr 0.00 | ms/batch 188.59 | loss 14.795500617027283 | ppl 2664429.75\n",
      "| epoch   0 |   600/  979 batches | lr 0.00 | ms/batch 187.84 | loss 14.16089455127716 | ppl 1412532.22\n",
      "| epoch   0 |   800/  979 batches | lr 0.00 | ms/batch 187.28 | loss 13.704394474029542 | ppl 894834.87\n",
      "VAL LOSS: 11.01419613832309\n",
      "TEST LOSS: 0.17506870811368214\n"
     ]
    },
    {
     "ename": "KeyboardInterrupt",
     "evalue": "",
     "output_type": "error",
     "traceback": [
      "\u001b[0;31m---------------------------------------------------------------------------\u001b[0m",
      "\u001b[0;31mKeyboardInterrupt\u001b[0m                         Traceback (most recent call last)",
      "Cell \u001b[0;32mIn[1595], line 4\u001b[0m\n\u001b[1;32m      2\u001b[0m \u001b[38;5;28mprint\u001b[39m(\u001b[38;5;124mf\u001b[39m\u001b[38;5;124m\"\u001b[39m\u001b[38;5;124mTEST LOSS: \u001b[39m\u001b[38;5;132;01m{\u001b[39;00mevaluate(model,\u001b[38;5;250m \u001b[39mtest_dataloader)\u001b[38;5;132;01m}\u001b[39;00m\u001b[38;5;124m\"\u001b[39m)\n\u001b[1;32m      3\u001b[0m \u001b[38;5;28;01mfor\u001b[39;00m i \u001b[38;5;129;01min\u001b[39;00m \u001b[38;5;28mrange\u001b[39m(\u001b[38;5;241m0\u001b[39m, \u001b[38;5;241m300\u001b[39m):\n\u001b[0;32m----> 4\u001b[0m     \u001b[43mtrain\u001b[49m\u001b[43m(\u001b[49m\u001b[43mmodel\u001b[49m\u001b[43m,\u001b[49m\u001b[43m \u001b[49m\u001b[43mi\u001b[49m\u001b[43m)\u001b[49m\n\u001b[1;32m      5\u001b[0m     \u001b[38;5;28mprint\u001b[39m(\u001b[38;5;124mf\u001b[39m\u001b[38;5;124m\"\u001b[39m\u001b[38;5;124mVAL LOSS: \u001b[39m\u001b[38;5;132;01m{\u001b[39;00mevaluate(model,\u001b[38;5;250m \u001b[39mval_dataloader)\u001b[38;5;132;01m}\u001b[39;00m\u001b[38;5;124m\"\u001b[39m)\n\u001b[1;32m      6\u001b[0m     \u001b[38;5;28mprint\u001b[39m(\u001b[38;5;124mf\u001b[39m\u001b[38;5;124m\"\u001b[39m\u001b[38;5;124mTEST LOSS: \u001b[39m\u001b[38;5;132;01m{\u001b[39;00mevaluate(model,\u001b[38;5;250m \u001b[39mtest_dataloader)\u001b[38;5;132;01m}\u001b[39;00m\u001b[38;5;124m\"\u001b[39m)\n",
      "Cell \u001b[0;32mIn[1593], line 28\u001b[0m, in \u001b[0;36mtrain\u001b[0;34m(model, epoch)\u001b[0m\n\u001b[1;32m     26\u001b[0m optimizer\u001b[38;5;241m.\u001b[39mzero_grad()\n\u001b[1;32m     27\u001b[0m loss\u001b[38;5;241m.\u001b[39mbackward()\n\u001b[0;32m---> 28\u001b[0m \u001b[43mtorch\u001b[49m\u001b[38;5;241;43m.\u001b[39;49m\u001b[43mnn\u001b[49m\u001b[38;5;241;43m.\u001b[39;49m\u001b[43mutils\u001b[49m\u001b[38;5;241;43m.\u001b[39;49m\u001b[43mclip_grad_norm_\u001b[49m\u001b[43m(\u001b[49m\u001b[43mmodel\u001b[49m\u001b[38;5;241;43m.\u001b[39;49m\u001b[43mparameters\u001b[49m\u001b[43m(\u001b[49m\u001b[43m)\u001b[49m\u001b[43m,\u001b[49m\u001b[43m \u001b[49m\u001b[38;5;241;43m0.5\u001b[39;49m\u001b[43m)\u001b[49m\n\u001b[1;32m     29\u001b[0m optimizer\u001b[38;5;241m.\u001b[39mstep()\n\u001b[1;32m     31\u001b[0m total_loss \u001b[38;5;241m+\u001b[39m\u001b[38;5;241m=\u001b[39m loss\u001b[38;5;241m.\u001b[39mitem()\n",
      "File \u001b[0;32m~/anaconda3/envs/transformer_time_series_forecast/lib/python3.8/site-packages/torch/nn/utils/clip_grad.py:55\u001b[0m, in \u001b[0;36mclip_grad_norm_\u001b[0;34m(parameters, max_norm, norm_type, error_if_nonfinite, foreach)\u001b[0m\n\u001b[1;32m     53\u001b[0m \u001b[38;5;28;01mfor\u001b[39;00m ((device, _), ([grads], _)) \u001b[38;5;129;01min\u001b[39;00m grouped_grads\u001b[38;5;241m.\u001b[39mitems():  \u001b[38;5;66;03m# type: ignore[assignment]\u001b[39;00m\n\u001b[1;32m     54\u001b[0m     \u001b[38;5;28;01mif\u001b[39;00m (foreach \u001b[38;5;129;01mis\u001b[39;00m \u001b[38;5;28;01mNone\u001b[39;00m \u001b[38;5;129;01mor\u001b[39;00m foreach) \u001b[38;5;129;01mand\u001b[39;00m _has_foreach_support(grads, device\u001b[38;5;241m=\u001b[39mdevice):\n\u001b[0;32m---> 55\u001b[0m         norms\u001b[38;5;241m.\u001b[39mextend(\u001b[43mtorch\u001b[49m\u001b[38;5;241;43m.\u001b[39;49m\u001b[43m_foreach_norm\u001b[49m\u001b[43m(\u001b[49m\u001b[43mgrads\u001b[49m\u001b[43m,\u001b[49m\u001b[43m \u001b[49m\u001b[43mnorm_type\u001b[49m\u001b[43m)\u001b[49m)\n\u001b[1;32m     56\u001b[0m     \u001b[38;5;28;01melif\u001b[39;00m foreach:\n\u001b[1;32m     57\u001b[0m         \u001b[38;5;28;01mraise\u001b[39;00m \u001b[38;5;167;01mRuntimeError\u001b[39;00m(\u001b[38;5;124mf\u001b[39m\u001b[38;5;124m'\u001b[39m\u001b[38;5;124mforeach=True was passed, but can\u001b[39m\u001b[38;5;130;01m\\'\u001b[39;00m\u001b[38;5;124mt use the foreach API on \u001b[39m\u001b[38;5;132;01m{\u001b[39;00mdevice\u001b[38;5;241m.\u001b[39mtype\u001b[38;5;132;01m}\u001b[39;00m\u001b[38;5;124m tensors\u001b[39m\u001b[38;5;124m'\u001b[39m)\n",
      "\u001b[0;31mKeyboardInterrupt\u001b[0m: "
     ]
    }
   ],
   "source": [
    "print(f\"VAL LOSS: {evaluate(model, val_dataloader)}\")\n",
    "print(f\"TEST LOSS: {evaluate(model, test_dataloader)}\")\n",
    "for i in range(0, 300):\n",
    "    train(model, i)\n",
    "    print(f\"VAL LOSS: {evaluate(model, val_dataloader)}\")\n",
    "    print(f\"TEST LOSS: {evaluate(model, test_dataloader)}\")\n",
    "    torch.save(model.state_dict(), f\"../models/model_epoch_{i+1}.pth\")"
   ]
  },
  {
   "cell_type": "code",
   "execution_count": 1596,
   "id": "29fc5592",
   "metadata": {},
   "outputs": [
    {
     "data": {
      "text/plain": [
       "0.19080949123994803"
      ]
     },
     "execution_count": 1596,
     "metadata": {},
     "output_type": "execute_result"
    }
   ],
   "source": [
    "evaluate(model, test_dataloader)"
   ]
  },
  {
   "cell_type": "code",
   "execution_count": 1488,
   "id": "be16307b",
   "metadata": {},
   "outputs": [],
   "source": [
    "criterion = nn.HuberLoss(reduction=\"sum\")"
   ]
  },
  {
   "cell_type": "code",
   "execution_count": 1490,
   "id": "057c1997",
   "metadata": {},
   "outputs": [],
   "source": [
    "total_loss = 0"
   ]
  },
  {
   "cell_type": "code",
   "execution_count": 1525,
   "id": "ed57a575",
   "metadata": {},
   "outputs": [
    {
     "data": {
      "text/plain": [
       "torch.Size([256, 10, 6])"
      ]
     },
     "execution_count": 1525,
     "metadata": {},
     "output_type": "execute_result"
    }
   ],
   "source": [
    "data['src_time_series_numerical_features'].shape"
   ]
  },
  {
   "cell_type": "code",
   "execution_count": 1550,
   "id": "972414ac",
   "metadata": {},
   "outputs": [],
   "source": [
    "src_time_series = data['src_time_series_numerical_features'][:, :, 0]\n",
    "trg_time_series = data['trg_time_series_numerical_features'][:, :, 0]\n",
    "trg_y = data['trg_y']"
   ]
  },
  {
   "cell_type": "code",
   "execution_count": 1551,
   "id": "e3c1c8fc",
   "metadata": {},
   "outputs": [
    {
     "data": {
      "text/plain": [
       "torch.Size([10])"
      ]
     },
     "execution_count": 1551,
     "metadata": {},
     "output_type": "execute_result"
    }
   ],
   "source": [
    "src_time_series[0].shape"
   ]
  },
  {
   "cell_type": "code",
   "execution_count": 1559,
   "id": "4ad01c19",
   "metadata": {},
   "outputs": [
    {
     "name": "stderr",
     "output_type": "stream",
     "text": [
      "/Users/astonuser/anaconda3/envs/transformer_time_series_forecast/lib/python3.8/site-packages/sklearn/base.py:465: UserWarning: X does not have valid feature names, but QuantileTransformer was fitted with feature names\n",
      "  warnings.warn(\n",
      "/Users/astonuser/anaconda3/envs/transformer_time_series_forecast/lib/python3.8/site-packages/sklearn/base.py:465: UserWarning: X does not have valid feature names, but QuantileTransformer was fitted with feature names\n",
      "  warnings.warn(\n",
      "/Users/astonuser/anaconda3/envs/transformer_time_series_forecast/lib/python3.8/site-packages/sklearn/base.py:465: UserWarning: X does not have valid feature names, but QuantileTransformer was fitted with feature names\n",
      "  warnings.warn(\n"
     ]
    }
   ],
   "source": [
    "original_src_time_series = weekly_sales_quantile_transformer.inverse_transform(src_time_series[0].reshape(-1, 1))\n",
    "original_trg_time_series = weekly_sales_quantile_transformer.inverse_transform(trg_time_series[0].reshape(-1, 1))\n",
    "original_trg_y = weekly_sales_quantile_transformer.inverse_transform(trg_y[0].reshape(-1, 1))"
   ]
  },
  {
   "cell_type": "code",
   "execution_count": 1560,
   "id": "3626fb4d",
   "metadata": {},
   "outputs": [
    {
     "data": {
      "text/plain": [
       "(10, 1)"
      ]
     },
     "execution_count": 1560,
     "metadata": {},
     "output_type": "execute_result"
    }
   ],
   "source": [
    "original_enc_time_series.shape"
   ]
  },
  {
   "cell_type": "code",
   "execution_count": 1562,
   "id": "a891fd40",
   "metadata": {},
   "outputs": [
    {
     "data": {
      "text/plain": [
       "array([[57592.1272961]])"
      ]
     },
     "execution_count": 1562,
     "metadata": {},
     "output_type": "execute_result"
    }
   ],
   "source": [
    "original_trg_y"
   ]
  },
  {
   "cell_type": "code",
   "execution_count": 1575,
   "id": "244783a6",
   "metadata": {},
   "outputs": [
    {
     "data": {
      "text/plain": [
       "[<matplotlib.lines.Line2D at 0x3549a9c70>]"
      ]
     },
     "execution_count": 1575,
     "metadata": {},
     "output_type": "execute_result"
    },
    {
     "data": {
      "image/png": "[encoded data removed]",
      "text/plain": [
       "<Figure size 640x480 with 1 Axes>"
      ]
     },
     "metadata": {},
     "output_type": "display_data"
    }
   ],
   "source": []
  },
  {
   "cell_type": "code",
   "execution_count": null,
   "id": "da4796e8",
   "metadata": {},
   "outputs": [],
   "source": []
  },
  {
   "cell_type": "code",
   "execution_count": 1507,
   "id": "402d6670",
   "metadata": {
    "scrolled": true
   },
   "outputs": [
    {
     "name": "stdout",
     "output_type": "stream",
     "text": [
      "tensor([[0.8573, 0.8568, 0.8569],\n",
      "        [0.8607, 0.8601, 0.8603],\n",
      "        [0.8138, 0.8133, 0.8134],\n",
      "        [0.7793, 0.7789, 0.7790],\n",
      "        [0.7429, 0.7426, 0.7426],\n",
      "        [0.7251, 0.7247, 0.7248],\n",
      "        [0.7289, 0.7285, 0.7286],\n",
      "        [0.7263, 0.7259, 0.7260],\n",
      "        [0.7190, 0.7186, 0.7187],\n",
      "        [0.7200, 0.7196, 0.7197],\n",
      "        [0.7187, 0.7183, 0.7184],\n",
      "        [0.7143, 0.7139, 0.7140],\n",
      "        [0.7089, 0.7085, 0.7086],\n",
      "        [0.7139, 0.7135, 0.7136],\n",
      "        [0.9162, 0.9156, 0.9157],\n",
      "        [0.9102, 0.9096, 0.9098],\n",
      "        [0.9086, 0.9080, 0.9081],\n",
      "        [0.9071, 0.9065, 0.9066],\n",
      "        [0.9088, 0.9082, 0.9083],\n",
      "        [0.9078, 0.9071, 0.9073],\n",
      "        [0.9033, 0.9026, 0.9028],\n",
      "        [0.9030, 0.9024, 0.9025],\n",
      "        [0.9022, 0.9016, 0.9017],\n",
      "        [0.9032, 0.9026, 0.9027],\n",
      "        [0.9023, 0.9016, 0.9018],\n",
      "        [0.9004, 0.8998, 0.8999],\n",
      "        [0.9006, 0.9000, 0.9001],\n",
      "        [0.9016, 0.9009, 0.9011],\n",
      "        [0.5670, 0.5667, 0.5668],\n",
      "        [0.5541, 0.5538, 0.5539],\n",
      "        [0.5587, 0.5584, 0.5585],\n",
      "        [0.5571, 0.5568, 0.5569],\n",
      "        [0.5758, 0.5755, 0.5755],\n",
      "        [0.5890, 0.5887, 0.5887],\n",
      "        [0.5770, 0.5767, 0.5768],\n",
      "        [0.5703, 0.5700, 0.5701],\n",
      "        [0.5432, 0.5429, 0.5430],\n",
      "        [0.5418, 0.5414, 0.5415],\n",
      "        [0.5374, 0.5370, 0.5371],\n",
      "        [0.5250, 0.5246, 0.5247],\n",
      "        [0.5269, 0.5266, 0.5266],\n",
      "        [0.5326, 0.5323, 0.5323],\n",
      "        [0.8838, 0.8833, 0.8834],\n",
      "        [0.8794, 0.8789, 0.8790],\n",
      "        [0.8750, 0.8745, 0.8746],\n",
      "        [0.8736, 0.8730, 0.8731],\n",
      "        [0.8782, 0.8776, 0.8778],\n",
      "        [0.8711, 0.8705, 0.8706],\n",
      "        [0.8637, 0.8631, 0.8632],\n",
      "        [0.8675, 0.8669, 0.8671],\n",
      "        [0.8719, 0.8713, 0.8714],\n",
      "        [0.8755, 0.8749, 0.8751],\n",
      "        [0.8761, 0.8755, 0.8756],\n",
      "        [0.8719, 0.8713, 0.8715],\n",
      "        [0.8715, 0.8709, 0.8711],\n",
      "        [0.8787, 0.8781, 0.8783],\n",
      "        [0.8144, 0.8139, 0.8140],\n",
      "        [0.7814, 0.7810, 0.7811],\n",
      "        [0.7533, 0.7529, 0.7530],\n",
      "        [0.7418, 0.7414, 0.7415],\n",
      "        [0.7337, 0.7333, 0.7334],\n",
      "        [0.7272, 0.7268, 0.7269],\n",
      "        [0.7291, 0.7287, 0.7288],\n",
      "        [0.7343, 0.7338, 0.7339],\n",
      "        [0.6996, 0.6990, 0.6991],\n",
      "        [0.7286, 0.7280, 0.7281],\n",
      "        [0.7338, 0.7332, 0.7333],\n",
      "        [0.7468, 0.7463, 0.7464],\n",
      "        [0.7456, 0.7451, 0.7452],\n",
      "        [0.7327, 0.7322, 0.7323],\n",
      "        [0.3754, 0.3748, 0.3749],\n",
      "        [0.3784, 0.3778, 0.3779],\n",
      "        [0.3610, 0.3604, 0.3605],\n",
      "        [0.3490, 0.3484, 0.3485],\n",
      "        [0.3633, 0.3627, 0.3628],\n",
      "        [0.3489, 0.3482, 0.3484],\n",
      "        [0.3912, 0.3906, 0.3907],\n",
      "        [0.4047, 0.4041, 0.4042],\n",
      "        [0.3720, 0.3715, 0.3716],\n",
      "        [0.3917, 0.3912, 0.3913],\n",
      "        [0.3750, 0.3745, 0.3746],\n",
      "        [0.3789, 0.3784, 0.3785],\n",
      "        [0.3919, 0.3913, 0.3914],\n",
      "        [0.3540, 0.3535, 0.3536],\n",
      "        [0.7434, 0.7428, 0.7429],\n",
      "        [0.7624, 0.7622, 0.7622],\n",
      "        [0.7373, 0.7370, 0.7371],\n",
      "        [0.7338, 0.7335, 0.7336],\n",
      "        [0.7385, 0.7382, 0.7382],\n",
      "        [0.7450, 0.7447, 0.7447],\n",
      "        [0.7371, 0.7370, 0.7370],\n",
      "        [0.7678, 0.7676, 0.7676],\n",
      "        [0.7878, 0.7876, 0.7876],\n",
      "        [0.7971, 0.7969, 0.7969],\n",
      "        [0.7888, 0.7881, 0.7882],\n",
      "        [0.7758, 0.7754, 0.7754],\n",
      "        [0.7664, 0.7660, 0.7660],\n",
      "        [0.7684, 0.7681, 0.7681],\n",
      "        [0.8375, 0.8368, 0.8369],\n",
      "        [0.8624, 0.8615, 0.8617],\n",
      "        [0.8612, 0.8602, 0.8604],\n",
      "        [0.8630, 0.8620, 0.8622],\n",
      "        [0.8676, 0.8667, 0.8669],\n",
      "        [0.8643, 0.8633, 0.8636],\n",
      "        [0.8473, 0.8459, 0.8462],\n",
      "        [0.8500, 0.8487, 0.8490],\n",
      "        [0.8525, 0.8511, 0.8514],\n",
      "        [0.8542, 0.8528, 0.8531],\n",
      "        [0.8363, 0.8350, 0.8353],\n",
      "        [0.8504, 0.8496, 0.8498],\n",
      "        [0.8479, 0.8470, 0.8472],\n",
      "        [0.8525, 0.8517, 0.8519],\n",
      "        [0.8653, 0.8643, 0.8645],\n",
      "        [0.8245, 0.8231, 0.8234],\n",
      "        [0.8165, 0.8156, 0.8158],\n",
      "        [0.8038, 0.8030, 0.8032],\n",
      "        [0.7990, 0.7982, 0.7984],\n",
      "        [0.7903, 0.7895, 0.7897],\n",
      "        [0.8506, 0.8514, 0.8511],\n",
      "        [0.8541, 0.8549, 0.8547],\n",
      "        [0.8665, 0.8673, 0.8670],\n",
      "        [0.8666, 0.8674, 0.8672],\n",
      "        [0.8309, 0.8302, 0.8303],\n",
      "        [0.7826, 0.7813, 0.7816],\n",
      "        [0.7679, 0.7667, 0.7669],\n",
      "        [0.7788, 0.7775, 0.7778],\n",
      "        [0.8216, 0.8201, 0.8204],\n",
      "        [0.8123, 0.8109, 0.8112],\n",
      "        [0.7999, 0.7994, 0.7995],\n",
      "        [0.7866, 0.7861, 0.7863],\n",
      "        [0.7933, 0.7928, 0.7929],\n",
      "        [0.7937, 0.7932, 0.7933],\n",
      "        [0.8011, 0.7998, 0.8001],\n",
      "        [0.8082, 0.8069, 0.8071],\n",
      "        [0.8147, 0.8134, 0.8136],\n",
      "        [0.8173, 0.8159, 0.8162],\n",
      "        [0.8518, 0.8509, 0.8511],\n",
      "        [0.8277, 0.8271, 0.8273],\n",
      "        [0.8243, 0.8236, 0.8238],\n",
      "        [0.8337, 0.8330, 0.8332],\n",
      "        [0.7880, 0.7877, 0.7877],\n",
      "        [0.7440, 0.7431, 0.7432],\n",
      "        [0.7464, 0.7459, 0.7459],\n",
      "        [0.7364, 0.7358, 0.7359],\n",
      "        [0.7551, 0.7545, 0.7546],\n",
      "        [0.7654, 0.7647, 0.7648],\n",
      "        [0.7854, 0.7848, 0.7849],\n",
      "        [0.7955, 0.7948, 0.7950],\n",
      "        [0.8037, 0.8030, 0.8031],\n",
      "        [0.8145, 0.8137, 0.8139],\n",
      "        [0.8215, 0.8207, 0.8209],\n",
      "        [0.8094, 0.8095, 0.8094],\n",
      "        [0.8401, 0.8400, 0.8399],\n",
      "        [0.8383, 0.8383, 0.8382],\n",
      "        [0.6023, 0.6028, 0.6026],\n",
      "        [0.5918, 0.5923, 0.5921],\n",
      "        [0.6009, 0.6013, 0.6011],\n",
      "        [0.6018, 0.6023, 0.6021],\n",
      "        [0.6106, 0.6111, 0.6109],\n",
      "        [0.6101, 0.6105, 0.6103],\n",
      "        [0.5803, 0.5804, 0.5803],\n",
      "        [0.5928, 0.5929, 0.5928],\n",
      "        [0.5959, 0.5959, 0.5959],\n",
      "        [0.5821, 0.5824, 0.5822],\n",
      "        [0.5858, 0.5860, 0.5859],\n",
      "        [0.5672, 0.5675, 0.5673],\n",
      "        [0.5774, 0.5776, 0.5775],\n",
      "        [0.5859, 0.5858, 0.5857],\n",
      "        [0.8523, 0.8513, 0.8514],\n",
      "        [0.8496, 0.8485, 0.8487],\n",
      "        [0.8452, 0.8433, 0.8436],\n",
      "        [0.8453, 0.8445, 0.8446],\n",
      "        [0.8501, 0.8493, 0.8494],\n",
      "        [0.8461, 0.8453, 0.8454],\n",
      "        [0.8407, 0.8399, 0.8400],\n",
      "        [0.8403, 0.8395, 0.8397],\n",
      "        [0.8426, 0.8418, 0.8420],\n",
      "        [0.8469, 0.8461, 0.8463],\n",
      "        [0.8441, 0.8434, 0.8435],\n",
      "        [0.8426, 0.8419, 0.8420],\n",
      "        [0.8429, 0.8422, 0.8423],\n",
      "        [0.8473, 0.8466, 0.8467],\n",
      "        [0.6311, 0.6307, 0.6308],\n",
      "        [0.6364, 0.6360, 0.6361],\n",
      "        [0.6315, 0.6311, 0.6312],\n",
      "        [0.6350, 0.6346, 0.6347],\n",
      "        [0.6439, 0.6435, 0.6436],\n",
      "        [0.6458, 0.6454, 0.6454],\n",
      "        [0.6550, 0.6546, 0.6546],\n",
      "        [0.6457, 0.6454, 0.6454],\n",
      "        [0.6421, 0.6418, 0.6418],\n",
      "        [0.6247, 0.6244, 0.6245],\n",
      "        [0.6429, 0.6418, 0.6420],\n",
      "        [0.6373, 0.6363, 0.6365],\n",
      "        [0.6567, 0.6556, 0.6558],\n",
      "        [0.6829, 0.6818, 0.6820],\n",
      "        [0.8898, 0.8884, 0.8887],\n",
      "        [0.8919, 0.8905, 0.8908],\n",
      "        [0.8810, 0.8795, 0.8799],\n",
      "        [0.8709, 0.8695, 0.8698],\n",
      "        [0.8675, 0.8661, 0.8664],\n",
      "        [0.8544, 0.8530, 0.8533],\n",
      "        [0.8459, 0.8446, 0.8449],\n",
      "        [0.8519, 0.8505, 0.8508],\n",
      "        [0.8570, 0.8557, 0.8560],\n",
      "        [0.8431, 0.8418, 0.8421],\n",
      "        [0.8328, 0.8315, 0.8318],\n",
      "        [0.8308, 0.8295, 0.8298],\n",
      "        [0.8294, 0.8281, 0.8284],\n",
      "        [0.8411, 0.8398, 0.8401],\n",
      "        [0.5270, 0.5260, 0.5262],\n",
      "        [0.5065, 0.5054, 0.5057],\n",
      "        [0.5182, 0.5172, 0.5174],\n",
      "        [0.5142, 0.5132, 0.5134],\n",
      "        [0.5239, 0.5229, 0.5231],\n",
      "        [0.5246, 0.5236, 0.5238],\n",
      "        [0.5333, 0.5323, 0.5325],\n",
      "        [0.5197, 0.5187, 0.5189],\n",
      "        [0.5058, 0.5048, 0.5050],\n",
      "        [0.5176, 0.5165, 0.5168],\n",
      "        [0.4943, 0.4933, 0.4935],\n",
      "        [0.4962, 0.4952, 0.4954],\n",
      "        [0.5096, 0.5086, 0.5088],\n",
      "        [0.5084, 0.5074, 0.5076],\n",
      "        [0.4477, 0.4466, 0.4469],\n",
      "        [0.4459, 0.4448, 0.4450],\n",
      "        [0.3125, 0.3114, 0.3117],\n",
      "        [0.2245, 0.2233, 0.2236],\n",
      "        [0.1248, 0.1234, 0.1237],\n",
      "        [0.0711, 0.0695, 0.0699],\n",
      "        [0.0649, 0.0634, 0.0637],\n",
      "        [0.0643, 0.0627, 0.0630],\n",
      "        [0.2044, 0.2031, 0.2034],\n",
      "        [0.1950, 0.1937, 0.1940],\n",
      "        [0.2033, 0.2020, 0.2023],\n",
      "        [0.1866, 0.1853, 0.1856],\n",
      "        [0.2003, 0.1990, 0.1993],\n",
      "        [0.2265, 0.2253, 0.2256],\n",
      "        [0.2270, 0.2257, 0.2260],\n",
      "        [0.2263, 0.2250, 0.2253],\n",
      "        [0.2333, 0.2321, 0.2323],\n",
      "        [0.2270, 0.2257, 0.2260],\n",
      "        [0.2153, 0.2140, 0.2143],\n",
      "        [0.2197, 0.2185, 0.2188],\n",
      "        [0.2150, 0.2137, 0.2140],\n",
      "        [0.2174, 0.2161, 0.2164],\n",
      "        [0.3899, 0.3889, 0.3891],\n",
      "        [0.3684, 0.3674, 0.3676],\n",
      "        [0.3765, 0.3755, 0.3757],\n",
      "        [0.3833, 0.3822, 0.3825],\n",
      "        [0.3903, 0.3892, 0.3895],\n",
      "        [0.3948, 0.3938, 0.3940],\n",
      "        [0.4080, 0.4070, 0.4072],\n",
      "        [0.4033, 0.4023, 0.4025],\n",
      "        [0.3979, 0.3969, 0.3971],\n",
      "        [0.4056, 0.4046, 0.4048]], grad_fn=<AddmmBackward0>) 0.6766191720962524\n"
     ]
    }
   ],
   "source": [
    "total_loss = 0\n",
    "for i, data in enumerate(val_dataloader):\n",
    "    data['src_time_series_numerical_features']\n",
    "    \n",
    "    output = model(\n",
    "                tabular_categorical_features=data['tabular_categorical_features'],\n",
    "                tabular_numerical_features=data['tabular_numerical_features'],\n",
    "                src_time_series_categorical_features=data['src_time_series_categorical_features'],\n",
    "                src_time_series_numerical_features=data['src_time_series_numerical_features'],\n",
    "                trg_time_series_categorical_features=data['trg_time_series_categorical_features'],\n",
    "                trg_time_series_numerical_features=data['trg_time_series_numerical_features'],\n",
    "                src_mask = None,\n",
    "                tgt_mask = None\n",
    "            )\n",
    "\n",
    "    total_loss += criterion(output, data['trg_y']).item()\n",
    "    \n",
    "    plt.plot()\n",
    "    \n",
    "    break"
   ]
  },
  {
   "cell_type": "code",
   "execution_count": 1578,
   "id": "bad07021",
   "metadata": {},
   "outputs": [
    {
     "data": {
      "text/plain": [
       "torch.Size([3])"
      ]
     },
     "execution_count": 1578,
     "metadata": {},
     "output_type": "execute_result"
    }
   ],
   "source": [
    "output[0].shape"
   ]
  },
  {
   "cell_type": "code",
   "execution_count": 1581,
   "id": "550c2463",
   "metadata": {
    "scrolled": true
   },
   "outputs": [
    {
     "name": "stderr",
     "output_type": "stream",
     "text": [
      "/Users/astonuser/anaconda3/envs/transformer_time_series_forecast/lib/python3.8/site-packages/sklearn/base.py:465: UserWarning: X does not have valid feature names, but QuantileTransformer was fitted with feature names\n",
      "  warnings.warn(\n"
     ]
    }
   ],
   "source": [
    "original_output = weekly_sales_quantile_transformer.inverse_transform(output[0].detach().numpy().reshape(-1, 1))\n"
   ]
  },
  {
   "cell_type": "code",
   "execution_count": 1582,
   "id": "a634c4fa",
   "metadata": {},
   "outputs": [
    {
     "data": {
      "text/plain": [
       "array([[35173.832],\n",
       "       [35105.652],\n",
       "       [35122.37 ]], dtype=float32)"
      ]
     },
     "execution_count": 1582,
     "metadata": {},
     "output_type": "execute_result"
    }
   ],
   "source": [
    "original_output"
   ]
  },
  {
   "cell_type": "code",
   "execution_count": 1585,
   "id": "5105c12a",
   "metadata": {},
   "outputs": [
    {
     "data": {
      "text/plain": [
       "[<matplotlib.lines.Line2D at 0x351b9fc70>]"
      ]
     },
     "execution_count": 1585,
     "metadata": {},
     "output_type": "execute_result"
    },
    {
     "data": {
      "image/png": "[encoded data removed]",
      "text/plain": [
       "<Figure size 640x480 with 1 Axes>"
      ]
     },
     "metadata": {},
     "output_type": "display_data"
    }
   ],
   "source": [
    "plt.plot(original_src_time_series)\n",
    "plt.plot([9, 10, 11, 12], original_trg_time_series)\n",
    "plt.plot([13], original_trg_y, 'yo')\n",
    "plt.plot([14], original_output[0], 'ro')\n",
    "plt.plot([14], original_output[1], 'ro')\n",
    "plt.plot([14], original_output[2], 'ro')\n",
    "#'ro'"
   ]
  },
  {
   "cell_type": "code",
   "execution_count": null,
   "id": "7aeb7b0b",
   "metadata": {},
   "outputs": [],
   "source": []
  },
  {
   "cell_type": "code",
   "execution_count": null,
   "id": "0328f0f6",
   "metadata": {},
   "outputs": [],
   "source": []
  },
  {
   "cell_type": "code",
   "execution_count": null,
   "id": "4bfb70e9",
   "metadata": {},
   "outputs": [],
   "source": []
  },
  {
   "cell_type": "code",
   "execution_count": null,
   "id": "b70aa796",
   "metadata": {},
   "outputs": [],
   "source": []
  },
  {
   "cell_type": "code",
   "execution_count": null,
   "id": "b7ac856b",
   "metadata": {},
   "outputs": [],
   "source": []
  },
  {
   "cell_type": "code",
   "execution_count": null,
   "id": "609f67cf",
   "metadata": {},
   "outputs": [],
   "source": []
  },
  {
   "cell_type": "code",
   "execution_count": null,
   "id": "1a547e4b",
   "metadata": {},
   "outputs": [],
   "source": []
  },
  {
   "cell_type": "code",
   "execution_count": null,
   "id": "df48dfb9",
   "metadata": {},
   "outputs": [],
   "source": []
  },
  {
   "cell_type": "code",
   "execution_count": null,
   "id": "58268533",
   "metadata": {},
   "outputs": [],
   "source": []
  },
  {
   "cell_type": "code",
   "execution_count": null,
   "id": "75f792d4",
   "metadata": {},
   "outputs": [],
   "source": []
  },
  {
   "cell_type": "code",
   "execution_count": 1139,
   "id": "943ac521",
   "metadata": {},
   "outputs": [],
   "source": [
    "tabular_cat_features_size = 2\n",
    "tabular_features_possible_nums = [45, 81]\n",
    "d_model = 32"
   ]
  },
  {
   "cell_type": "code",
   "execution_count": null,
   "id": "b2e66ab2",
   "metadata": {},
   "outputs": [],
   "source": []
  },
  {
   "cell_type": "code",
   "execution_count": 1243,
   "id": "5e836301",
   "metadata": {},
   "outputs": [],
   "source": [
    "tabular_cat_embeddings = torch.stack([tabular_features_embeddings[cat_feature_i](data['tabular_categorical_features'][:, cat_feature_i].long())\n",
    "             for cat_feature_i in range(data['tabular_categorical_features'].shape[1])], dim=0)"
   ]
  },
  {
   "cell_type": "code",
   "execution_count": 1245,
   "id": "e694f5b7",
   "metadata": {},
   "outputs": [
    {
     "data": {
      "text/plain": [
       "torch.Size([5, 1])"
      ]
     },
     "execution_count": 1245,
     "metadata": {},
     "output_type": "execute_result"
    }
   ],
   "source": [
    "data['tabular_numerical_features'].shape"
   ]
  },
  {
   "cell_type": "code",
   "execution_count": 1143,
   "id": "a373c3cb",
   "metadata": {},
   "outputs": [],
   "source": [
    "data['tabular_numerical_features'] = data['tabular_numerical_features'].reshape(1, 5, 1)"
   ]
  },
  {
   "cell_type": "code",
   "execution_count": 1144,
   "id": "8f8d2e86",
   "metadata": {},
   "outputs": [
    {
     "data": {
      "text/plain": [
       "torch.Size([1, 5, 1])"
      ]
     },
     "execution_count": 1144,
     "metadata": {},
     "output_type": "execute_result"
    }
   ],
   "source": [
    "data['tabular_numerical_features'].shape"
   ]
  },
  {
   "cell_type": "code",
   "execution_count": 1146,
   "id": "b81bad40",
   "metadata": {},
   "outputs": [],
   "source": [
    "class FeedForwardLayer(torch.nn.Module):\n",
    "    def __init__(\n",
    "            self,\n",
    "            input_size=1,\n",
    "            hidden_size=32,\n",
    "            output_size=32\n",
    "    ):\n",
    "        super(FeedForwardLayer, self).__init__()\n",
    "        self.fc1 = nn.Linear(input_size, hidden_size)\n",
    "        self.relu = nn.ReLU()\n",
    "        self.fc2 = nn.Linear(hidden_size, output_size)\n",
    "\n",
    "    def forward(self, x):\n",
    "        x = self.fc1(x)\n",
    "        x = self.relu(x)\n",
    "        x = self.fc2(x)\n",
    "        return x"
   ]
  },
  {
   "cell_type": "code",
   "execution_count": 1147,
   "id": "2ad8ee2f",
   "metadata": {},
   "outputs": [],
   "source": [
    "ffn = FeedForwardLayer()"
   ]
  },
  {
   "cell_type": "code",
   "execution_count": 1148,
   "id": "60f7a7a5",
   "metadata": {},
   "outputs": [],
   "source": [
    "tabular_num_features = ffn(data['tabular_numerical_features'])"
   ]
  },
  {
   "cell_type": "code",
   "execution_count": 1149,
   "id": "ce45b7d1",
   "metadata": {},
   "outputs": [
    {
     "data": {
      "text/plain": [
       "torch.Size([1, 5, 32])"
      ]
     },
     "execution_count": 1149,
     "metadata": {},
     "output_type": "execute_result"
    }
   ],
   "source": [
    "tabular_num_features.shape"
   ]
  },
  {
   "cell_type": "code",
   "execution_count": 1150,
   "id": "a28dcb12",
   "metadata": {},
   "outputs": [],
   "source": [
    "time_series_cat_features_size = 1\n",
    "time_series_cat_features_possible_nums = torch.IntTensor([2])\n",
    "time_series_cat_features_embeddings_dim = 26"
   ]
  },
  {
   "cell_type": "code",
   "execution_count": 1151,
   "id": "5a43aa5c",
   "metadata": {},
   "outputs": [],
   "source": [
    "time_series_cat_features_embeddings_table = nn.ModuleList(\n",
    "            [nn.Embedding(num_embeddings=time_series_cat_features_possible_nums[cat_feature_i], embedding_dim=time_series_cat_features_embeddings_dim)\n",
    "             for cat_feature_i in range(time_series_cat_features_size)]\n",
    ")"
   ]
  },
  {
   "cell_type": "code",
   "execution_count": 1246,
   "id": "40857760",
   "metadata": {},
   "outputs": [
    {
     "data": {
      "text/plain": [
       "torch.Size([5, 10])"
      ]
     },
     "execution_count": 1246,
     "metadata": {},
     "output_type": "execute_result"
    }
   ],
   "source": [
    "data['src_time_series_categorical_features'].shape"
   ]
  },
  {
   "cell_type": "code",
   "execution_count": 1289,
   "id": "49f0ec16",
   "metadata": {},
   "outputs": [],
   "source": [
    "data['src_time_series_categorical_features'] = data['src_time_series_categorical_features'].reshape(10, 5, -1)"
   ]
  },
  {
   "cell_type": "code",
   "execution_count": 1290,
   "id": "a7958a76",
   "metadata": {},
   "outputs": [],
   "source": [
    "batch_size = data['src_time_series_categorical_features'].shape[0]"
   ]
  },
  {
   "cell_type": "code",
   "execution_count": 1291,
   "id": "80d0c458",
   "metadata": {},
   "outputs": [
    {
     "data": {
      "text/plain": [
       "torch.Size([10, 5, 1])"
      ]
     },
     "execution_count": 1291,
     "metadata": {},
     "output_type": "execute_result"
    }
   ],
   "source": [
    "data['src_time_series_categorical_features'].shape"
   ]
  },
  {
   "cell_type": "code",
   "execution_count": 1292,
   "id": "59ec2cba",
   "metadata": {},
   "outputs": [],
   "source": [
    "time_series_cat_features=torch.cat([time_series_cat_features_embeddings_table[cat_feature_i](data['src_time_series_categorical_features'][:, :, cat_feature_i].long())\n",
    "             for cat_feature_i in range(data['src_time_series_categorical_features'].shape[-1])], dim=-1)\n",
    "    "
   ]
  },
  {
   "cell_type": "code",
   "execution_count": 1293,
   "id": "caa91437",
   "metadata": {
    "scrolled": true
   },
   "outputs": [
    {
     "data": {
      "text/plain": [
       "torch.Size([10, 5, 26])"
      ]
     },
     "execution_count": 1293,
     "metadata": {},
     "output_type": "execute_result"
    }
   ],
   "source": [
    "time_series_cat_features.shape"
   ]
  },
  {
   "cell_type": "code",
   "execution_count": 1265,
   "id": "9b66e007",
   "metadata": {},
   "outputs": [],
   "source": [
    "time_series_num_features = data['src_time_series_numerical_features'].reshape(10, 5, -1)"
   ]
  },
  {
   "cell_type": "code",
   "execution_count": 1266,
   "id": "25dbc980",
   "metadata": {
    "scrolled": true
   },
   "outputs": [
    {
     "data": {
      "text/plain": [
       "torch.Size([10, 5, 6])"
      ]
     },
     "execution_count": 1266,
     "metadata": {},
     "output_type": "execute_result"
    }
   ],
   "source": [
    "time_series_num_features.shape"
   ]
  },
  {
   "cell_type": "code",
   "execution_count": 1267,
   "id": "28b57dc2",
   "metadata": {},
   "outputs": [
    {
     "name": "stdout",
     "output_type": "stream",
     "text": [
      "torch.Size([2, 5, 32])\n",
      "torch.Size([1, 5, 32])\n",
      "torch.Size([10, 5, 26])\n",
      "torch.Size([10, 5, 6])\n"
     ]
    }
   ],
   "source": [
    "print(tabular_cat_embeddings.shape)\n",
    "print(tabular_num_features.shape)\n",
    "print(time_series_cat_features.shape)\n",
    "print(time_series_num_features.shape)"
   ]
  },
  {
   "cell_type": "code",
   "execution_count": 1268,
   "id": "f43b929a",
   "metadata": {},
   "outputs": [],
   "source": [
    "tabular_embeddings = torch.cat([tabular_cat_embeddings, tabular_num_features], dim=0)"
   ]
  },
  {
   "cell_type": "code",
   "execution_count": 1269,
   "id": "16a7c4fe",
   "metadata": {
    "scrolled": true
   },
   "outputs": [
    {
     "data": {
      "text/plain": [
       "torch.Size([3, 5, 32])"
      ]
     },
     "execution_count": 1269,
     "metadata": {},
     "output_type": "execute_result"
    }
   ],
   "source": [
    "tabular_embeddings.shape"
   ]
  },
  {
   "cell_type": "code",
   "execution_count": 1273,
   "id": "22e7614d",
   "metadata": {},
   "outputs": [
    {
     "name": "stdout",
     "output_type": "stream",
     "text": [
      "torch.Size([10, 5, 6])\n"
     ]
    }
   ],
   "source": [
    "print(time_series_num_features.shape)"
   ]
  },
  {
   "cell_type": "code",
   "execution_count": 1270,
   "id": "d900e35a",
   "metadata": {},
   "outputs": [],
   "source": [
    "time_series_embeddings = torch.cat([time_series_cat_features, time_series_num_features], dim=-1)"
   ]
  },
  {
   "cell_type": "code",
   "execution_count": 1271,
   "id": "b1189d80",
   "metadata": {},
   "outputs": [
    {
     "data": {
      "text/plain": [
       "torch.Size([10, 5, 32])"
      ]
     },
     "execution_count": 1271,
     "metadata": {},
     "output_type": "execute_result"
    }
   ],
   "source": [
    "time_series_embeddings.shape"
   ]
  },
  {
   "cell_type": "code",
   "execution_count": 1215,
   "id": "359f26fe",
   "metadata": {},
   "outputs": [],
   "source": [
    "column_embedding_table = torch.nn.Embedding(num_embeddings=3 + 1, embedding_dim=32)\n",
    "positional_embedding_table = torch.nn.Embedding(num_embeddings=10 + 1, embedding_dim=32)"
   ]
  },
  {
   "cell_type": "code",
   "execution_count": 1216,
   "id": "f5ea3cc8",
   "metadata": {},
   "outputs": [
    {
     "data": {
      "text/plain": [
       "torch.Size([3, 5, 32])"
      ]
     },
     "execution_count": 1216,
     "metadata": {},
     "output_type": "execute_result"
    }
   ],
   "source": [
    "tabular_embeddings.shape"
   ]
  },
  {
   "cell_type": "code",
   "execution_count": 1217,
   "id": "a856ff58",
   "metadata": {},
   "outputs": [
    {
     "data": {
      "text/plain": [
       "torch.Size([5, 10, 32])"
      ]
     },
     "execution_count": 1217,
     "metadata": {},
     "output_type": "execute_result"
    }
   ],
   "source": [
    "time_series_embeddings.shape"
   ]
  },
  {
   "cell_type": "code",
   "execution_count": 1218,
   "id": "015ad983",
   "metadata": {},
   "outputs": [
    {
     "data": {
      "text/plain": [
       "tensor([[ 0.4668,  0.3048,  0.2959, -0.3498,  1.1223, -2.4230, -0.3287, -0.1352,\n",
       "         -1.5053,  0.3417,  0.4774,  1.0340,  0.5035, -0.6018,  1.7864, -0.8862,\n",
       "          0.9633,  1.8013, -0.1006,  0.4067,  1.1611,  1.1968, -0.0766,  0.6571,\n",
       "          1.4259,  0.2372, -1.3344, -0.3572,  0.9219,  0.7024, -0.9807,  1.0322]],\n",
       "       grad_fn=<EmbeddingBackward0>)"
      ]
     },
     "execution_count": 1218,
     "metadata": {},
     "output_type": "execute_result"
    }
   ],
   "source": [
    "column_embedding_table(torch.IntTensor([0]))"
   ]
  },
  {
   "cell_type": "code",
   "execution_count": 1219,
   "id": "dd851679",
   "metadata": {},
   "outputs": [],
   "source": [
    "time_series_embeddings += column_embedding_table(torch.IntTensor([0]))\n",
    "for step_i in range(len(time_series_embeddings)):\n",
    "    time_series_embeddings[step_i] += positional_embedding_table(torch.IntTensor([step_i + 1]))"
   ]
  },
  {
   "cell_type": "code",
   "execution_count": 1220,
   "id": "1aa63997",
   "metadata": {},
   "outputs": [],
   "source": [
    "tabular_embeddings += positional_embedding_table(torch.IntTensor([0]))\n",
    "for column_i in range(len(tabular_embeddings)):\n",
    "    tabular_embeddings[column_i] += column_embedding_table(torch.IntTensor([column_i + 1]))"
   ]
  },
  {
   "cell_type": "code",
   "execution_count": null,
   "id": "2a12b88f",
   "metadata": {},
   "outputs": [],
   "source": []
  },
  {
   "cell_type": "code",
   "execution_count": 1221,
   "id": "adda33c6",
   "metadata": {},
   "outputs": [],
   "source": [
    "time_series_embeddings = time_series_embeddings.reshape(5, 10, -1)"
   ]
  },
  {
   "cell_type": "code",
   "execution_count": 1222,
   "id": "8b1abee2",
   "metadata": {},
   "outputs": [
    {
     "data": {
      "text/plain": [
       "torch.Size([5, 10, 32])"
      ]
     },
     "execution_count": 1222,
     "metadata": {},
     "output_type": "execute_result"
    }
   ],
   "source": [
    "time_series_embeddings.shape"
   ]
  },
  {
   "cell_type": "code",
   "execution_count": 1223,
   "id": "b5d6b109",
   "metadata": {},
   "outputs": [],
   "source": [
    "tabular_embeddings = tabular_embeddings.reshape(5, 3, -1)"
   ]
  },
  {
   "cell_type": "code",
   "execution_count": 1224,
   "id": "6feb39f9",
   "metadata": {},
   "outputs": [
    {
     "data": {
      "text/plain": [
       "torch.Size([5, 3, 32])"
      ]
     },
     "execution_count": 1224,
     "metadata": {},
     "output_type": "execute_result"
    }
   ],
   "source": [
    "tabular_embeddings.shape"
   ]
  },
  {
   "cell_type": "code",
   "execution_count": 1249,
   "id": "5408d627",
   "metadata": {
    "scrolled": true
   },
   "outputs": [],
   "source": [
    "catt = torch.cat([tabular_embeddings, time_series_embeddings], dim=1).reshape(batch_size, -1)"
   ]
  },
  {
   "cell_type": "code",
   "execution_count": 1250,
   "id": "b3b023c2",
   "metadata": {},
   "outputs": [
    {
     "data": {
      "text/plain": [
       "torch.Size([5, 416])"
      ]
     },
     "execution_count": 1250,
     "metadata": {},
     "output_type": "execute_result"
    }
   ],
   "source": [
    "catt.shape"
   ]
  },
  {
   "cell_type": "code",
   "execution_count": null,
   "id": "1555d794",
   "metadata": {},
   "outputs": [],
   "source": []
  }
 ],
 "metadata": {
  "kernelspec": {
   "display_name": "Python 3 (ipykernel)",
   "language": "python",
   "name": "python3"
  },
  "language_info": {
   "codemirror_mode": {
    "name": "ipython",
    "version": 3
   },
   "file_extension": ".py",
   "mimetype": "text/x-python",
   "name": "python",
   "nbconvert_exporter": "python",
   "pygments_lexer": "ipython3",
   "version": "3.8.18"
  }
 },
 "nbformat": 4,
 "nbformat_minor": 5
}

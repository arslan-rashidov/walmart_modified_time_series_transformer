{
 "cells": [
  {
   "cell_type": "code",
   "execution_count": 1,
   "id": "ca96964c",
   "metadata": {},
   "outputs": [],
   "source": [
    "import torch"
   ]
  },
  {
   "cell_type": "code",
   "execution_count": null,
   "id": "c3710490",
   "metadata": {},
   "outputs": [],
   "source": [
    "tabular_features_embedding = nn.Embedding(\n",
    "            num_embeddings=tabular_features_cat,\n",
    "            embedding_dim=d_model\n",
    ")"
   ]
  }
 ],
 "metadata": {
  "kernelspec": {
   "display_name": "Python 3 (ipykernel)",
   "language": "python",
   "name": "python3"
  },
  "language_info": {
   "codemirror_mode": {
    "name": "ipython",
    "version": 3
   },
   "file_extension": ".py",
   "mimetype": "text/x-python",
   "name": "python",
   "nbconvert_exporter": "python",
   "pygments_lexer": "ipython3",
   "version": "3.8.18"
  }
 },
 "nbformat": 4,
 "nbformat_minor": 5
}
